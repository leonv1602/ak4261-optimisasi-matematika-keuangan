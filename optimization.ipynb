{
 "cells": [
  {
   "cell_type": "code",
   "execution_count": 2,
   "metadata": {},
   "outputs": [],
   "source": [
    "import numpy as np \n",
    "import pandas as pd \n",
    "import matplotlib.pyplot as plt \n",
    "import yfinance as yf\n",
    "import yahoofinancials\n",
    "import seaborn as sn\n",
    "from scipy.stats import anderson,kstest,shapiro, probplot"
   ]
  },
  {
   "cell_type": "code",
   "execution_count": 5,
   "metadata": {},
   "outputs": [],
   "source": [
    "stock = 'TLKM.JK'\n",
    "tlkm = yf.Ticker(stock).history(period = '2y', interval = '1mo',actions=False)\n",
    "tlkm.dropna(inplace = True)\n",
    "tlkm['log_return'] = np.log(tlkm['Close']) - np.log(tlkm['Close'].shift(1))\n",
    "tlkm['log_return'].dropna(inplace = True)\n",
    "\n",
    "stock = 'BBNI.JK'\n",
    "bbni = yf.Ticker(stock).history(period = '2y', interval = '1mo',actions=False)\n",
    "bbni.dropna(inplace = True)\n",
    "bbni['log_return'] = np.log(bbni['Close']) - np.log(bbni['Close'].shift(1))\n",
    "bbni['log_return'].dropna(inplace = True)\n",
    "bbni['log_return']\n",
    "\n",
    "stock = 'ASII.JK'\n",
    "asii = yf.Ticker(stock).history(period = '2y', interval = '1mo',actions=False)\n",
    "asii.dropna(inplace = True)\n",
    "asii['log_return'] = np.log(asii['Close']) - np.log(asii['Close'].shift(1))\n",
    "asii['log_return'].dropna(inplace = True)\n",
    "asii['log_return']\n",
    "\n",
    "df = pd.concat([tlkm['log_return'],bbni['log_return'],asii['log_return']], axis = 1, keys =['tlkm', 'bbni', 'asii']).dropna()\n",
    "df = df[:-1]"
   ]
  },
  {
   "cell_type": "code",
   "execution_count": 7,
   "metadata": {},
   "outputs": [
    {
     "data": {
      "text/plain": [
       "tlkm    0.019182\n",
       "bbni    0.032105\n",
       "asii    0.017229\n",
       "dtype: float64"
      ]
     },
     "execution_count": 7,
     "metadata": {},
     "output_type": "execute_result"
    }
   ],
   "source": [
    "df.mean()"
   ]
  },
  {
   "cell_type": "code",
   "execution_count": 8,
   "metadata": {},
   "outputs": [
    {
     "data": {
      "text/html": [
       "<div>\n",
       "<style scoped>\n",
       "    .dataframe tbody tr th:only-of-type {\n",
       "        vertical-align: middle;\n",
       "    }\n",
       "\n",
       "    .dataframe tbody tr th {\n",
       "        vertical-align: top;\n",
       "    }\n",
       "\n",
       "    .dataframe thead th {\n",
       "        text-align: right;\n",
       "    }\n",
       "</style>\n",
       "<table border=\"1\" class=\"dataframe\">\n",
       "  <thead>\n",
       "    <tr style=\"text-align: right;\">\n",
       "      <th></th>\n",
       "      <th>tlkm</th>\n",
       "      <th>bbni</th>\n",
       "      <th>asii</th>\n",
       "    </tr>\n",
       "  </thead>\n",
       "  <tbody>\n",
       "    <tr>\n",
       "      <th>tlkm</th>\n",
       "      <td>0.006196</td>\n",
       "      <td>0.004734</td>\n",
       "      <td>-0.000863</td>\n",
       "    </tr>\n",
       "    <tr>\n",
       "      <th>bbni</th>\n",
       "      <td>0.004734</td>\n",
       "      <td>0.011494</td>\n",
       "      <td>0.001603</td>\n",
       "    </tr>\n",
       "    <tr>\n",
       "      <th>asii</th>\n",
       "      <td>-0.000863</td>\n",
       "      <td>0.001603</td>\n",
       "      <td>0.007762</td>\n",
       "    </tr>\n",
       "  </tbody>\n",
       "</table>\n",
       "</div>"
      ],
      "text/plain": [
       "          tlkm      bbni      asii\n",
       "tlkm  0.006196  0.004734 -0.000863\n",
       "bbni  0.004734  0.011494  0.001603\n",
       "asii -0.000863  0.001603  0.007762"
      ]
     },
     "execution_count": 8,
     "metadata": {},
     "output_type": "execute_result"
    }
   ],
   "source": [
    "df.cov()"
   ]
  },
  {
   "cell_type": "markdown",
   "metadata": {},
   "source": [
    "# TLKM dan BBNI"
   ]
  },
  {
   "cell_type": "code",
   "execution_count": 9,
   "metadata": {},
   "outputs": [
    {
     "data": {
      "text/plain": [
       "tlkm    0.019182\n",
       "bbni    0.032105\n",
       "dtype: float64"
      ]
     },
     "execution_count": 9,
     "metadata": {},
     "output_type": "execute_result"
    }
   ],
   "source": [
    "df.mean().iloc[:2]"
   ]
  },
  {
   "cell_type": "code",
   "execution_count": 10,
   "metadata": {},
   "outputs": [
    {
     "data": {
      "text/html": [
       "<div>\n",
       "<style scoped>\n",
       "    .dataframe tbody tr th:only-of-type {\n",
       "        vertical-align: middle;\n",
       "    }\n",
       "\n",
       "    .dataframe tbody tr th {\n",
       "        vertical-align: top;\n",
       "    }\n",
       "\n",
       "    .dataframe thead th {\n",
       "        text-align: right;\n",
       "    }\n",
       "</style>\n",
       "<table border=\"1\" class=\"dataframe\">\n",
       "  <thead>\n",
       "    <tr style=\"text-align: right;\">\n",
       "      <th></th>\n",
       "      <th>tlkm</th>\n",
       "      <th>bbni</th>\n",
       "    </tr>\n",
       "  </thead>\n",
       "  <tbody>\n",
       "    <tr>\n",
       "      <th>tlkm</th>\n",
       "      <td>0.006196</td>\n",
       "      <td>0.004734</td>\n",
       "    </tr>\n",
       "    <tr>\n",
       "      <th>bbni</th>\n",
       "      <td>0.004734</td>\n",
       "      <td>0.011494</td>\n",
       "    </tr>\n",
       "  </tbody>\n",
       "</table>\n",
       "</div>"
      ],
      "text/plain": [
       "          tlkm      bbni\n",
       "tlkm  0.006196  0.004734\n",
       "bbni  0.004734  0.011494"
      ]
     },
     "execution_count": 10,
     "metadata": {},
     "output_type": "execute_result"
    }
   ],
   "source": [
    "Q = df.cov().iloc[:2][['tlkm','bbni']]\n",
    "Q"
   ]
  },
  {
   "cell_type": "code",
   "execution_count": 11,
   "metadata": {},
   "outputs": [],
   "source": [
    "import sympy as sym\n",
    "x = sym.Symbol('x')"
   ]
  },
  {
   "cell_type": "code",
   "execution_count": 12,
   "metadata": {},
   "outputs": [],
   "source": [
    "u = np.array([[0],[1]])\n",
    "v = np.array([[1],[-1]])\n",
    "y1 = sym.solve(sym.expand((u + v*x).T.dot(Q).dot((u + v*x)).reshape((1))[0]).diff(x),x)"
   ]
  },
  {
   "cell_type": "code",
   "execution_count": 13,
   "metadata": {},
   "outputs": [
    {
     "data": {
      "text/latex": [
       "$\\displaystyle 0.0164429521011939$"
      ],
      "text/plain": [
       "0.0164429521011939"
      ]
     },
     "execution_count": 13,
     "metadata": {},
     "output_type": "execute_result"
    }
   ],
   "source": [
    "sym.expand((u + v*x).T.dot(Q).dot((u + v*x)).reshape((1))[0]).diff(x).diff(x)"
   ]
  },
  {
   "cell_type": "code",
   "execution_count": 21,
   "metadata": {},
   "outputs": [
    {
     "name": "stdout",
     "output_type": "stream",
     "text": [
      "Diperoleh besar proporsi untuk saham pertama adalah :  0.822258088558763\n"
     ]
    }
   ],
   "source": [
    "print('Diperoleh besar proporsi untuk saham pertama adalah : ',y1[0])"
   ]
  },
  {
   "cell_type": "code",
   "execution_count": 23,
   "metadata": {},
   "outputs": [
    {
     "name": "stdout",
     "output_type": "stream",
     "text": [
      "Diperoleh total return 2.14790463192366 dan total variansi 0.141393865913339\n"
     ]
    }
   ],
   "source": [
    "retur = y1[0]*df.mean().iloc[0] + (1-y1[0])*df.mean().iloc[1]\n",
    "var = y1[0]**2*Q.iloc[0][0]**2 + (1-y1[0])**2*Q.iloc[1][1]**2 + 2*y1[0]*(1-y1[0])*Q.iloc[0][1]\n",
    "print('Diperoleh total return', retur*100, 'dan total variansi', var*100)"
   ]
  }
 ],
 "metadata": {
  "interpreter": {
   "hash": "760892ce3164b76c03b317fa412cee1719926f6318c2a0c9ea286a3f84560ff2"
  },
  "kernelspec": {
   "display_name": "Python 3.9.1 64-bit",
   "language": "python",
   "name": "python3"
  },
  "language_info": {
   "codemirror_mode": {
    "name": "ipython",
    "version": 3
   },
   "file_extension": ".py",
   "mimetype": "text/x-python",
   "name": "python",
   "nbconvert_exporter": "python",
   "pygments_lexer": "ipython3",
   "version": "3.9.7"
  },
  "orig_nbformat": 4
 },
 "nbformat": 4,
 "nbformat_minor": 2
}
