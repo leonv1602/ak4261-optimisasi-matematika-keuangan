{
 "cells": [
  {
   "cell_type": "code",
   "execution_count": 1,
   "metadata": {},
   "outputs": [
    {
     "data": {
      "text/html": [
       "\n",
       "<style>\n",
       ".output_png {\n",
       "    display: table-cell;\n",
       "    text-align: center;\n",
       "    vertical-align: middle;\n",
       "}\n",
       "</style>\n"
      ],
      "text/plain": [
       "<IPython.core.display.HTML object>"
      ]
     },
     "execution_count": 1,
     "metadata": {},
     "output_type": "execute_result"
    }
   ],
   "source": [
    "import numpy as np \n",
    "import pandas as pd \n",
    "import matplotlib.pyplot as plt \n",
    "import yfinance as yf\n",
    "import yahoofinancials\n",
    "import seaborn as sn\n",
    "from scipy.stats import anderson,kstest,shapiro, probplot\n",
    " \n",
    "from IPython.core.display import HTML\n",
    "HTML(\"\"\"\n",
    "<style>\n",
    ".output_png {\n",
    "    display: table-cell;\n",
    "    text-align: center;\n",
    "    vertical-align: middle;\n",
    "}\n",
    "</style>\n",
    "\"\"\")"
   ]
  },
  {
   "cell_type": "code",
   "execution_count": 42,
   "metadata": {},
   "outputs": [
    {
     "data": {
      "text/html": [
       "<div>\n",
       "<style scoped>\n",
       "    .dataframe tbody tr th:only-of-type {\n",
       "        vertical-align: middle;\n",
       "    }\n",
       "\n",
       "    .dataframe tbody tr th {\n",
       "        vertical-align: top;\n",
       "    }\n",
       "\n",
       "    .dataframe thead th {\n",
       "        text-align: right;\n",
       "    }\n",
       "</style>\n",
       "<table border=\"1\" class=\"dataframe\">\n",
       "  <thead>\n",
       "    <tr style=\"text-align: right;\">\n",
       "      <th></th>\n",
       "      <th>tlkm</th>\n",
       "      <th>bbni</th>\n",
       "      <th>asii</th>\n",
       "    </tr>\n",
       "    <tr>\n",
       "      <th>Date</th>\n",
       "      <th></th>\n",
       "      <th></th>\n",
       "      <th></th>\n",
       "    </tr>\n",
       "  </thead>\n",
       "  <tbody>\n",
       "    <tr>\n",
       "      <th>2020-03-01</th>\n",
       "      <td>-0.099330</td>\n",
       "      <td>-0.609225</td>\n",
       "      <td>-0.348307</td>\n",
       "    </tr>\n",
       "    <tr>\n",
       "      <th>2020-04-01</th>\n",
       "      <td>0.102191</td>\n",
       "      <td>0.100534</td>\n",
       "      <td>-0.012903</td>\n",
       "    </tr>\n",
       "    <tr>\n",
       "      <th>2020-05-01</th>\n",
       "      <td>-0.105361</td>\n",
       "      <td>-0.068122</td>\n",
       "      <td>0.214273</td>\n",
       "    </tr>\n",
       "    <tr>\n",
       "      <th>2020-06-01</th>\n",
       "      <td>-0.032261</td>\n",
       "      <td>0.178834</td>\n",
       "      <td>0.006270</td>\n",
       "    </tr>\n",
       "    <tr>\n",
       "      <th>2020-07-01</th>\n",
       "      <td>0.049662</td>\n",
       "      <td>0.004357</td>\n",
       "      <td>0.102284</td>\n",
       "    </tr>\n",
       "    <tr>\n",
       "      <th>2020-08-01</th>\n",
       "      <td>-0.064320</td>\n",
       "      <td>0.103184</td>\n",
       "      <td>-0.009756</td>\n",
       "    </tr>\n",
       "    <tr>\n",
       "      <th>2020-09-01</th>\n",
       "      <td>-0.110814</td>\n",
       "      <td>-0.138586</td>\n",
       "      <td>-0.134092</td>\n",
       "    </tr>\n",
       "    <tr>\n",
       "      <th>2020-10-01</th>\n",
       "      <td>0.023167</td>\n",
       "      <td>0.065383</td>\n",
       "      <td>0.195869</td>\n",
       "    </tr>\n",
       "    <tr>\n",
       "      <th>2020-11-01</th>\n",
       "      <td>0.209308</td>\n",
       "      <td>0.235722</td>\n",
       "      <td>-0.017450</td>\n",
       "    </tr>\n",
       "    <tr>\n",
       "      <th>2020-12-01</th>\n",
       "      <td>0.024466</td>\n",
       "      <td>0.028749</td>\n",
       "      <td>0.128211</td>\n",
       "    </tr>\n",
       "    <tr>\n",
       "      <th>2021-01-01</th>\n",
       "      <td>-0.062325</td>\n",
       "      <td>-0.106711</td>\n",
       "      <td>0.012371</td>\n",
       "    </tr>\n",
       "    <tr>\n",
       "      <th>2021-02-01</th>\n",
       "      <td>0.115279</td>\n",
       "      <td>0.069593</td>\n",
       "      <td>-0.121890</td>\n",
       "    </tr>\n",
       "    <tr>\n",
       "      <th>2021-03-01</th>\n",
       "      <td>-0.020261</td>\n",
       "      <td>-0.038549</td>\n",
       "      <td>-0.023420</td>\n",
       "    </tr>\n",
       "    <tr>\n",
       "      <th>2021-04-01</th>\n",
       "      <td>-0.066490</td>\n",
       "      <td>-0.004376</td>\n",
       "      <td>0.041769</td>\n",
       "    </tr>\n",
       "    <tr>\n",
       "      <th>2021-05-01</th>\n",
       "      <td>0.072321</td>\n",
       "      <td>-0.046415</td>\n",
       "      <td>-0.046520</td>\n",
       "    </tr>\n",
       "    <tr>\n",
       "      <th>2021-06-01</th>\n",
       "      <td>-0.088069</td>\n",
       "      <td>-0.153842</td>\n",
       "      <td>-0.044918</td>\n",
       "    </tr>\n",
       "    <tr>\n",
       "      <th>2021-07-01</th>\n",
       "      <td>0.077364</td>\n",
       "      <td>0.031884</td>\n",
       "      <td>-0.045557</td>\n",
       "    </tr>\n",
       "    <tr>\n",
       "      <th>2021-08-01</th>\n",
       "      <td>0.048202</td>\n",
       "      <td>0.121958</td>\n",
       "      <td>0.101646</td>\n",
       "    </tr>\n",
       "    <tr>\n",
       "      <th>2021-09-01</th>\n",
       "      <td>0.081851</td>\n",
       "      <td>-0.004640</td>\n",
       "      <td>0.051293</td>\n",
       "    </tr>\n",
       "    <tr>\n",
       "      <th>2021-10-01</th>\n",
       "      <td>0.029375</td>\n",
       "      <td>0.264152</td>\n",
       "      <td>0.091169</td>\n",
       "    </tr>\n",
       "    <tr>\n",
       "      <th>2021-11-01</th>\n",
       "      <td>0.048790</td>\n",
       "      <td>-0.028988</td>\n",
       "      <td>-0.034453</td>\n",
       "    </tr>\n",
       "    <tr>\n",
       "      <th>2021-12-01</th>\n",
       "      <td>0.012453</td>\n",
       "      <td>-0.007380</td>\n",
       "      <td>-0.013072</td>\n",
       "    </tr>\n",
       "    <tr>\n",
       "      <th>2022-01-01</th>\n",
       "      <td>0.069323</td>\n",
       "      <td>0.061060</td>\n",
       "      <td>-0.017700</td>\n",
       "    </tr>\n",
       "    <tr>\n",
       "      <th>2022-01-24</th>\n",
       "      <td>-0.006953</td>\n",
       "      <td>-0.010508</td>\n",
       "      <td>-0.013483</td>\n",
       "    </tr>\n",
       "  </tbody>\n",
       "</table>\n",
       "</div>"
      ],
      "text/plain": [
       "                tlkm      bbni      asii\n",
       "Date                                    \n",
       "2020-03-01 -0.099330 -0.609225 -0.348307\n",
       "2020-04-01  0.102191  0.100534 -0.012903\n",
       "2020-05-01 -0.105361 -0.068122  0.214273\n",
       "2020-06-01 -0.032261  0.178834  0.006270\n",
       "2020-07-01  0.049662  0.004357  0.102284\n",
       "2020-08-01 -0.064320  0.103184 -0.009756\n",
       "2020-09-01 -0.110814 -0.138586 -0.134092\n",
       "2020-10-01  0.023167  0.065383  0.195869\n",
       "2020-11-01  0.209308  0.235722 -0.017450\n",
       "2020-12-01  0.024466  0.028749  0.128211\n",
       "2021-01-01 -0.062325 -0.106711  0.012371\n",
       "2021-02-01  0.115279  0.069593 -0.121890\n",
       "2021-03-01 -0.020261 -0.038549 -0.023420\n",
       "2021-04-01 -0.066490 -0.004376  0.041769\n",
       "2021-05-01  0.072321 -0.046415 -0.046520\n",
       "2021-06-01 -0.088069 -0.153842 -0.044918\n",
       "2021-07-01  0.077364  0.031884 -0.045557\n",
       "2021-08-01  0.048202  0.121958  0.101646\n",
       "2021-09-01  0.081851 -0.004640  0.051293\n",
       "2021-10-01  0.029375  0.264152  0.091169\n",
       "2021-11-01  0.048790 -0.028988 -0.034453\n",
       "2021-12-01  0.012453 -0.007380 -0.013072\n",
       "2022-01-01  0.069323  0.061060 -0.017700\n",
       "2022-01-24 -0.006953 -0.010508 -0.013483"
      ]
     },
     "execution_count": 42,
     "metadata": {},
     "output_type": "execute_result"
    }
   ],
   "source": [
    "stock = 'TLKM.JK'\n",
    "tlkm = yf.Ticker(stock).history(period = '2y', interval = '1mo',actions=False)\n",
    "tlkm.dropna(inplace = True)\n",
    "tlkm['log_return'] = np.log(tlkm['Close']) - np.log(tlkm['Close'].shift(1))\n",
    "tlkm['log_return'].dropna(inplace = True)\n",
    "\n",
    "stock = 'BBNI.JK'\n",
    "bbni = yf.Ticker(stock).history(period = '2y', interval = '1mo',actions=False)\n",
    "bbni.dropna(inplace = True)\n",
    "bbni['log_return'] = np.log(bbni['Close']) - np.log(bbni['Close'].shift(1))\n",
    "bbni['log_return'].dropna(inplace = True)\n",
    "bbni['log_return']\n",
    "\n",
    "stock = 'ASII.JK'\n",
    "asii = yf.Ticker(stock).history(period = '2y', interval = '1mo',actions=False)\n",
    "asii.dropna(inplace = True)\n",
    "asii['log_return'] = np.log(asii['Close']) - np.log(asii['Close'].shift(1))\n",
    "asii['log_return'].dropna(inplace = True)\n",
    "asii['log_return']\n",
    "\n",
    "df = pd.concat([tlkm['log_return'],bbni['log_return'],asii['log_return']], axis = 1, keys =['tlkm', 'bbni', 'asii']).dropna()\n",
    "df"
   ]
  },
  {
   "cell_type": "code",
   "execution_count": 43,
   "metadata": {},
   "outputs": [
    {
     "data": {
      "text/plain": [
       "tlkm    0.012815\n",
       "bbni    0.002003\n",
       "asii    0.002568\n",
       "dtype: float64"
      ]
     },
     "execution_count": 43,
     "metadata": {},
     "output_type": "execute_result"
    }
   ],
   "source": [
    "df.mean()"
   ]
  },
  {
   "cell_type": "code",
   "execution_count": 45,
   "metadata": {},
   "outputs": [
    {
     "data": {
      "text/html": [
       "<div>\n",
       "<style scoped>\n",
       "    .dataframe tbody tr th:only-of-type {\n",
       "        vertical-align: middle;\n",
       "    }\n",
       "\n",
       "    .dataframe tbody tr th {\n",
       "        vertical-align: top;\n",
       "    }\n",
       "\n",
       "    .dataframe thead th {\n",
       "        text-align: right;\n",
       "    }\n",
       "</style>\n",
       "<table border=\"1\" class=\"dataframe\">\n",
       "  <thead>\n",
       "    <tr style=\"text-align: right;\">\n",
       "      <th></th>\n",
       "      <th>tlkm</th>\n",
       "      <th>bbni</th>\n",
       "      <th>asii</th>\n",
       "    </tr>\n",
       "  </thead>\n",
       "  <tbody>\n",
       "    <tr>\n",
       "      <th>tlkm</th>\n",
       "      <td>0.006547</td>\n",
       "      <td>0.007675</td>\n",
       "      <td>0.001002</td>\n",
       "    </tr>\n",
       "    <tr>\n",
       "      <th>bbni</th>\n",
       "      <td>0.007675</td>\n",
       "      <td>0.027926</td>\n",
       "      <td>0.011419</td>\n",
       "    </tr>\n",
       "    <tr>\n",
       "      <th>asii</th>\n",
       "      <td>0.001002</td>\n",
       "      <td>0.011419</td>\n",
       "      <td>0.012940</td>\n",
       "    </tr>\n",
       "  </tbody>\n",
       "</table>\n",
       "</div>"
      ],
      "text/plain": [
       "          tlkm      bbni      asii\n",
       "tlkm  0.006547  0.007675  0.001002\n",
       "bbni  0.007675  0.027926  0.011419\n",
       "asii  0.001002  0.011419  0.012940"
      ]
     },
     "execution_count": 45,
     "metadata": {},
     "output_type": "execute_result"
    }
   ],
   "source": [
    "df.cov()"
   ]
  },
  {
   "cell_type": "markdown",
   "metadata": {},
   "source": [
    "# TLKM dan BBNI"
   ]
  },
  {
   "cell_type": "code",
   "execution_count": 46,
   "metadata": {},
   "outputs": [
    {
     "data": {
      "text/plain": [
       "tlkm    0.012815\n",
       "bbni    0.002003\n",
       "dtype: float64"
      ]
     },
     "execution_count": 46,
     "metadata": {},
     "output_type": "execute_result"
    }
   ],
   "source": [
    "df.mean().iloc[:2]"
   ]
  },
  {
   "cell_type": "code",
   "execution_count": 87,
   "metadata": {},
   "outputs": [],
   "source": [
    "Q = df.cov().iloc[:2][['tlkm','bbni']]\n",
    "Q"
   ]
  },
  {
   "cell_type": "code",
   "execution_count": 57,
   "metadata": {},
   "outputs": [],
   "source": [
    "import sympy as sym\n",
    "x = sym.Symbol('x')"
   ]
  },
  {
   "cell_type": "code",
   "execution_count": 92,
   "metadata": {},
   "outputs": [],
   "source": [
    "u = np.array([[0],[1]])\n",
    "v = np.array([[1],[-1]])\n",
    "y1 = sym.solve(sym.expand((u + v*x).T.dot(Q).dot((u + v*x)).reshape((1))[0]).diff(x),x)"
   ]
  },
  {
   "cell_type": "code",
   "execution_count": 88,
   "metadata": {},
   "outputs": [
    {
     "data": {
      "text/latex": [
       "$\\displaystyle 0.0382456110165985$"
      ],
      "text/plain": [
       "0.0382456110165985"
      ]
     },
     "execution_count": 88,
     "metadata": {},
     "output_type": "execute_result"
    }
   ],
   "source": [
    "sym.expand((u + v*x).T.dot(Q).dot((u + v*x)).reshape((1))[0]).diff(x).diff(x)"
   ]
  },
  {
   "cell_type": "code",
   "execution_count": 104,
   "metadata": {},
   "outputs": [
    {
     "data": {
      "text/latex": [
       "$\\displaystyle 1.05899062799241$"
      ],
      "text/plain": [
       "1.05899062799241"
      ]
     },
     "execution_count": 104,
     "metadata": {},
     "output_type": "execute_result"
    }
   ],
   "source": [
    "y1[0]"
   ]
  },
  {
   "cell_type": "code",
   "execution_count": 106,
   "metadata": {},
   "outputs": [
    {
     "data": {
      "text/latex": [
       "$\\displaystyle 1.3453194825062$"
      ],
      "text/plain": [
       "1.34531948250620"
      ]
     },
     "execution_count": 106,
     "metadata": {},
     "output_type": "execute_result"
    }
   ],
   "source": [
    "retur = y1[0]*df.mean().iloc[0] + (1-y1[0])*df.mean().iloc[1]\n",
    "retur*100"
   ]
  }
 ],
 "metadata": {
  "interpreter": {
   "hash": "760892ce3164b76c03b317fa412cee1719926f6318c2a0c9ea286a3f84560ff2"
  },
  "kernelspec": {
   "display_name": "Python 3.9.1 64-bit",
   "language": "python",
   "name": "python3"
  },
  "language_info": {
   "codemirror_mode": {
    "name": "ipython",
    "version": 3
   },
   "file_extension": ".py",
   "mimetype": "text/x-python",
   "name": "python",
   "nbconvert_exporter": "python",
   "pygments_lexer": "ipython3",
   "version": "3.8.12"
  },
  "orig_nbformat": 4
 },
 "nbformat": 4,
 "nbformat_minor": 2
}
