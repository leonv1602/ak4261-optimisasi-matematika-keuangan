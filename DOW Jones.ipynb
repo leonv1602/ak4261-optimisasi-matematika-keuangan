{
 "cells": [
  {
   "cell_type": "markdown",
   "metadata": {},
   "source": [
    "# Packages"
   ]
  },
  {
   "cell_type": "code",
   "execution_count": 1,
   "metadata": {},
   "outputs": [
    {
     "name": "stderr",
     "output_type": "stream",
     "text": [
      "c:\\Users\\leona\\anaconda3\\lib\\site-packages\\numpy\\_distributor_init.py:30: UserWarning: loaded more than 1 DLL from .libs:\n",
      "c:\\Users\\leona\\anaconda3\\lib\\site-packages\\numpy\\.libs\\libopenblas.PYQHXLVVQ7VESDPUVUADXEVJOBGHJPAY.gfortran-win_amd64.dll\n",
      "c:\\Users\\leona\\anaconda3\\lib\\site-packages\\numpy\\.libs\\libopenblas.XWYDX2IKJW2NMTWSFYNGFUWKQU3LYTCZ.gfortran-win_amd64.dll\n",
      "  warnings.warn(\"loaded more than 1 DLL from .libs:\"\n",
      "<frozen importlib._bootstrap>:219: RuntimeWarning: scipy._lib.messagestream.MessageStream size changed, may indicate binary incompatibility. Expected 56 from C header, got 64 from PyObject\n"
     ]
    }
   ],
   "source": [
    "import numpy as np \n",
    "import pandas as pd \n",
    "import matplotlib.pyplot as plt \n",
    "import yfinance as yf\n",
    "import yahoofinancials\n",
    "from scipy.optimize import minimize\n",
    "import seaborn as sn\n",
    "from scipy.stats import anderson,kstest,shapiro, probplot"
   ]
  },
  {
   "cell_type": "markdown",
   "metadata": {},
   "source": [
    "# Masalah.  \n",
    "Misalkan portofolio saham dengan komposisi saham TLKM, BBNI, dan ASII. Akan dicari nilai return dengan variansi minimal dan juga dicari komposisi dari masing-masing saham.  "
   ]
  },
  {
   "cell_type": "code",
   "execution_count": 18,
   "metadata": {},
   "outputs": [],
   "source": [
    "stock = ['TSLA', 'DIS', 'NKE', 'AAPL', 'AXP', 'GS', 'GD', 'IBM', 'INTC', 'KO', 'PG', 'V', 'MA', 'BAC', 'NVDA', 'GOOGL', 'GOOG', 'FB', 'MSFT', 'AMZN',]\n",
    "df = pd.DataFrame(columns=stock)\n",
    "for i in stock :\n",
    "    temp = yf.Ticker(i).history(period = '2y', interval = '1mo',actions=False)\n",
    "    temp.dropna(inplace = True)\n",
    "    temp['log_return'] = np.log(temp['Close']) - np.log(temp['Close'].shift(1))\n",
    "    temp['log_return'].dropna(inplace = True)\n",
    "    df[i] =temp['log_return'].dropna()"
   ]
  },
  {
   "cell_type": "code",
   "execution_count": 19,
   "metadata": {},
   "outputs": [
    {
     "name": "stdout",
     "output_type": "stream",
     "text": [
      "Vektor return [ 0.04495615 -0.00443946  0.0034841   0.01630977  0.02004754  0.018966\n",
      "  0.01638437  0.00789326 -0.01403059  0.01487427  0.0083819   0.00083582\n",
      "  0.00486739  0.01569818  0.02126601  0.01675693  0.01714222 -0.00764631\n",
      "  0.00908078 -0.01119872] dan \n",
      " matriks kovariansi \n",
      " [[ 4.08858628e-02  1.02147607e-02  9.71255318e-03  1.45312004e-02\n",
      "   5.71498206e-03  6.04902430e-03  2.72076611e-03  9.75160746e-04\n",
      "   2.34165345e-03  2.71864571e-03  2.77819030e-03  4.92759005e-03\n",
      "   6.27815872e-03  6.48690835e-03  1.81808665e-02  8.09000619e-03\n",
      "   8.37137026e-03  9.33376532e-03  9.85600003e-03  1.26851917e-02]\n",
      " [ 1.02147607e-02  9.58334614e-03  3.75548276e-03  4.12825996e-03\n",
      "   5.94863515e-03  5.73758489e-03  3.42978065e-03  1.46439882e-03\n",
      "   2.48914610e-03  2.93048896e-03  1.08846185e-03  4.58636233e-03\n",
      "   4.63427023e-03  5.36332821e-03  4.53477891e-03  4.66230834e-03\n",
      "   4.61135609e-03  2.59839336e-03  3.17152198e-03  4.54425190e-03]\n",
      " [ 9.71255318e-03  3.75548276e-03  7.10518838e-03  4.20687854e-03\n",
      "   2.82851670e-03  3.18343769e-03  9.42099907e-04  4.26508503e-04\n",
      "   1.44670742e-03  2.02675397e-03  1.82436106e-03  2.34532743e-03\n",
      "   2.44827114e-03  1.80243513e-03  7.45227060e-03  2.79431517e-03\n",
      "   2.83366072e-03  3.59033999e-03  3.93453979e-03  3.35646828e-03]\n",
      " [ 1.45312004e-02  4.12825996e-03  4.20687854e-03  7.84389309e-03\n",
      "   1.96937866e-03  1.81225936e-03  1.27122045e-03  1.60673175e-03\n",
      "   3.45683691e-04  2.00064237e-03  2.42669216e-03  3.01970590e-03\n",
      "   3.64674031e-03  1.83491565e-03  7.82252100e-03  3.55743077e-03\n",
      "   3.65253618e-03  5.76102659e-03  4.26700469e-03  6.08037219e-03]\n",
      " [ 5.71498206e-03  5.94863515e-03  2.82851670e-03  1.96937866e-03\n",
      "   7.78263056e-03  4.18033287e-03  4.42392857e-03  2.00287785e-03\n",
      "   2.70902862e-03  2.84432847e-03  1.09535031e-03  5.18061907e-03\n",
      "   5.52702595e-03  4.63215923e-03  1.70838375e-03  2.71528036e-03\n",
      "   2.75876716e-03  7.85997359e-04  1.97948324e-03  2.02544317e-03]\n",
      " [ 6.04902430e-03  5.73758489e-03  3.18343769e-03  1.81225936e-03\n",
      "   4.18033287e-03  5.94767448e-03  2.45205222e-03  1.12425517e-03\n",
      "   2.55812577e-03  1.45889373e-03 -4.46129209e-05  2.57521121e-03\n",
      "   2.39378852e-03  4.76432425e-03  4.16338895e-03  3.44935627e-03\n",
      "   3.54603424e-03  2.80053967e-03  2.84451096e-03  2.31547029e-03]\n",
      " [ 2.72076611e-03  3.42978065e-03  9.42099907e-04  1.27122045e-03\n",
      "   4.42392857e-03  2.45205222e-03  3.74737025e-03  1.58506520e-03\n",
      "   1.94332367e-03  2.13494026e-03  1.12776445e-03  2.96515078e-03\n",
      "   2.98644940e-03  2.79212786e-03  7.32189261e-04  2.22212799e-03\n",
      "   2.20422558e-03  4.38666034e-04  1.50749370e-03  1.45213049e-03]\n",
      " [ 9.75160746e-04  1.46439882e-03  4.26508503e-04  1.60673175e-03\n",
      "   2.00287785e-03  1.12425517e-03  1.58506520e-03  3.88611098e-03\n",
      "   1.68931432e-03  1.63183629e-03  1.56539358e-03  2.88336749e-03\n",
      "   3.15625727e-03  1.07567139e-03 -6.44596302e-04 -1.54018777e-04\n",
      "  -1.18703374e-04  3.58591654e-03  2.22113301e-04  5.70919378e-04]\n",
      " [ 2.34165345e-03  2.48914610e-03  1.44670742e-03  3.45683691e-04\n",
      "   2.70902862e-03  2.55812577e-03  1.94332367e-03  1.68931432e-03\n",
      "   6.76503297e-03 -6.31424977e-04 -5.78963092e-04  1.68424996e-03\n",
      "   1.59189034e-03  1.53928610e-03  2.25972512e-03  5.43828370e-04\n",
      "   4.96932027e-04  4.18931849e-04  1.13877503e-03  3.52829784e-04]\n",
      " [ 2.71864571e-03  2.93048896e-03  2.02675397e-03  2.00064237e-03\n",
      "   2.84432847e-03  1.45889373e-03  2.13494026e-03  1.63183629e-03\n",
      "  -6.31424977e-04  3.56305170e-03  2.40782412e-03  2.85033541e-03\n",
      "   3.32311719e-03  1.66855257e-03 -6.76050321e-04  9.58741378e-04\n",
      "   9.06610324e-04  1.58160937e-03  1.14360137e-03  5.91994228e-04]\n",
      " [ 2.77819030e-03  1.08846185e-03  1.82436106e-03  2.42669216e-03\n",
      "   1.09535031e-03 -4.46129209e-05  1.12776445e-03  1.56539358e-03\n",
      "  -5.78963092e-04  2.40782412e-03  2.82921147e-03  1.52286895e-03\n",
      "   2.17594505e-03  4.84519377e-04  3.59048462e-04  2.77988794e-04\n",
      "   1.94287903e-04  2.34370226e-03  9.06511328e-04  8.59963142e-04]\n",
      " [ 4.92759005e-03  4.58636233e-03  2.34532743e-03  3.01970590e-03\n",
      "   5.18061907e-03  2.57521121e-03  2.96515078e-03  2.88336749e-03\n",
      "   1.68424996e-03  2.85033541e-03  1.52286895e-03  5.52597384e-03\n",
      "   6.02056819e-03  2.42004221e-03  1.03065540e-03  2.06958313e-03\n",
      "   2.11085375e-03  3.24783665e-03  1.60094145e-03  1.80112537e-03]\n",
      " [ 6.27815872e-03  4.63427023e-03  2.44827114e-03  3.64674031e-03\n",
      "   5.52702595e-03  2.39378852e-03  2.98644940e-03  3.15625727e-03\n",
      "   1.59189034e-03  3.32311719e-03  2.17594505e-03  6.02056819e-03\n",
      "   7.42345234e-03  2.52484837e-03  1.90274437e-04  1.18931116e-03\n",
      "   1.20742473e-03  3.40811299e-03  1.41521916e-03  1.39071835e-03]\n",
      " [ 6.48690835e-03  5.36332821e-03  1.80243513e-03  1.83491565e-03\n",
      "   4.63215923e-03  4.76432425e-03  2.79212786e-03  1.07567139e-03\n",
      "   1.53928610e-03  1.66855257e-03  4.84519377e-04  2.42004221e-03\n",
      "   2.52484837e-03  6.22096354e-03  3.90781356e-03  3.56938459e-03\n",
      "   3.66282605e-03  3.07306360e-03  2.39477812e-03  2.82113081e-03]\n",
      " [ 1.81808665e-02  4.53477891e-03  7.45227060e-03  7.82252100e-03\n",
      "   1.70838375e-03  4.16338895e-03  7.32189261e-04 -6.44596302e-04\n",
      "   2.25972512e-03 -6.76050321e-04  3.59048462e-04  1.03065540e-03\n",
      "   1.90274437e-04  3.90781356e-03  2.09782268e-02  7.08175734e-03\n",
      "   7.37914578e-03  6.14294593e-03  6.85977287e-03  1.04264456e-02]\n",
      " [ 8.09000619e-03  4.66230834e-03  2.79431517e-03  3.55743077e-03\n",
      "   2.71528036e-03  3.44935627e-03  2.22212799e-03 -1.54018777e-04\n",
      "   5.43828370e-04  9.58741378e-04  2.77988794e-04  2.06958313e-03\n",
      "   1.18931116e-03  3.56938459e-03  7.08175734e-03  6.24025401e-03\n",
      "   6.32027674e-03  4.10448365e-03  3.90392668e-03  4.95425870e-03]\n",
      " [ 8.37137026e-03  4.61135609e-03  2.83366072e-03  3.65253618e-03\n",
      "   2.75876716e-03  3.54603424e-03  2.20422558e-03 -1.18703374e-04\n",
      "   4.96932027e-04  9.06610324e-04  1.94287903e-04  2.11085375e-03\n",
      "   1.20742473e-03  3.66282605e-03  7.37914578e-03  6.32027674e-03\n",
      "   6.45575695e-03  4.27516799e-03  4.00662158e-03  5.13519759e-03]\n",
      " [ 9.33376532e-03  2.59839336e-03  3.59033999e-03  5.76102659e-03\n",
      "   7.85997359e-04  2.80053967e-03  4.38666034e-04  3.58591654e-03\n",
      "   4.18931849e-04  1.58160937e-03  2.34370226e-03  3.24783665e-03\n",
      "   3.40811299e-03  3.07306360e-03  6.14294593e-03  4.10448365e-03\n",
      "   4.27516799e-03  1.21283097e-02  3.51590541e-03  4.06124963e-03]\n",
      " [ 9.85600003e-03  3.17152198e-03  3.93453979e-03  4.26700469e-03\n",
      "   1.97948324e-03  2.84451096e-03  1.50749370e-03  2.22113301e-04\n",
      "   1.13877503e-03  1.14360137e-03  9.06511328e-04  1.60094145e-03\n",
      "   1.41521916e-03  2.39477812e-03  6.85977287e-03  3.90392668e-03\n",
      "   4.00662158e-03  3.51590541e-03  4.23124907e-03  4.14159244e-03]\n",
      " [ 1.26851917e-02  4.54425190e-03  3.35646828e-03  6.08037219e-03\n",
      "   2.02544317e-03  2.31547029e-03  1.45213049e-03  5.70919378e-04\n",
      "   3.52829784e-04  5.91994228e-04  8.59963142e-04  1.80112537e-03\n",
      "   1.39071835e-03  2.82113081e-03  1.04264456e-02  4.95425870e-03\n",
      "   5.13519759e-03  4.06124963e-03  4.14159244e-03  7.90551709e-03]] \n",
      " dan vektor e [1. 1. 1. 1. 1. 1. 1. 1. 1. 1. 1. 1. 1. 1. 1. 1. 1. 1. 1. 1.]\n"
     ]
    }
   ],
   "source": [
    "mu = df.mean().values\n",
    "C = df.cov().values\n",
    "e = np.ones(len(mu))\n",
    "print(f'Vektor return {mu} dan \\n matriks kovariansi \\n {C} \\n dan vektor e {e}')\n"
   ]
  },
  {
   "cell_type": "code",
   "execution_count": 20,
   "metadata": {},
   "outputs": [],
   "source": [
    "# mu = np.array([1.1, 1.2, 1.3])\n",
    "# C = np.array([[0.01, 0, 0], [0, 0.05, 0], [0, 0, 0.07]])\n",
    "# e = np.ones(len(mu))\n",
    "# print(f'Vektor return {mu} dan \\n matriks kovariansi \\n {C} \\n dan vektor e {e}')\n"
   ]
  },
  {
   "cell_type": "markdown",
   "metadata": {},
   "source": [
    "Dari masalah \n",
    "\\begin{equation}\n",
    "\\min\\left\\{ -t \\mu^T \\mathbf{x} +  \\frac{1}{2}\\mathbf{x}^T C  \\mathbf{x} | \\mathbf{e}^T \\mathbf{x} = 1 \\right\\}\n",
    "\\end{equation}\n",
    "dengan $t$ adalah suatu parameter tak negatif.  \n",
    "dapat diperoleh bahwa persamaan untuk efficient frontiernya adalah : \n",
    "\\begin{equation}\n",
    "\\sigma^2_P - \\beta_0 = \\frac{(\\mu_P - \\alpha_0)^2}{\\alpha_1}\n",
    "\\end{equation}\n",
    "dengan :\n",
    "\\begin{align}\n",
    "\\alpha_0 = \\mu^T h_0 \\\\\n",
    "\\alpha_1 = \\mu^T h_1 \\\\\n",
    "\\beta_0 = h_0^TCh_0\n",
    "\\end{align}\n",
    "dan \n",
    "\\begin{align}\n",
    "h_0 &= \\frac{C^{-1}e}{e^TC^{-1}e} \\\\  \n",
    "h_1 &= C^{-1}\\mu - \\frac{e^TC^{-1}\\mu}{e^TC^{-1}e} C^{-1}e\n",
    "\\end{align}"
   ]
  },
  {
   "cell_type": "code",
   "execution_count": 21,
   "metadata": {},
   "outputs": [
    {
     "name": "stdout",
     "output_type": "stream",
     "text": [
      "Diperoleh \n",
      " h_0 [ 0.0636318  -0.870159   -0.10197809  0.01552866 -0.34642935  0.79728115\n",
      " -0.91443251 -0.2591027   0.42459456  0.01427017  1.06666529  1.34091805\n",
      " -0.46360071  0.39224923 -0.27529879  1.04838456 -0.57178148 -0.49959848\n",
      " -0.4216546   0.56051227]\n",
      " dan \n",
      " h_1 [  2.04889164  -5.35434947   6.46351163  36.70844496  20.08990038\n",
      "  -5.1708107  -14.18373398  68.21769516 -11.96745322  15.09485081\n",
      " -31.14062549 -87.43796757  39.0749654   -3.64971086  14.89936805\n",
      "  44.51769395  21.45102971 -25.94194481 -29.28371173 -54.43604387]\n"
     ]
    }
   ],
   "source": [
    "h_0 = (np.linalg.inv(C).dot(e))/(e.dot(np.linalg.inv(C)).dot(e))\n",
    "h_1 = np.linalg.inv(C).dot(mu) -((e.dot(np.linalg.inv(C)).dot(mu))/(e.dot(np.linalg.inv(C)).dot(e)))*(np.linalg.inv(C).dot(e))\n",
    "print(f'Diperoleh \\n h_0 {h_0}\\n dan \\n h_1 {h_1}')"
   ]
  },
  {
   "cell_type": "code",
   "execution_count": 22,
   "metadata": {},
   "outputs": [
    {
     "name": "stdout",
     "output_type": "stream",
     "text": [
      "Diperoleh \n",
      " alpha_0 : 0.0016134336420941453, \n",
      " alpha_1 : 3.5116968156107737, \n",
      " beta_0 : 0.0002694528104829266\n",
      " beta_2 : 3.5116968156107755\n"
     ]
    }
   ],
   "source": [
    "alpha_0 = mu.dot(h_0)\n",
    "alpha_1 = mu.dot(h_1)\n",
    "beta_0 = h_0.dot(C).dot(h_0)\n",
    "beta_2 = h_1.dot(C).dot(h_1)\n",
    "print(f'Diperoleh \\n alpha_0 : {alpha_0}, \\n alpha_1 : {alpha_1}, \\n beta_0 : {beta_0}\\n beta_2 : {beta_2}')"
   ]
  },
  {
   "cell_type": "markdown",
   "metadata": {},
   "source": [
    "Sehingga persamaan Efficient Frontier - nya menjadi :  \n",
    "\\begin{equation}\n",
    "\\sigma^2_P - 0.00875 = \\frac{(\\mu_P - 1.125)^2}{0.035}\n",
    "\\end{equation}"
   ]
  },
  {
   "cell_type": "code",
   "execution_count": 23,
   "metadata": {},
   "outputs": [
    {
     "data": {
      "image/png": "[encoded data removed]",
      "text/plain": [
       "<Figure size 432x288 with 1 Axes>"
      ]
     },
     "metadata": {
      "needs_background": "light"
     },
     "output_type": "display_data"
    },
    {
     "name": "stdout",
     "output_type": "stream",
     "text": [
      "Nilai return dari variansi yang minimum adalah : 0.0016134336420941453\n",
      "Dengan masing-masing proporsi saham ['TSLA', 'DIS', 'NKE', 'AAPL', 'AXP', 'GS', 'GD', 'IBM', 'INTC', 'KO', 'PG', 'V', 'MA', 'BAC', 'NVDA', 'GOOGL', 'GOOG', 'FB', 'MSFT', 'AMZN'] adalah sebagai berikut : {h_0}\n"
     ]
    }
   ],
   "source": [
    "t = np.linspace(0,0.5, 1000)\n",
    "sigma_P = beta_0 + t**2 *beta_2\n",
    "mu_p = alpha_0 + t*alpha_1\n",
    "mu_p_bawah = alpha_0 - t*alpha_1\n",
    "plt.plot(sigma_P, mu_p)\n",
    "plt.plot(sigma_P, mu_p_bawah, '--')\n",
    "plt.xlabel('sigma^2_P')\n",
    "plt.ylabel('mu_P')\n",
    "plt.grid(True)\n",
    "plt.title('Kurva Efficient Frontier')\n",
    "plt.show()\n",
    "print(f'Nilai return dari variansi yang minimum adalah : {np.min(mu_p)}')\n",
    "print(f'Dengan masing-masing proporsi saham',stock ,'adalah sebagai berikut : {h_0}')"
   ]
  },
  {
   "cell_type": "markdown",
   "metadata": {},
   "source": [
    "Misalkan ditambahkan sebuah asset \\textit{risk-free} dengan \\textit{rate of return} $r = 1.02$. Maka diperoleh capital market linenya sebagai berikut : "
   ]
  },
  {
   "cell_type": "code",
   "execution_count": 34,
   "metadata": {},
   "outputs": [],
   "source": [
    "def objective(weights): \n",
    "    weights = np.array(weights)\n",
    "    return weights.dot(C).dot(weights.T)\n",
    "# The constraints\n",
    "cons = (# The weights must sum up to one.\n",
    "        {\"type\":\"eq\", \"fun\": lambda x: np.sum(x)-1}, \n",
    "        # This constraints says that the inequalities (ineq) must be non-negative.# The expected daily return of our portfolio and we want to be at greater than 0.002352\n",
    "\n",
    "        )\n",
    "# Every stock can get any weight from 0 to 1\n",
    "bounds = tuple((0,1) for x in range(mu.shape[0]))\n",
    "# Initialize the weights with an even split\n",
    "# In out case each stock will have 10% at the beginning\n",
    "guess = [1./mu.shape[0] for x in range(mu.shape[0])]\n",
    "optimized_results = minimize(objective, guess, method = \"SLSQP\", bounds=bounds, constraints=cons)\n",
    "x_ = optimized_results.x"
   ]
  },
  {
   "cell_type": "code",
   "execution_count": 35,
   "metadata": {},
   "outputs": [
    {
     "data": {
      "text/plain": [
       "0.9999999999999999"
      ]
     },
     "execution_count": 35,
     "metadata": {},
     "output_type": "execute_result"
    }
   ],
   "source": [
    "np.sum(np.round(x_,5))"
   ]
  },
  {
   "cell_type": "code",
   "execution_count": 36,
   "metadata": {},
   "outputs": [
    {
     "data": {
      "text/plain": [
       "{'IBM': 0.14091,\n",
       " 'INTC': 0.19547,\n",
       " 'KO': 0.13701,\n",
       " 'PG': 0.31434,\n",
       " 'BAC': 0.0034,\n",
       " 'GOOGL': 0.06369,\n",
       " 'GOOG': 0.06041,\n",
       " 'MSFT': 0.06778,\n",
       " 'AMZN': 0.01699}"
      ]
     },
     "execution_count": 36,
     "metadata": {},
     "output_type": "execute_result"
    }
   ],
   "source": [
    "port_ = dict(zip(stock,np.round(x_,5)))\n",
    "port = dict()\n",
    "for (key,value) in port_.items():\n",
    "    if value >0 : \n",
    "        port[key] = value\n",
    "port"
   ]
  },
  {
   "cell_type": "code",
   "execution_count": 44,
   "metadata": {},
   "outputs": [
    {
     "data": {
      "text/plain": [
       "{'IBM': 140.91,\n",
       " 'INTC': 195.47,\n",
       " 'KO': 137.01,\n",
       " 'PG': 314.34000000000003,\n",
       " 'BAC': 3.4,\n",
       " 'GOOGL': 63.69,\n",
       " 'GOOG': 60.41,\n",
       " 'MSFT': 67.78,\n",
       " 'AMZN': 16.990000000000002}"
      ]
     },
     "execution_count": 44,
     "metadata": {},
     "output_type": "execute_result"
    }
   ],
   "source": [
    "start = 1e3 \n",
    "budget_ = dict()\n",
    "for (key,value) in port.items():\n",
    "    if value >0 : \n",
    "        budget_[key] = value*start\n",
    "budget_"
   ]
  },
  {
   "cell_type": "code",
   "execution_count": 45,
   "metadata": {},
   "outputs": [
    {
     "data": {
      "text/html": [
       "<div>\n",
       "<style scoped>\n",
       "    .dataframe tbody tr th:only-of-type {\n",
       "        vertical-align: middle;\n",
       "    }\n",
       "\n",
       "    .dataframe tbody tr th {\n",
       "        vertical-align: top;\n",
       "    }\n",
       "\n",
       "    .dataframe thead th {\n",
       "        text-align: right;\n",
       "    }\n",
       "</style>\n",
       "<table border=\"1\" class=\"dataframe\">\n",
       "  <thead>\n",
       "    <tr style=\"text-align: right;\">\n",
       "      <th></th>\n",
       "      <th>IBM</th>\n",
       "      <th>INTC</th>\n",
       "      <th>KO</th>\n",
       "      <th>PG</th>\n",
       "      <th>BAC</th>\n",
       "      <th>GOOGL</th>\n",
       "      <th>GOOG</th>\n",
       "      <th>MSFT</th>\n",
       "      <th>AMZN</th>\n",
       "    </tr>\n",
       "  </thead>\n",
       "  <tbody>\n",
       "    <tr>\n",
       "      <th>Total Spread</th>\n",
       "      <td>140.91</td>\n",
       "      <td>195.47</td>\n",
       "      <td>137.01</td>\n",
       "      <td>314.34</td>\n",
       "      <td>3.4</td>\n",
       "      <td>63.69</td>\n",
       "      <td>60.41</td>\n",
       "      <td>67.78</td>\n",
       "      <td>16.99</td>\n",
       "    </tr>\n",
       "  </tbody>\n",
       "</table>\n",
       "</div>"
      ],
      "text/plain": [
       "                 IBM    INTC      KO      PG  BAC  GOOGL   GOOG   MSFT   AMZN\n",
       "Total Spread  140.91  195.47  137.01  314.34  3.4  63.69  60.41  67.78  16.99"
      ]
     },
     "execution_count": 45,
     "metadata": {},
     "output_type": "execute_result"
    }
   ],
   "source": [
    "budget = pd.DataFrame.from_dict(data= budget_, orient= 'index').T\n",
    "budget.rename(index={0: 'Total Spread'}, inplace= True)\n",
    "budget"
   ]
  },
  {
   "cell_type": "code",
   "execution_count": 46,
   "metadata": {},
   "outputs": [
    {
     "data": {
      "text/html": [
       "<div>\n",
       "<style scoped>\n",
       "    .dataframe tbody tr th:only-of-type {\n",
       "        vertical-align: middle;\n",
       "    }\n",
       "\n",
       "    .dataframe tbody tr th {\n",
       "        vertical-align: top;\n",
       "    }\n",
       "\n",
       "    .dataframe thead th {\n",
       "        text-align: right;\n",
       "    }\n",
       "</style>\n",
       "<table border=\"1\" class=\"dataframe\">\n",
       "  <thead>\n",
       "    <tr style=\"text-align: right;\">\n",
       "      <th></th>\n",
       "      <th>IBM</th>\n",
       "      <th>INTC</th>\n",
       "      <th>KO</th>\n",
       "      <th>PG</th>\n",
       "      <th>BAC</th>\n",
       "      <th>GOOGL</th>\n",
       "      <th>GOOG</th>\n",
       "      <th>MSFT</th>\n",
       "      <th>AMZN</th>\n",
       "    </tr>\n",
       "    <tr>\n",
       "      <th>Date</th>\n",
       "      <th></th>\n",
       "      <th></th>\n",
       "      <th></th>\n",
       "      <th></th>\n",
       "      <th></th>\n",
       "      <th></th>\n",
       "      <th></th>\n",
       "      <th></th>\n",
       "      <th></th>\n",
       "    </tr>\n",
       "  </thead>\n",
       "  <tbody>\n",
       "    <tr>\n",
       "      <th>Closing 2022-05-20</th>\n",
       "      <td>12623.000336</td>\n",
       "      <td>4041.999817</td>\n",
       "      <td>5995.000076</td>\n",
       "      <td>13952.000427</td>\n",
       "      <td>3314.699936</td>\n",
       "      <td>212263.989258</td>\n",
       "      <td>213462.011719</td>\n",
       "      <td>24866.000366</td>\n",
       "      <td>211050.488281</td>\n",
       "    </tr>\n",
       "  </tbody>\n",
       "</table>\n",
       "</div>"
      ],
      "text/plain": [
       "                             IBM         INTC           KO            PG  \\\n",
       "Date                                                                       \n",
       "Closing 2022-05-20  12623.000336  4041.999817  5995.000076  13952.000427   \n",
       "\n",
       "                            BAC          GOOGL           GOOG          MSFT  \\\n",
       "Date                                                                          \n",
       "Closing 2022-05-20  3314.699936  212263.989258  213462.011719  24866.000366   \n",
       "\n",
       "                             AMZN  \n",
       "Date                               \n",
       "Closing 2022-05-20  211050.488281  "
      ]
     },
     "execution_count": 46,
     "metadata": {},
     "output_type": "execute_result"
    }
   ],
   "source": [
    "expense = pd.DataFrame(columns=port.keys())\n",
    "for item in port.keys(): \n",
    "    temp = yf.Ticker(item).history(period = '1d', interval = '1mo',actions=False)\n",
    "    expense[item] = temp['Close']*100 #1 lot\n",
    "expense.rename(index={expense.index[0]: str('Closing ' + str(expense.index[0]).split(' ')[0])}, inplace= True)\n",
    "expense"
   ]
  },
  {
   "cell_type": "code",
   "execution_count": 47,
   "metadata": {},
   "outputs": [
    {
     "data": {
      "text/html": [
       "<div>\n",
       "<style scoped>\n",
       "    .dataframe tbody tr th:only-of-type {\n",
       "        vertical-align: middle;\n",
       "    }\n",
       "\n",
       "    .dataframe tbody tr th {\n",
       "        vertical-align: top;\n",
       "    }\n",
       "\n",
       "    .dataframe thead th {\n",
       "        text-align: right;\n",
       "    }\n",
       "</style>\n",
       "<table border=\"1\" class=\"dataframe\">\n",
       "  <thead>\n",
       "    <tr style=\"text-align: right;\">\n",
       "      <th></th>\n",
       "      <th>IBM</th>\n",
       "      <th>INTC</th>\n",
       "      <th>KO</th>\n",
       "      <th>PG</th>\n",
       "      <th>BAC</th>\n",
       "      <th>GOOGL</th>\n",
       "      <th>GOOG</th>\n",
       "      <th>MSFT</th>\n",
       "      <th>AMZN</th>\n",
       "    </tr>\n",
       "  </thead>\n",
       "  <tbody>\n",
       "    <tr>\n",
       "      <th>Closing 2022-05-20</th>\n",
       "      <td>12623.000336</td>\n",
       "      <td>4041.999817</td>\n",
       "      <td>5995.000076</td>\n",
       "      <td>13952.000427</td>\n",
       "      <td>3314.699936</td>\n",
       "      <td>212263.989258</td>\n",
       "      <td>213462.011719</td>\n",
       "      <td>24866.000366</td>\n",
       "      <td>211050.488281</td>\n",
       "    </tr>\n",
       "    <tr>\n",
       "      <th>Total Spread</th>\n",
       "      <td>140.910000</td>\n",
       "      <td>195.470000</td>\n",
       "      <td>137.010000</td>\n",
       "      <td>314.340000</td>\n",
       "      <td>3.400000</td>\n",
       "      <td>63.690000</td>\n",
       "      <td>60.410000</td>\n",
       "      <td>67.780000</td>\n",
       "      <td>16.990000</td>\n",
       "    </tr>\n",
       "    <tr>\n",
       "      <th>Total Lot</th>\n",
       "      <td>0.000000</td>\n",
       "      <td>0.000000</td>\n",
       "      <td>0.000000</td>\n",
       "      <td>0.000000</td>\n",
       "      <td>0.000000</td>\n",
       "      <td>0.000000</td>\n",
       "      <td>0.000000</td>\n",
       "      <td>0.000000</td>\n",
       "      <td>0.000000</td>\n",
       "    </tr>\n",
       "    <tr>\n",
       "      <th>Total Spending</th>\n",
       "      <td>0.000000</td>\n",
       "      <td>0.000000</td>\n",
       "      <td>0.000000</td>\n",
       "      <td>0.000000</td>\n",
       "      <td>0.000000</td>\n",
       "      <td>0.000000</td>\n",
       "      <td>0.000000</td>\n",
       "      <td>0.000000</td>\n",
       "      <td>0.000000</td>\n",
       "    </tr>\n",
       "  </tbody>\n",
       "</table>\n",
       "</div>"
      ],
      "text/plain": [
       "                             IBM         INTC           KO            PG  \\\n",
       "Closing 2022-05-20  12623.000336  4041.999817  5995.000076  13952.000427   \n",
       "Total Spread          140.910000   195.470000   137.010000    314.340000   \n",
       "Total Lot               0.000000     0.000000     0.000000      0.000000   \n",
       "Total Spending          0.000000     0.000000     0.000000      0.000000   \n",
       "\n",
       "                            BAC          GOOGL           GOOG          MSFT  \\\n",
       "Closing 2022-05-20  3314.699936  212263.989258  213462.011719  24866.000366   \n",
       "Total Spread           3.400000      63.690000      60.410000     67.780000   \n",
       "Total Lot              0.000000       0.000000       0.000000      0.000000   \n",
       "Total Spending         0.000000       0.000000       0.000000      0.000000   \n",
       "\n",
       "                             AMZN  \n",
       "Closing 2022-05-20  211050.488281  \n",
       "Total Spread            16.990000  \n",
       "Total Lot                0.000000  \n",
       "Total Spending           0.000000  "
      ]
     },
     "execution_count": 47,
     "metadata": {},
     "output_type": "execute_result"
    }
   ],
   "source": [
    "qty = pd.concat([expense,budget])\n",
    "temp_ = pd.DataFrame(np.round(qty.iloc[1] / qty.iloc[0],0)).T\n",
    "temp_.rename(index={0: 'Total Lot'}, inplace= True)\n",
    "qty = pd.concat([qty, temp_])\n",
    "spend = pd.DataFrame(np.round(qty.iloc[2] * qty.iloc[0],0)).T\n",
    "finale = pd.concat([qty, spend])\n",
    "finale.rename(index={0: 'Total Spending'}, inplace= True)\n",
    "finale"
   ]
  },
  {
   "cell_type": "code",
   "execution_count": 48,
   "metadata": {},
   "outputs": [
    {
     "data": {
      "text/plain": [
       "Closing 2022-05-20    701569.190216\n",
       "Total Spread            1000.000000\n",
       "Total Lot                  0.000000\n",
       "Total Spending             0.000000\n",
       "dtype: float64"
      ]
     },
     "execution_count": 48,
     "metadata": {},
     "output_type": "execute_result"
    }
   ],
   "source": [
    "finale.sum(axis = 1)"
   ]
  },
  {
   "cell_type": "code",
   "execution_count": 49,
   "metadata": {},
   "outputs": [
    {
     "name": "stdout",
     "output_type": "stream",
     "text": [
      "return : 0.5623699392371675 %\n",
      "risk : 0.14880631929150726 %\n",
      "Total Money : 0.0\n",
      "Total Idle Money : 1000.0\n"
     ]
    }
   ],
   "source": [
    "print(f'return :', x_.dot(mu)*100, '%')\n",
    "print(f'risk :', x_.dot(C).dot(x_)*100, '%')\n",
    "print(f'Total Money :',finale.sum(axis=1)[-1])\n",
    "print(f'Total Idle Money :', start - finale.sum(axis=1)[-1])"
   ]
  },
  {
   "cell_type": "code",
   "execution_count": 50,
   "metadata": {},
   "outputs": [],
   "source": [
    "finale.to_csv(str('USA '+finale.index[0].split(' ')[1]+'.csv'))"
   ]
  }
 ],
 "metadata": {
  "interpreter": {
   "hash": "a063a9d6d4095dba70f7d4a438ef288e94ffec589b0525f5b20de998ec61033a"
  },
  "kernelspec": {
   "display_name": "Python 3.8.12 ('base')",
   "language": "python",
   "name": "python3"
  },
  "language_info": {
   "codemirror_mode": {
    "name": "ipython",
    "version": 3
   },
   "file_extension": ".py",
   "mimetype": "text/x-python",
   "name": "python",
   "nbconvert_exporter": "python",
   "pygments_lexer": "ipython3",
   "version": "3.8.12"
  },
  "orig_nbformat": 4
 },
 "nbformat": 4,
 "nbformat_minor": 2
}
