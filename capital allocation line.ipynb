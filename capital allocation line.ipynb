{
 "cells": [
  {
   "attachments": {},
   "cell_type": "markdown",
   "metadata": {},
   "source": [
    "# Introduction \n",
    "\n",
    "This Notebook will do the following things :\n",
    "1. Create a portfolio based on Markowitz Model with Integer Optimization\n",
    "2. Create a test on the portfolio for each 2 year"
   ]
  },
  {
   "attachments": {},
   "cell_type": "markdown",
   "metadata": {},
   "source": [
    "# Workflow \n",
    "0. Import useful package such as Numpy, Pandas, yfinance, scipy.optimize, matplotlib and seaborn.\n",
    "1. Filter all the stocks with stocks that currently has positive mean return and has the same date.\n",
    "2. Create portfolio.\n",
    "3. Testing the portfolio that has been made."
   ]
  },
  {
   "attachments": {},
   "cell_type": "markdown",
   "metadata": {},
   "source": [
    "# Packages"
   ]
  },
  {
   "cell_type": "code",
   "execution_count": 1,
   "metadata": {},
   "outputs": [],
   "source": [
    "import numpy as np \n",
    "import pandas as pd \n",
    "import matplotlib.pyplot as plt \n",
    "import yfinance as yf\n",
    "from scipy.optimize import minimize\n",
    "import seaborn as sn"
   ]
  },
  {
   "attachments": {},
   "cell_type": "markdown",
   "metadata": {},
   "source": [
    "# Initialize First Pick"
   ]
  },
  {
   "cell_type": "code",
   "execution_count": 2,
   "metadata": {},
   "outputs": [],
   "source": [
    "stock = ['BBCA.JK', 'BMRI.JK', 'BBNI.JK', 'BBTN.JK', 'HRUM.JK', 'SMGR.JK', 'TLKM.JK', 'UNVR.JK', 'ASII.JK']\n",
    "year = 2022\n",
    "ds = str(year-1)+'-12-01'\n",
    "df = pd.DataFrame(columns=stock)\n",
    "for i in stock :\n",
    "    temp = yf.Ticker(i).history(period = '1y', start = ds, interval = '1mo',actions=False).dropna()[['Close']][:-1]\n",
    "    log_return = np.log(temp['Close']/temp['Close'].shift(1)).dropna()\n",
    "    df[i] = log_return\n",
    "curr_ = df.describe().T\n",
    "curr_ = curr_[curr_['mean']>0]\n",
    "curr_stock = set(curr_.index)"
   ]
  },
  {
   "cell_type": "code",
   "execution_count": 3,
   "metadata": {},
   "outputs": [],
   "source": [
    "year = 2020\n",
    "ds = str(year-2)+'-12-01'\n",
    "de = str(year+1)+'-12-01'\n",
    "df = pd.DataFrame(columns=curr_stock)\n",
    "for i in stock :\n",
    "    temp = yf.Ticker(i).history(period = '2y', start = ds, end=de, interval = '1mo',actions=False).dropna()[['Close']]\n",
    "    log_return = np.log(temp['Close']/temp['Close'].shift(1)).dropna()\n",
    "    df[i] = log_return\n",
    "prev_ = df.describe().T\n",
    "prev_ = prev_[prev_['mean']>0]\n",
    "prev_stock = set(prev_.index)"
   ]
  },
  {
   "cell_type": "code",
   "execution_count": 4,
   "metadata": {},
   "outputs": [],
   "source": [
    "stock = list(prev_stock)\n",
    "#stock = list(curr_stock & prev_stock)\n",
    "year = 2020\n",
    "ds = str(year-3)+'-12-01'\n",
    "de = str(year+1)+'-12-01'\n",
    "df = pd.DataFrame(columns=stock)\n",
    "for i in stock :\n",
    "    temp = yf.Ticker(i).history(period = '2y', start = ds ,end =de ,interval = '1mo',actions=False).dropna()[['Close']]\n",
    "    if temp.shape[0] == 49:\n",
    "        log_return = np.log(temp['Close']/temp['Close'].shift(1)).dropna()\n",
    "        df[i] = log_return"
   ]
  },
  {
   "cell_type": "code",
   "execution_count": 5,
   "metadata": {},
   "outputs": [
    {
     "data": {
      "text/plain": [
       "array([[ 1.00000000e+00,  0.00000000e+00,  0.00000000e+00,\n",
       "         0.00000000e+00,  0.00000000e+00],\n",
       "       [ 0.00000000e+00,  4.10121245e-02, -3.30138024e-04,\n",
       "         1.78022334e-03,  8.91073735e-04],\n",
       "       [ 0.00000000e+00, -3.30138024e-04,  7.34234570e-03,\n",
       "         3.50410879e-03,  1.71517473e-03],\n",
       "       [ 0.00000000e+00,  1.78022334e-03,  3.50410879e-03,\n",
       "         3.12577181e-03,  7.35621772e-04],\n",
       "       [ 0.00000000e+00,  8.91073735e-04,  1.71517473e-03,\n",
       "         7.35621772e-04,  4.79982980e-03]])"
      ]
     },
     "execution_count": 5,
     "metadata": {},
     "output_type": "execute_result"
    }
   ],
   "source": [
    "mu = df.mean().values\n",
    "C = df.cov().values\n",
    "mu = np.append(5.9/1200, mu)\n",
    "C = np.vstack((np.zeros(C.shape[1]), C))\n",
    "C = np.hstack((np.column_stack([1]+[0]*(C.shape[0 ]-1)).T, C))\n",
    "C"
   ]
  },
  {
   "cell_type": "code",
   "execution_count": 6,
   "metadata": {},
   "outputs": [],
   "source": [
    "def objective(weights): \n",
    "    weights = np.array(weights)\n",
    "    return weights.dot(C).dot(weights.T)\n",
    "\n",
    "# The constraints\n",
    "cons = (\n",
    "    {\"type\":\"eq\", \"fun\": lambda x: np.sum(x)-1}, \n",
    "    #{\"type\": \"ineq\", \"fun\": lambda x: np.sum(mu*x)-0.03}\n",
    "        )\n",
    "\n",
    "bounds = tuple((0,1) for x in range(mu.shape[0]))\n",
    "guess = [1./mu.shape[0] for x in range(mu.shape[0])]\n",
    "optimized_results = minimize(objective, guess, method = \"SLSQP\", bounds=bounds, constraints=cons)\n",
    "x_ = np.round(optimized_results.x,4)"
   ]
  },
  {
   "cell_type": "code",
   "execution_count": 7,
   "metadata": {},
   "outputs": [
    {
     "data": {
      "text/plain": [
       "1.0001000000000002"
      ]
     },
     "execution_count": 7,
     "metadata": {},
     "output_type": "execute_result"
    }
   ],
   "source": [
    "np.sum(np.round(x_,5))"
   ]
  },
  {
   "cell_type": "code",
   "execution_count": 8,
   "metadata": {},
   "outputs": [
    {
     "data": {
      "text/plain": [
       "{'bond': 0.0023, 'HRUM.JK': 0.0194, 'BBCA.JK': 0.6145, 'TLKM.JK': 0.3639}"
      ]
     },
     "execution_count": 8,
     "metadata": {},
     "output_type": "execute_result"
    }
   ],
   "source": [
    "port_ = dict(zip(['bond'] + stock,np.round(x_,5)))\n",
    "port = dict()\n",
    "for (key,value) in port_.items():\n",
    "    if value >0 : \n",
    "        port[key] = value\n",
    "port"
   ]
  },
  {
   "cell_type": "code",
   "execution_count": 9,
   "metadata": {},
   "outputs": [
    {
     "data": {
      "text/plain": [
       "{'bond': 161000.0,\n",
       " 'HRUM.JK': 1358000.0,\n",
       " 'BBCA.JK': 43015000.0,\n",
       " 'TLKM.JK': 25473000.0}"
      ]
     },
     "execution_count": 9,
     "metadata": {},
     "output_type": "execute_result"
    }
   ],
   "source": [
    "start = 7e7\n",
    "budget_ = dict()\n",
    "for (key,value) in port.items():\n",
    "    if value >0 : \n",
    "        budget_[key] = value*start\n",
    "budget_"
   ]
  },
  {
   "cell_type": "code",
   "execution_count": 10,
   "metadata": {},
   "outputs": [
    {
     "data": {
      "text/html": [
       "<div>\n",
       "<style scoped>\n",
       "    .dataframe tbody tr th:only-of-type {\n",
       "        vertical-align: middle;\n",
       "    }\n",
       "\n",
       "    .dataframe tbody tr th {\n",
       "        vertical-align: top;\n",
       "    }\n",
       "\n",
       "    .dataframe thead th {\n",
       "        text-align: right;\n",
       "    }\n",
       "</style>\n",
       "<table border=\"1\" class=\"dataframe\">\n",
       "  <thead>\n",
       "    <tr style=\"text-align: right;\">\n",
       "      <th></th>\n",
       "      <th>bond</th>\n",
       "      <th>HRUM.JK</th>\n",
       "      <th>BBCA.JK</th>\n",
       "      <th>TLKM.JK</th>\n",
       "    </tr>\n",
       "  </thead>\n",
       "  <tbody>\n",
       "    <tr>\n",
       "      <th>Total Spread</th>\n",
       "      <td>161000.0</td>\n",
       "      <td>1358000.0</td>\n",
       "      <td>43015000.0</td>\n",
       "      <td>25473000.0</td>\n",
       "    </tr>\n",
       "  </tbody>\n",
       "</table>\n",
       "</div>"
      ],
      "text/plain": [
       "                  bond    HRUM.JK     BBCA.JK     TLKM.JK\n",
       "Total Spread  161000.0  1358000.0  43015000.0  25473000.0"
      ]
     },
     "execution_count": 10,
     "metadata": {},
     "output_type": "execute_result"
    }
   ],
   "source": [
    "budget = pd.DataFrame.from_dict(data= budget_, orient= 'index').T\n",
    "budget.rename(index={0: 'Total Spread'}, inplace= True)\n",
    "budget"
   ]
  },
  {
   "cell_type": "code",
   "execution_count": 11,
   "metadata": {},
   "outputs": [
    {
     "data": {
      "text/html": [
       "<div>\n",
       "<style scoped>\n",
       "    .dataframe tbody tr th:only-of-type {\n",
       "        vertical-align: middle;\n",
       "    }\n",
       "\n",
       "    .dataframe tbody tr th {\n",
       "        vertical-align: top;\n",
       "    }\n",
       "\n",
       "    .dataframe thead th {\n",
       "        text-align: right;\n",
       "    }\n",
       "</style>\n",
       "<table border=\"1\" class=\"dataframe\">\n",
       "  <thead>\n",
       "    <tr style=\"text-align: right;\">\n",
       "      <th></th>\n",
       "      <th>bond</th>\n",
       "      <th>HRUM.JK</th>\n",
       "      <th>BBCA.JK</th>\n",
       "      <th>TLKM.JK</th>\n",
       "    </tr>\n",
       "    <tr>\n",
       "      <th>Date</th>\n",
       "      <th></th>\n",
       "      <th></th>\n",
       "      <th></th>\n",
       "      <th></th>\n",
       "    </tr>\n",
       "  </thead>\n",
       "  <tbody>\n",
       "    <tr>\n",
       "      <th>Closing 2023-06-20</th>\n",
       "      <td>161000.0</td>\n",
       "      <td>141000.0</td>\n",
       "      <td>905000.0</td>\n",
       "      <td>399000.0</td>\n",
       "    </tr>\n",
       "  </tbody>\n",
       "</table>\n",
       "</div>"
      ],
      "text/plain": [
       "                        bond   HRUM.JK   BBCA.JK   TLKM.JK\n",
       "Date                                                      \n",
       "Closing 2023-06-20  161000.0  141000.0  905000.0  399000.0"
      ]
     },
     "execution_count": 11,
     "metadata": {},
     "output_type": "execute_result"
    }
   ],
   "source": [
    "expense = pd.DataFrame(columns=port.keys(), )\n",
    "for item in port.keys():\n",
    "    if item != 'bond': \n",
    "        temp = yf.Ticker(item).history(period = '1d', interval = '1mo',actions=False)\n",
    "        expense[item] = temp['Close']*100 #1 lot\n",
    "expense['bond'] = budget_['bond']\n",
    "expense.rename(index ={expense.index[0]: str('Closing ' + str(expense.index[0]).split(' ')[0])}, inplace= True)\n",
    "expense"
   ]
  },
  {
   "cell_type": "code",
   "execution_count": 12,
   "metadata": {},
   "outputs": [
    {
     "data": {
      "text/html": [
       "<div>\n",
       "<style scoped>\n",
       "    .dataframe tbody tr th:only-of-type {\n",
       "        vertical-align: middle;\n",
       "    }\n",
       "\n",
       "    .dataframe tbody tr th {\n",
       "        vertical-align: top;\n",
       "    }\n",
       "\n",
       "    .dataframe thead th {\n",
       "        text-align: right;\n",
       "    }\n",
       "</style>\n",
       "<table border=\"1\" class=\"dataframe\">\n",
       "  <thead>\n",
       "    <tr style=\"text-align: right;\">\n",
       "      <th></th>\n",
       "      <th>bond</th>\n",
       "      <th>HRUM.JK</th>\n",
       "      <th>BBCA.JK</th>\n",
       "      <th>TLKM.JK</th>\n",
       "    </tr>\n",
       "  </thead>\n",
       "  <tbody>\n",
       "    <tr>\n",
       "      <th>Closing 2023-06-20</th>\n",
       "      <td>161000.0</td>\n",
       "      <td>141000.0</td>\n",
       "      <td>905000.0</td>\n",
       "      <td>399000.0</td>\n",
       "    </tr>\n",
       "    <tr>\n",
       "      <th>Total Spread</th>\n",
       "      <td>161000.0</td>\n",
       "      <td>1358000.0</td>\n",
       "      <td>43015000.0</td>\n",
       "      <td>25473000.0</td>\n",
       "    </tr>\n",
       "    <tr>\n",
       "      <th>Total Lot</th>\n",
       "      <td>1.0</td>\n",
       "      <td>10.0</td>\n",
       "      <td>48.0</td>\n",
       "      <td>64.0</td>\n",
       "    </tr>\n",
       "    <tr>\n",
       "      <th>Total Spending</th>\n",
       "      <td>161000.0</td>\n",
       "      <td>1410000.0</td>\n",
       "      <td>43440000.0</td>\n",
       "      <td>25536000.0</td>\n",
       "    </tr>\n",
       "  </tbody>\n",
       "</table>\n",
       "</div>"
      ],
      "text/plain": [
       "                        bond    HRUM.JK     BBCA.JK     TLKM.JK\n",
       "Closing 2023-06-20  161000.0   141000.0    905000.0    399000.0\n",
       "Total Spread        161000.0  1358000.0  43015000.0  25473000.0\n",
       "Total Lot                1.0       10.0        48.0        64.0\n",
       "Total Spending      161000.0  1410000.0  43440000.0  25536000.0"
      ]
     },
     "execution_count": 12,
     "metadata": {},
     "output_type": "execute_result"
    }
   ],
   "source": [
    "qty = pd.concat([expense,budget])\n",
    "temp_ = pd.DataFrame(np.round(qty.iloc[1] / qty.iloc[0],0)).T\n",
    "temp_.rename(index={0: 'Total Lot'}, inplace= True)\n",
    "qty = pd.concat([qty, temp_])\n",
    "spend = pd.DataFrame(np.round(qty.iloc[2] * qty.iloc[0],0)).T\n",
    "finale = pd.concat([qty, spend])\n",
    "finale.rename(index={0: 'Total Spending'}, inplace= True)\n",
    "finale"
   ]
  },
  {
   "cell_type": "code",
   "execution_count": 13,
   "metadata": {},
   "outputs": [
    {
     "data": {
      "text/plain": [
       "Closing 2023-06-20     1606000.0\n",
       "Total Spread          70007000.0\n",
       "Total Lot                  123.0\n",
       "Total Spending        70547000.0\n",
       "dtype: float64"
      ]
     },
     "execution_count": 13,
     "metadata": {},
     "output_type": "execute_result"
    }
   ],
   "source": [
    "finale.sum(axis = 1)"
   ]
  },
  {
   "cell_type": "code",
   "execution_count": 14,
   "metadata": {},
   "outputs": [
    {
     "name": "stdout",
     "output_type": "stream",
     "text": [
      "return : 0.8230813125100551 %\n",
      "risk : 0.2220678580176938 %\n",
      "Total Money : 70547000.0\n",
      "Total Idle Money : -547000.0\n"
     ]
    }
   ],
   "source": [
    "print(f'return :', x_.dot(mu)*100, '%')\n",
    "print(f'risk :', x_.dot(C).dot(x_)*100, '%')\n",
    "print(f'Total Money :',finale.sum(axis=1)[-1])\n",
    "print(f'Total Idle Money :', start - finale.sum(axis=1)[-1])"
   ]
  },
  {
   "cell_type": "code",
   "execution_count": 15,
   "metadata": {},
   "outputs": [
    {
     "data": {
      "text/plain": [
       "Index(['bond', 'HRUM.JK', 'BBCA.JK', 'TLKM.JK'], dtype='object')"
      ]
     },
     "execution_count": 15,
     "metadata": {},
     "output_type": "execute_result"
    }
   ],
   "source": [
    "finale.columns"
   ]
  },
  {
   "cell_type": "code",
   "execution_count": 16,
   "metadata": {},
   "outputs": [
    {
     "data": {
      "text/html": [
       "<div>\n",
       "<style scoped>\n",
       "    .dataframe tbody tr th:only-of-type {\n",
       "        vertical-align: middle;\n",
       "    }\n",
       "\n",
       "    .dataframe tbody tr th {\n",
       "        vertical-align: top;\n",
       "    }\n",
       "\n",
       "    .dataframe thead th {\n",
       "        text-align: right;\n",
       "    }\n",
       "</style>\n",
       "<table border=\"1\" class=\"dataframe\">\n",
       "  <thead>\n",
       "    <tr style=\"text-align: right;\">\n",
       "      <th></th>\n",
       "      <th>HRUM.JK</th>\n",
       "      <th>BBCA.JK</th>\n",
       "      <th>TLKM.JK</th>\n",
       "    </tr>\n",
       "    <tr>\n",
       "      <th>Date</th>\n",
       "      <th></th>\n",
       "      <th></th>\n",
       "      <th></th>\n",
       "    </tr>\n",
       "  </thead>\n",
       "  <tbody>\n",
       "    <tr>\n",
       "      <th>2018-01-01</th>\n",
       "      <td>0.476083</td>\n",
       "      <td>0.036979</td>\n",
       "      <td>-0.106863</td>\n",
       "    </tr>\n",
       "    <tr>\n",
       "      <th>2018-02-01</th>\n",
       "      <td>0.029853</td>\n",
       "      <td>0.019608</td>\n",
       "      <td>0.002503</td>\n",
       "    </tr>\n",
       "    <tr>\n",
       "      <th>2018-03-01</th>\n",
       "      <td>-0.223143</td>\n",
       "      <td>0.005379</td>\n",
       "      <td>-0.105361</td>\n",
       "    </tr>\n",
       "    <tr>\n",
       "      <th>2018-04-01</th>\n",
       "      <td>-0.060625</td>\n",
       "      <td>-0.052876</td>\n",
       "      <td>0.061931</td>\n",
       "    </tr>\n",
       "    <tr>\n",
       "      <th>2018-05-01</th>\n",
       "      <td>0.232475</td>\n",
       "      <td>0.034375</td>\n",
       "      <td>-0.084404</td>\n",
       "    </tr>\n",
       "    <tr>\n",
       "      <th>2018-06-01</th>\n",
       "      <td>-0.264224</td>\n",
       "      <td>-0.055475</td>\n",
       "      <td>0.072158</td>\n",
       "    </tr>\n",
       "    <tr>\n",
       "      <th>2018-07-01</th>\n",
       "      <td>0.236535</td>\n",
       "      <td>0.080490</td>\n",
       "      <td>-0.049190</td>\n",
       "    </tr>\n",
       "    <tr>\n",
       "      <th>2018-08-01</th>\n",
       "      <td>-0.124704</td>\n",
       "      <td>0.063464</td>\n",
       "      <td>-0.022664</td>\n",
       "    </tr>\n",
       "    <tr>\n",
       "      <th>2018-09-01</th>\n",
       "      <td>-0.064539</td>\n",
       "      <td>-0.026559</td>\n",
       "      <td>0.042082</td>\n",
       "    </tr>\n",
       "    <tr>\n",
       "      <th>2018-10-01</th>\n",
       "      <td>-0.202524</td>\n",
       "      <td>-0.020921</td>\n",
       "      <td>0.056090</td>\n",
       "    </tr>\n",
       "    <tr>\n",
       "      <th>2018-11-01</th>\n",
       "      <td>-0.361790</td>\n",
       "      <td>0.096655</td>\n",
       "      <td>-0.045160</td>\n",
       "    </tr>\n",
       "    <tr>\n",
       "      <th>2018-12-01</th>\n",
       "      <td>0.025318</td>\n",
       "      <td>-0.001921</td>\n",
       "      <td>0.018843</td>\n",
       "    </tr>\n",
       "    <tr>\n",
       "      <th>2019-01-01</th>\n",
       "      <td>0.223144</td>\n",
       "      <td>0.083607</td>\n",
       "      <td>0.039221</td>\n",
       "    </tr>\n",
       "    <tr>\n",
       "      <th>2019-02-01</th>\n",
       "      <td>-0.177760</td>\n",
       "      <td>-0.021525</td>\n",
       "      <td>-0.010309</td>\n",
       "    </tr>\n",
       "    <tr>\n",
       "      <th>2019-03-01</th>\n",
       "      <td>-0.024181</td>\n",
       "      <td>-0.000907</td>\n",
       "      <td>0.025577</td>\n",
       "    </tr>\n",
       "    <tr>\n",
       "      <th>2019-04-01</th>\n",
       "      <td>-0.065005</td>\n",
       "      <td>0.042635</td>\n",
       "      <td>-0.043878</td>\n",
       "    </tr>\n",
       "    <tr>\n",
       "      <th>2019-05-01</th>\n",
       "      <td>0.068495</td>\n",
       "      <td>0.021200</td>\n",
       "      <td>0.028611</td>\n",
       "    </tr>\n",
       "    <tr>\n",
       "      <th>2019-06-01</th>\n",
       "      <td>0.065431</td>\n",
       "      <td>0.029626</td>\n",
       "      <td>0.059719</td>\n",
       "    </tr>\n",
       "    <tr>\n",
       "      <th>2019-07-01</th>\n",
       "      <td>-0.117364</td>\n",
       "      <td>0.032009</td>\n",
       "      <td>0.051596</td>\n",
       "    </tr>\n",
       "    <tr>\n",
       "      <th>2019-08-01</th>\n",
       "      <td>0.062177</td>\n",
       "      <td>-0.014646</td>\n",
       "      <td>0.034289</td>\n",
       "    </tr>\n",
       "    <tr>\n",
       "      <th>2019-09-01</th>\n",
       "      <td>-0.050920</td>\n",
       "      <td>-0.004930</td>\n",
       "      <td>-0.031966</td>\n",
       "    </tr>\n",
       "    <tr>\n",
       "      <th>2019-10-01</th>\n",
       "      <td>0.007435</td>\n",
       "      <td>0.035602</td>\n",
       "      <td>-0.047515</td>\n",
       "    </tr>\n",
       "    <tr>\n",
       "      <th>2019-11-01</th>\n",
       "      <td>-0.026268</td>\n",
       "      <td>-0.001591</td>\n",
       "      <td>-0.044784</td>\n",
       "    </tr>\n",
       "    <tr>\n",
       "      <th>2019-12-01</th>\n",
       "      <td>0.003795</td>\n",
       "      <td>0.062496</td>\n",
       "      <td>0.010127</td>\n",
       "    </tr>\n",
       "    <tr>\n",
       "      <th>2020-01-01</th>\n",
       "      <td>0.011299</td>\n",
       "      <td>-0.027986</td>\n",
       "      <td>-0.043765</td>\n",
       "    </tr>\n",
       "    <tr>\n",
       "      <th>2020-02-01</th>\n",
       "      <td>-0.127663</td>\n",
       "      <td>-0.029759</td>\n",
       "      <td>-0.085099</td>\n",
       "    </tr>\n",
       "    <tr>\n",
       "      <th>2020-03-01</th>\n",
       "      <td>0.116364</td>\n",
       "      <td>-0.129678</td>\n",
       "      <td>-0.099330</td>\n",
       "    </tr>\n",
       "    <tr>\n",
       "      <th>2020-04-01</th>\n",
       "      <td>-0.050496</td>\n",
       "      <td>-0.066411</td>\n",
       "      <td>0.102191</td>\n",
       "    </tr>\n",
       "    <tr>\n",
       "      <th>2020-05-01</th>\n",
       "      <td>-0.032391</td>\n",
       "      <td>0.021001</td>\n",
       "      <td>-0.105361</td>\n",
       "    </tr>\n",
       "    <tr>\n",
       "      <th>2020-06-01</th>\n",
       "      <td>-0.020791</td>\n",
       "      <td>0.092855</td>\n",
       "      <td>-0.032261</td>\n",
       "    </tr>\n",
       "    <tr>\n",
       "      <th>2020-07-01</th>\n",
       "      <td>-0.008439</td>\n",
       "      <td>0.091392</td>\n",
       "      <td>0.049662</td>\n",
       "    </tr>\n",
       "    <tr>\n",
       "      <th>2020-08-01</th>\n",
       "      <td>0.253196</td>\n",
       "      <td>0.005593</td>\n",
       "      <td>-0.064320</td>\n",
       "    </tr>\n",
       "    <tr>\n",
       "      <th>2020-09-01</th>\n",
       "      <td>0.032365</td>\n",
       "      <td>-0.146478</td>\n",
       "      <td>-0.110814</td>\n",
       "    </tr>\n",
       "    <tr>\n",
       "      <th>2020-10-01</th>\n",
       "      <td>0.328249</td>\n",
       "      <td>0.066036</td>\n",
       "      <td>0.023167</td>\n",
       "    </tr>\n",
       "    <tr>\n",
       "      <th>2020-11-01</th>\n",
       "      <td>0.243126</td>\n",
       "      <td>0.069223</td>\n",
       "      <td>0.209308</td>\n",
       "    </tr>\n",
       "    <tr>\n",
       "      <th>2020-12-01</th>\n",
       "      <td>0.069472</td>\n",
       "      <td>0.087146</td>\n",
       "      <td>0.024466</td>\n",
       "    </tr>\n",
       "    <tr>\n",
       "      <th>2021-01-01</th>\n",
       "      <td>0.489115</td>\n",
       "      <td>0.001546</td>\n",
       "      <td>-0.062326</td>\n",
       "    </tr>\n",
       "    <tr>\n",
       "      <th>2021-02-01</th>\n",
       "      <td>0.275259</td>\n",
       "      <td>-0.007424</td>\n",
       "      <td>0.115279</td>\n",
       "    </tr>\n",
       "    <tr>\n",
       "      <th>2021-03-01</th>\n",
       "      <td>-0.271153</td>\n",
       "      <td>-0.076633</td>\n",
       "      <td>-0.020261</td>\n",
       "    </tr>\n",
       "    <tr>\n",
       "      <th>2021-04-01</th>\n",
       "      <td>0.053852</td>\n",
       "      <td>0.030113</td>\n",
       "      <td>-0.066490</td>\n",
       "    </tr>\n",
       "    <tr>\n",
       "      <th>2021-05-01</th>\n",
       "      <td>-0.004866</td>\n",
       "      <td>0.009226</td>\n",
       "      <td>0.072321</td>\n",
       "    </tr>\n",
       "    <tr>\n",
       "      <th>2021-06-01</th>\n",
       "      <td>-0.009804</td>\n",
       "      <td>-0.056467</td>\n",
       "      <td>-0.088069</td>\n",
       "    </tr>\n",
       "    <tr>\n",
       "      <th>2021-07-01</th>\n",
       "      <td>0.132477</td>\n",
       "      <td>-0.009171</td>\n",
       "      <td>0.077364</td>\n",
       "    </tr>\n",
       "    <tr>\n",
       "      <th>2021-08-01</th>\n",
       "      <td>-0.170221</td>\n",
       "      <td>0.092718</td>\n",
       "      <td>0.048202</td>\n",
       "    </tr>\n",
       "    <tr>\n",
       "      <th>2021-09-01</th>\n",
       "      <td>0.651036</td>\n",
       "      <td>0.066445</td>\n",
       "      <td>0.081851</td>\n",
       "    </tr>\n",
       "    <tr>\n",
       "      <th>2021-10-01</th>\n",
       "      <td>-0.198582</td>\n",
       "      <td>0.065654</td>\n",
       "      <td>0.029375</td>\n",
       "    </tr>\n",
       "    <tr>\n",
       "      <th>2021-11-01</th>\n",
       "      <td>0.187771</td>\n",
       "      <td>-0.027120</td>\n",
       "      <td>0.048790</td>\n",
       "    </tr>\n",
       "    <tr>\n",
       "      <th>2021-12-01</th>\n",
       "      <td>0.115365</td>\n",
       "      <td>0.006781</td>\n",
       "      <td>0.012453</td>\n",
       "    </tr>\n",
       "  </tbody>\n",
       "</table>\n",
       "</div>"
      ],
      "text/plain": [
       "             HRUM.JK   BBCA.JK   TLKM.JK\n",
       "Date                                    \n",
       "2018-01-01  0.476083  0.036979 -0.106863\n",
       "2018-02-01  0.029853  0.019608  0.002503\n",
       "2018-03-01 -0.223143  0.005379 -0.105361\n",
       "2018-04-01 -0.060625 -0.052876  0.061931\n",
       "2018-05-01  0.232475  0.034375 -0.084404\n",
       "2018-06-01 -0.264224 -0.055475  0.072158\n",
       "2018-07-01  0.236535  0.080490 -0.049190\n",
       "2018-08-01 -0.124704  0.063464 -0.022664\n",
       "2018-09-01 -0.064539 -0.026559  0.042082\n",
       "2018-10-01 -0.202524 -0.020921  0.056090\n",
       "2018-11-01 -0.361790  0.096655 -0.045160\n",
       "2018-12-01  0.025318 -0.001921  0.018843\n",
       "2019-01-01  0.223144  0.083607  0.039221\n",
       "2019-02-01 -0.177760 -0.021525 -0.010309\n",
       "2019-03-01 -0.024181 -0.000907  0.025577\n",
       "2019-04-01 -0.065005  0.042635 -0.043878\n",
       "2019-05-01  0.068495  0.021200  0.028611\n",
       "2019-06-01  0.065431  0.029626  0.059719\n",
       "2019-07-01 -0.117364  0.032009  0.051596\n",
       "2019-08-01  0.062177 -0.014646  0.034289\n",
       "2019-09-01 -0.050920 -0.004930 -0.031966\n",
       "2019-10-01  0.007435  0.035602 -0.047515\n",
       "2019-11-01 -0.026268 -0.001591 -0.044784\n",
       "2019-12-01  0.003795  0.062496  0.010127\n",
       "2020-01-01  0.011299 -0.027986 -0.043765\n",
       "2020-02-01 -0.127663 -0.029759 -0.085099\n",
       "2020-03-01  0.116364 -0.129678 -0.099330\n",
       "2020-04-01 -0.050496 -0.066411  0.102191\n",
       "2020-05-01 -0.032391  0.021001 -0.105361\n",
       "2020-06-01 -0.020791  0.092855 -0.032261\n",
       "2020-07-01 -0.008439  0.091392  0.049662\n",
       "2020-08-01  0.253196  0.005593 -0.064320\n",
       "2020-09-01  0.032365 -0.146478 -0.110814\n",
       "2020-10-01  0.328249  0.066036  0.023167\n",
       "2020-11-01  0.243126  0.069223  0.209308\n",
       "2020-12-01  0.069472  0.087146  0.024466\n",
       "2021-01-01  0.489115  0.001546 -0.062326\n",
       "2021-02-01  0.275259 -0.007424  0.115279\n",
       "2021-03-01 -0.271153 -0.076633 -0.020261\n",
       "2021-04-01  0.053852  0.030113 -0.066490\n",
       "2021-05-01 -0.004866  0.009226  0.072321\n",
       "2021-06-01 -0.009804 -0.056467 -0.088069\n",
       "2021-07-01  0.132477 -0.009171  0.077364\n",
       "2021-08-01 -0.170221  0.092718  0.048202\n",
       "2021-09-01  0.651036  0.066445  0.081851\n",
       "2021-10-01 -0.198582  0.065654  0.029375\n",
       "2021-11-01  0.187771 -0.027120  0.048790\n",
       "2021-12-01  0.115365  0.006781  0.012453"
      ]
     },
     "execution_count": 16,
     "metadata": {},
     "output_type": "execute_result"
    }
   ],
   "source": [
    "df[finale.columns[1:]]"
   ]
  },
  {
   "cell_type": "code",
   "execution_count": 17,
   "metadata": {},
   "outputs": [],
   "source": [
    "test = pd.DataFrame(columns = finale.columns[1:])\n",
    "for i in finale.columns :\n",
    "    temp = yf.Ticker(i).history(period = '1y', start = '2021-12-31', interval = '1mo',actions=False).dropna()[['Close']][:-1]\n",
    "    log_return = np.log(temp['Close']/temp['Close'].shift(1)).dropna()\n",
    "    test[i] = log_return"
   ]
  },
  {
   "cell_type": "code",
   "execution_count": 18,
   "metadata": {},
   "outputs": [
    {
     "data": {
      "image/png": "[encoded data removed]",
      "text/plain": [
       "<Figure size 640x480 with 1 Axes>"
      ]
     },
     "metadata": {},
     "output_type": "display_data"
    }
   ],
   "source": [
    "test.T.plot.bar()\n",
    "plt.grid(True)\n",
    "plt.show()"
   ]
  },
  {
   "cell_type": "code",
   "execution_count": 19,
   "metadata": {},
   "outputs": [
    {
     "data": {
      "text/plain": [
       "[0.0023, 0.0194, 0.6145, 0.3639]"
      ]
     },
     "execution_count": 19,
     "metadata": {},
     "output_type": "execute_result"
    }
   ],
   "source": [
    "ports = [x_[i] for i in range(len(x_)) if x_[i]>0]\n",
    "ports"
   ]
  },
  {
   "cell_type": "code",
   "execution_count": 20,
   "metadata": {},
   "outputs": [
    {
     "data": {
      "text/html": [
       "<div>\n",
       "<style scoped>\n",
       "    .dataframe tbody tr th:only-of-type {\n",
       "        vertical-align: middle;\n",
       "    }\n",
       "\n",
       "    .dataframe tbody tr th {\n",
       "        vertical-align: top;\n",
       "    }\n",
       "\n",
       "    .dataframe thead th {\n",
       "        text-align: right;\n",
       "    }\n",
       "</style>\n",
       "<table border=\"1\" class=\"dataframe\">\n",
       "  <thead>\n",
       "    <tr style=\"text-align: right;\">\n",
       "      <th></th>\n",
       "      <th>HRUM.JK</th>\n",
       "      <th>BBCA.JK</th>\n",
       "      <th>TLKM.JK</th>\n",
       "      <th>bond</th>\n",
       "      <th>total_return</th>\n",
       "    </tr>\n",
       "    <tr>\n",
       "      <th>Date</th>\n",
       "      <th></th>\n",
       "      <th></th>\n",
       "      <th></th>\n",
       "      <th></th>\n",
       "      <th></th>\n",
       "    </tr>\n",
       "  </thead>\n",
       "  <tbody>\n",
       "    <tr>\n",
       "      <th>2022-02-01</th>\n",
       "      <td>0.144355</td>\n",
       "      <td>0.054240</td>\n",
       "      <td>0.035174</td>\n",
       "      <td>-0.018168</td>\n",
       "      <td>0.021304</td>\n",
       "    </tr>\n",
       "    <tr>\n",
       "      <th>2022-03-01</th>\n",
       "      <td>-0.137321</td>\n",
       "      <td>-0.009360</td>\n",
       "      <td>0.053825</td>\n",
       "      <td>-0.031567</td>\n",
       "      <td>0.026007</td>\n",
       "    </tr>\n",
       "    <tr>\n",
       "      <th>2022-04-01</th>\n",
       "      <td>0.074275</td>\n",
       "      <td>0.033844</td>\n",
       "      <td>0.008696</td>\n",
       "      <td>-0.039032</td>\n",
       "      <td>-0.003116</td>\n",
       "    </tr>\n",
       "    <tr>\n",
       "      <th>2022-05-01</th>\n",
       "      <td>0.029917</td>\n",
       "      <td>-0.047253</td>\n",
       "      <td>-0.069457</td>\n",
       "      <td>0.003282</td>\n",
       "      <td>-0.037418</td>\n",
       "    </tr>\n",
       "    <tr>\n",
       "      <th>2022-06-01</th>\n",
       "      <td>-0.429973</td>\n",
       "      <td>-0.066691</td>\n",
       "      <td>-0.074643</td>\n",
       "      <td>-0.023447</td>\n",
       "      <td>-0.051767</td>\n",
       "    </tr>\n",
       "    <tr>\n",
       "      <th>2022-07-01</th>\n",
       "      <td>0.184919</td>\n",
       "      <td>0.013699</td>\n",
       "      <td>0.091831</td>\n",
       "      <td>0.026011</td>\n",
       "      <td>0.071503</td>\n",
       "    </tr>\n",
       "    <tr>\n",
       "      <th>2022-08-01</th>\n",
       "      <td>-0.081851</td>\n",
       "      <td>0.109434</td>\n",
       "      <td>0.075121</td>\n",
       "      <td>-0.028199</td>\n",
       "      <td>0.042752</td>\n",
       "    </tr>\n",
       "    <tr>\n",
       "      <th>2022-09-01</th>\n",
       "      <td>0.045985</td>\n",
       "      <td>0.041797</td>\n",
       "      <td>-0.022174</td>\n",
       "      <td>-0.049556</td>\n",
       "      <td>-0.025826</td>\n",
       "    </tr>\n",
       "    <tr>\n",
       "      <th>2022-10-01</th>\n",
       "      <td>-0.100379</td>\n",
       "      <td>0.028820</td>\n",
       "      <td>-0.015819</td>\n",
       "      <td>-0.014227</td>\n",
       "      <td>-0.009653</td>\n",
       "    </tr>\n",
       "    <tr>\n",
       "      <th>2022-11-01</th>\n",
       "      <td>0.086235</td>\n",
       "      <td>0.055263</td>\n",
       "      <td>-0.083085</td>\n",
       "      <td>0.036681</td>\n",
       "      <td>-0.031520</td>\n",
       "    </tr>\n",
       "    <tr>\n",
       "      <th>2022-12-01</th>\n",
       "      <td>-0.080043</td>\n",
       "      <td>-0.084083</td>\n",
       "      <td>-0.074489</td>\n",
       "      <td>-0.005079</td>\n",
       "      <td>-0.044520</td>\n",
       "    </tr>\n",
       "    <tr>\n",
       "      <th>2023-01-01</th>\n",
       "      <td>0.109051</td>\n",
       "      <td>-0.004914</td>\n",
       "      <td>0.026317</td>\n",
       "      <td>0.043377</td>\n",
       "      <td>0.037029</td>\n",
       "    </tr>\n",
       "    <tr>\n",
       "      <th>2023-02-01</th>\n",
       "      <td>-0.059541</td>\n",
       "      <td>0.031933</td>\n",
       "      <td>0.007762</td>\n",
       "      <td>-0.026219</td>\n",
       "      <td>0.000628</td>\n",
       "    </tr>\n",
       "    <tr>\n",
       "      <th>2023-03-01</th>\n",
       "      <td>-0.110144</td>\n",
       "      <td>0.000000</td>\n",
       "      <td>0.045348</td>\n",
       "      <td>0.016991</td>\n",
       "      <td>0.038713</td>\n",
       "    </tr>\n",
       "    <tr>\n",
       "      <th>2023-04-01</th>\n",
       "      <td>0.033673</td>\n",
       "      <td>0.053502</td>\n",
       "      <td>0.045736</td>\n",
       "      <td>0.007049</td>\n",
       "      <td>0.036702</td>\n",
       "    </tr>\n",
       "    <tr>\n",
       "      <th>2023-05-01</th>\n",
       "      <td>-0.068520</td>\n",
       "      <td>0.000000</td>\n",
       "      <td>-0.050674</td>\n",
       "      <td>-0.008318</td>\n",
       "      <td>-0.029407</td>\n",
       "    </tr>\n",
       "    <tr>\n",
       "      <th>2023-06-01</th>\n",
       "      <td>0.014085</td>\n",
       "      <td>-0.005540</td>\n",
       "      <td>-0.020001</td>\n",
       "      <td>0.000344</td>\n",
       "      <td>-0.007323</td>\n",
       "    </tr>\n",
       "  </tbody>\n",
       "</table>\n",
       "</div>"
      ],
      "text/plain": [
       "             HRUM.JK   BBCA.JK   TLKM.JK      bond  total_return\n",
       "Date                                                            \n",
       "2022-02-01  0.144355  0.054240  0.035174 -0.018168      0.021304\n",
       "2022-03-01 -0.137321 -0.009360  0.053825 -0.031567      0.026007\n",
       "2022-04-01  0.074275  0.033844  0.008696 -0.039032     -0.003116\n",
       "2022-05-01  0.029917 -0.047253 -0.069457  0.003282     -0.037418\n",
       "2022-06-01 -0.429973 -0.066691 -0.074643 -0.023447     -0.051767\n",
       "2022-07-01  0.184919  0.013699  0.091831  0.026011      0.071503\n",
       "2022-08-01 -0.081851  0.109434  0.075121 -0.028199      0.042752\n",
       "2022-09-01  0.045985  0.041797 -0.022174 -0.049556     -0.025826\n",
       "2022-10-01 -0.100379  0.028820 -0.015819 -0.014227     -0.009653\n",
       "2022-11-01  0.086235  0.055263 -0.083085  0.036681     -0.031520\n",
       "2022-12-01 -0.080043 -0.084083 -0.074489 -0.005079     -0.044520\n",
       "2023-01-01  0.109051 -0.004914  0.026317  0.043377      0.037029\n",
       "2023-02-01 -0.059541  0.031933  0.007762 -0.026219      0.000628\n",
       "2023-03-01 -0.110144  0.000000  0.045348  0.016991      0.038713\n",
       "2023-04-01  0.033673  0.053502  0.045736  0.007049      0.036702\n",
       "2023-05-01 -0.068520  0.000000 -0.050674 -0.008318     -0.029407\n",
       "2023-06-01  0.014085 -0.005540 -0.020001  0.000344     -0.007323"
      ]
     },
     "execution_count": 20,
     "metadata": {},
     "output_type": "execute_result"
    }
   ],
   "source": [
    "test['total_return'] = test.dot(ports) + 5.9/1200\n",
    "test"
   ]
  },
  {
   "cell_type": "code",
   "execution_count": 21,
   "metadata": {},
   "outputs": [
    {
     "data": {
      "text/plain": [
       "Index(['HRUM.JK', 'BBCA.JK', 'TLKM.JK', 'bond'], dtype='object')"
      ]
     },
     "execution_count": 21,
     "metadata": {},
     "output_type": "execute_result"
    }
   ],
   "source": [
    "test.columns[:-1]"
   ]
  },
  {
   "cell_type": "code",
   "execution_count": 22,
   "metadata": {},
   "outputs": [
    {
     "data": {
      "image/png": "[encoded data removed]",
      "text/plain": [
       "<Figure size 640x480 with 1 Axes>"
      ]
     },
     "metadata": {},
     "output_type": "display_data"
    }
   ],
   "source": [
    "test.total_return.plot.bar()\n",
    "plt.grid(True)\n",
    "plt.show()"
   ]
  },
  {
   "cell_type": "code",
   "execution_count": 23,
   "metadata": {},
   "outputs": [],
   "source": [
    "finale.to_csv(str('IHSG '+finale.index[0].split(' ')[1]+'.csv'))"
   ]
  }
 ],
 "metadata": {
  "kernelspec": {
   "display_name": "Python 3.10.0 64-bit",
   "language": "python",
   "name": "python3"
  },
  "language_info": {
   "codemirror_mode": {
    "name": "ipython",
    "version": 3
   },
   "file_extension": ".py",
   "mimetype": "text/x-python",
   "name": "python",
   "nbconvert_exporter": "python",
   "pygments_lexer": "ipython3",
   "version": "3.10.0"
  },
  "orig_nbformat": 4,
  "vscode": {
   "interpreter": {
    "hash": "9be826744cc5714b462ad0c8de88bfa6f016a48973c6317b9546595d1685cabb"
   }
  }
 },
 "nbformat": 4,
 "nbformat_minor": 2
}
