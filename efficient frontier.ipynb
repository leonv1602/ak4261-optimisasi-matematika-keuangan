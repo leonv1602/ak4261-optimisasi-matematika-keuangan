{
 "cells": [
  {
   "cell_type": "markdown",
   "metadata": {},
   "source": [
    "# Packages"
   ]
  },
  {
   "cell_type": "code",
   "execution_count": 1,
   "metadata": {},
   "outputs": [],
   "source": [
    "import numpy as np \n",
    "import pandas as pd \n",
    "import matplotlib.pyplot as plt \n",
    "import yfinance as yf\n",
    "import yahoofinancials\n",
    "import seaborn as sn\n",
    "from scipy.stats import anderson,kstest,shapiro, probplot"
   ]
  },
  {
   "cell_type": "markdown",
   "metadata": {},
   "source": [
    "# Masalah.  \n",
    "Misalkan portofolio saham dengan komposisi saham TLKM, BBNI, dan ASII. Akan dicari nilai return dengan variansi minimal dan juga dicari komposisi dari masing-masing saham.  "
   ]
  },
  {
   "cell_type": "code",
   "execution_count": 2,
   "metadata": {},
   "outputs": [],
   "source": [
    "stock = ['TLKM.JK', 'BBNI.JK','ASII.JK', 'ANTM.JK', 'INDF.JK']\n",
    "df = pd.DataFrame(columns=stock)\n",
    "for i in stock :\n",
    "    temp = yf.Ticker(i).history(period = '2y', interval = '1mo',actions=False)\n",
    "    temp.dropna(inplace = True)\n",
    "    temp['log_return'] = np.log(temp['Close']) - np.log(temp['Close'].shift(1))\n",
    "    temp['log_return'].dropna(inplace = True)\n",
    "    df[i] =temp['log_return'].dropna()"
   ]
  },
  {
   "cell_type": "code",
   "execution_count": 3,
   "metadata": {},
   "outputs": [
    {
     "name": "stdout",
     "output_type": "stream",
     "text": [
      "Vektor return [0.01365404 0.027647   0.01836598 0.06588783 0.00061005] dan \n",
      " matriks kovariansi \n",
      " [[ 0.00557544  0.0043397  -0.00055464  0.00223329  0.00054331]\n",
      " [ 0.0043397   0.01106426  0.0019162   0.00409714  0.00386056]\n",
      " [-0.00055464  0.0019162   0.00762277  0.00711988 -0.0010938 ]\n",
      " [ 0.00223329  0.00409714  0.00711988  0.03077674 -0.00133608]\n",
      " [ 0.00054331  0.00386056 -0.0010938  -0.00133608  0.00482033]] \n",
      " dan vektor e [1. 1. 1. 1. 1.]\n"
     ]
    }
   ],
   "source": [
    "mu = df.mean().values\n",
    "C = df.cov().values\n",
    "e = np.ones(len(mu))\n",
    "print(f'Vektor return {mu} dan \\n matriks kovariansi \\n {C} \\n dan vektor e {e}')\n"
   ]
  },
  {
   "cell_type": "code",
   "execution_count": 4,
   "metadata": {},
   "outputs": [],
   "source": [
    "# mu = np.array([1.1, 1.2, 1.3])\n",
    "# C = np.array([[0.01, 0, 0], [0, 0.05, 0], [0, 0, 0.07]])\n",
    "# e = np.ones(len(mu))\n",
    "# print(f'Vektor return {mu} dan \\n matriks kovariansi \\n {C} \\n dan vektor e {e}')\n"
   ]
  },
  {
   "cell_type": "markdown",
   "metadata": {},
   "source": [
    "Dari masalah \n",
    "\\begin{equation}\n",
    "\\min\\left\\{ -t \\mu^T \\mathbf{x} +  \\frac{1}{2}\\mathbf{x}^T C  \\mathbf{x} | \\mathbf{e}^T \\mathbf{x} = 1 \\right\\}\n",
    "\\end{equation}\n",
    "dengan $t$ adalah suatu parameter tak negatif.  \n",
    "dapat diperoleh bahwa persamaan untuk efficient frontiernya adalah : \n",
    "\\begin{equation}\n",
    "\\sigma^2_P - \\beta_0 = \\frac{(\\mu_P - \\alpha_0)^2}{\\alpha_1}\n",
    "\\end{equation}\n",
    "dengan :\n",
    "\\begin{align}\n",
    "\\alpha_0 = \\mu^T h_0 \\\\\n",
    "\\alpha_1 = \\mu^T h_1 \\\\\n",
    "\\beta_0 = h_0^TCh_0\n",
    "\\end{align}\n",
    "dan \n",
    "\\begin{align}\n",
    "h_0 &= \\frac{C^{-1}e}{e^TC^{-1}e} \\\\  \n",
    "h_1 &= C^{-1}\\mu - \\frac{e^TC^{-1}\\mu}{e^TC^{-1}e} C^{-1}e\n",
    "\\end{align}"
   ]
  },
  {
   "cell_type": "code",
   "execution_count": 5,
   "metadata": {},
   "outputs": [
    {
     "name": "stdout",
     "output_type": "stream",
     "text": [
      "Diperoleh \n",
      " h_0 [ 0.44099691 -0.30167628  0.35206059 -0.01134999  0.51996877]\n",
      " dan \n",
      " h_1 [-1.16931838  3.06600806 -1.01579496  1.81474254 -2.69563726]\n"
     ]
    }
   ],
   "source": [
    "h_0 = (np.linalg.inv(C).dot(e))/(e.dot(np.linalg.inv(C)).dot(e))\n",
    "h_1 = np.linalg.inv(C).dot(mu) -((e.dot(np.linalg.inv(C)).dot(mu))/(e.dot(np.linalg.inv(C)).dot(e)))*(np.linalg.inv(C).dot(e))\n",
    "print(f'Diperoleh \\n h_0 {h_0}\\n dan \\n h_1 {h_1}')"
   ]
  },
  {
   "cell_type": "code",
   "execution_count": 6,
   "metadata": {},
   "outputs": [
    {
     "name": "stdout",
     "output_type": "stream",
     "text": [
      "Diperoleh \n",
      " alpha_0 : 0.0037162638266703585, \n",
      " alpha_1 : 0.16806889986475876, \n",
      " beta_0 : 0.001211456838317449\n",
      " beta_2 : 0.16806889986475876\n"
     ]
    }
   ],
   "source": [
    "alpha_0 = mu.dot(h_0)\n",
    "alpha_1 = mu.dot(h_1)\n",
    "beta_0 = h_0.dot(C).dot(h_0)\n",
    "beta_2 = h_1.dot(C).dot(h_1)\n",
    "print(f'Diperoleh \\n alpha_0 : {alpha_0}, \\n alpha_1 : {alpha_1}, \\n beta_0 : {beta_0}\\n beta_2 : {beta_2}')"
   ]
  },
  {
   "cell_type": "markdown",
   "metadata": {},
   "source": [
    "Sehingga persamaan Efficient Frontier - nya menjadi :  \n",
    "\\begin{equation}\n",
    "\\sigma^2_P - 0.00875 = \\frac{(\\mu_P - 1.125)^2}{0.035}\n",
    "\\end{equation}"
   ]
  },
  {
   "cell_type": "code",
   "execution_count": 7,
   "metadata": {},
   "outputs": [
    {
     "data": {
      "image/png": "[encoded data removed]",
      "text/plain": [
       "<Figure size 432x288 with 1 Axes>"
      ]
     },
     "metadata": {
      "needs_background": "light"
     },
     "output_type": "display_data"
    },
    {
     "name": "stdout",
     "output_type": "stream",
     "text": [
      "Nilai return dari variansi yang minimum adalah : 0.0037162638266703585\n",
      "Dengan masing-masing proporsi saham TLKM, BBNI dan ASII adalah sebagai berikut : [ 0.44099691 -0.30167628  0.35206059 -0.01134999  0.51996877]\n"
     ]
    }
   ],
   "source": [
    "t = np.linspace(0,0.5, 1000)\n",
    "sigma_P = beta_0 + t**2 *beta_2\n",
    "mu_p = alpha_0 + t*alpha_1\n",
    "mu_p_bawah = alpha_0 - t*alpha_1\n",
    "plt.plot(sigma_P, mu_p)\n",
    "plt.plot(sigma_P, mu_p_bawah, '--')\n",
    "plt.xlabel('sigma^2_P')\n",
    "plt.ylabel('mu_P')\n",
    "plt.grid(True)\n",
    "plt.title('Kurva Efficient Frontier')\n",
    "plt.show()\n",
    "print(f'Nilai return dari variansi yang minimum adalah : {np.min(mu_p)}')\n",
    "print(f'Dengan masing-masing proporsi saham TLKM, BBNI dan ASII adalah sebagai berikut : {h_0}')"
   ]
  },
  {
   "cell_type": "markdown",
   "metadata": {},
   "source": [
    "Misalkan ditambahkan sebuah asset \\textit{risk-free} dengan \\textit{rate of return} $r = 1.02$. Maka diperoleh capital market linenya sebagai berikut : "
   ]
  },
  {
   "cell_type": "code",
   "execution_count": 8,
   "metadata": {},
   "outputs": [
    {
     "data": {
      "text/plain": [
       "1.0"
      ]
     },
     "execution_count": 8,
     "metadata": {},
     "output_type": "execute_result"
    }
   ],
   "source": [
    "h_0.sum()"
   ]
  }
 ],
 "metadata": {
  "interpreter": {
   "hash": "573a5c7e7f6b69a982819e50b3614ba2e70da23418480f96bebec1796dfd44fd"
  },
  "kernelspec": {
   "display_name": "Python 3.8.12 ('base')",
   "language": "python",
   "name": "python3"
  },
  "language_info": {
   "codemirror_mode": {
    "name": "ipython",
    "version": 3
   },
   "file_extension": ".py",
   "mimetype": "text/x-python",
   "name": "python",
   "nbconvert_exporter": "python",
   "pygments_lexer": "ipython3",
   "version": "3.9.7"
  },
  "orig_nbformat": 4
 },
 "nbformat": 4,
 "nbformat_minor": 2
}
