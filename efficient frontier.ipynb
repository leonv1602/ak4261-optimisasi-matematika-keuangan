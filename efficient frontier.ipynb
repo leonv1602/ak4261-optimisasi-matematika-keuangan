{
 "cells": [
  {
   "cell_type": "markdown",
   "metadata": {},
   "source": [
    "# Packages"
   ]
  },
  {
   "cell_type": "code",
   "execution_count": 85,
   "metadata": {},
   "outputs": [],
   "source": [
    "import numpy as np \n",
    "import pandas as pd \n",
    "import matplotlib.pyplot as plt \n",
    "import yfinance as yf\n",
    "import yahoofinancials\n",
    "from scipy.optimize import minimize\n",
    "import seaborn as sn\n",
    "from scipy.stats import anderson,kstest,shapiro, probplot"
   ]
  },
  {
   "cell_type": "markdown",
   "metadata": {},
   "source": [
    "# Masalah.  \n",
    "Misalkan portofolio saham dengan komposisi saham TLKM, BBNI, dan ASII. Akan dicari nilai return dengan variansi minimal dan juga dicari komposisi dari masing-masing saham.  "
   ]
  },
  {
   "cell_type": "code",
   "execution_count": 86,
   "metadata": {},
   "outputs": [],
   "source": [
    "stock = ['TLKM.JK', 'BBNI.JK','ASII.JK', 'ANTM.JK', 'BMRI.JK','BBRI.JK', 'ARTO.JK', 'UNVR.JK', 'AMRT.JK', 'HRUM.JK',\n",
    "        'BBCA.JK', 'INCO.JK', 'ADRO.JK', 'PTBA.JK', 'PGAS.JK']\n",
    "#stock = ['TSLA', 'DIS', 'NKE', 'AAPL']\n",
    "df = pd.DataFrame(columns=stock)\n",
    "for i in stock :\n",
    "    temp = yf.Ticker(i).history(period = '2y', interval = '1mo',actions=False)\n",
    "    temp.dropna(inplace = True)\n",
    "    temp['log_return'] = np.log(temp['Close']) - np.log(temp['Close'].shift(1))\n",
    "    temp['log_return'].dropna(inplace = True)\n",
    "    df[i] =temp['log_return'].dropna()"
   ]
  },
  {
   "cell_type": "code",
   "execution_count": 87,
   "metadata": {},
   "outputs": [
    {
     "name": "stdout",
     "output_type": "stream",
     "text": [
      "Vektor return [ 0.01843036  0.02534878  0.01846719  0.05667793  0.02268483  0.01730035\n",
      "  0.07438388 -0.01936311  0.02737275  0.08900982  0.01168166  0.0364298\n",
      "  0.05489027  0.03189456  0.01077624] dan \n",
      " matriks kovariansi \n",
      " [[ 5.16800061e-03  4.43555390e-03  9.02464458e-04  2.89471830e-03\n",
      "   1.90889324e-03  3.99995787e-03  1.55344789e-03  1.29104500e-04\n",
      "   1.20096380e-03  3.08195508e-03  2.39399819e-03  2.81064585e-03\n",
      "   3.01228609e-03  4.39556983e-03  6.15080757e-03]\n",
      " [ 4.43555390e-03  1.06368834e-02  3.58663511e-03  4.42273865e-03\n",
      "   5.52523750e-03  6.13532554e-03 -5.17689391e-03  2.12880817e-03\n",
      "  -1.34791206e-03 -9.98584051e-04  4.14635653e-03  4.31095679e-03\n",
      "   2.06773301e-03  3.95026446e-03  1.03717384e-02]\n",
      " [ 9.02464458e-04  3.58663511e-03  7.45365820e-03  8.03092761e-03\n",
      "   5.71369323e-03  2.55363149e-03 -2.58515387e-03  7.20617745e-06\n",
      "   6.03284623e-04 -1.11587281e-04  3.58684816e-03  3.63638450e-03\n",
      "   1.33500347e-03  2.33127230e-03  5.57823207e-03]\n",
      " [ 2.89471830e-03  4.42273865e-03  8.03092761e-03  3.18377162e-02\n",
      "   4.52342861e-03  7.18829710e-03  1.38176988e-02 -1.23165832e-03\n",
      "   6.60598068e-03  1.32698379e-02  5.55731595e-03  1.44065245e-02\n",
      "  -1.38222678e-03  5.53680062e-03  1.02252650e-02]\n",
      " [ 1.90889324e-03  5.52523750e-03  5.71369323e-03  4.52342861e-03\n",
      "   7.14274588e-03  3.95688172e-03 -1.28275143e-03  4.96388431e-04\n",
      "  -8.68773679e-04  3.46439038e-04  3.87060743e-03  3.68384643e-03\n",
      "   1.65384388e-03  2.10834834e-03  6.36340616e-03]\n",
      " [ 3.99995787e-03  6.13532554e-03  2.55363149e-03  7.18829710e-03\n",
      "   3.95688172e-03  7.05922678e-03  3.62463061e-04  9.80846613e-04\n",
      "   5.84280386e-04  7.16013162e-03  3.22082217e-03  4.85017450e-03\n",
      "   2.32209472e-03  4.34940021e-03  7.41966937e-03]\n",
      " [ 1.55344789e-03 -5.17689391e-03 -2.58515387e-03  1.38176988e-02\n",
      "  -1.28275143e-03  3.62463061e-04  3.89121888e-02 -4.30100972e-03\n",
      "   2.14635011e-03  9.69435596e-03  8.73784801e-04  5.31312869e-03\n",
      "  -4.93488973e-03  1.69776717e-03 -2.47449136e-03]\n",
      " [ 1.29104500e-04  2.12880817e-03  7.20617745e-06 -1.23165832e-03\n",
      "   4.96388431e-04  9.80846613e-04 -4.30100972e-03  6.43755713e-03\n",
      "  -3.20637258e-03 -3.34034340e-03  8.02685728e-05 -2.08972369e-04\n",
      "  -1.44767064e-03  5.70338843e-04  3.45197465e-03]\n",
      " [ 1.20096380e-03 -1.34791206e-03  6.03284623e-04  6.60598068e-03\n",
      "  -8.68773679e-04  5.84280386e-04  2.14635011e-03 -3.20637258e-03\n",
      "   1.65907011e-02  3.10701589e-03 -2.06166023e-04  5.50535389e-03\n",
      "   3.12078048e-03  1.26354887e-03 -7.28640759e-05]\n",
      " [ 3.08195508e-03 -9.98584051e-04 -1.11587281e-04  1.32698379e-02\n",
      "   3.46439038e-04  7.16013162e-03  9.69435596e-03 -3.34034340e-03\n",
      "   3.10701589e-03  4.58897443e-02  2.91863206e-03  6.18080793e-03\n",
      "   6.79424638e-03  8.28027121e-03  2.34243977e-03]\n",
      " [ 2.39399819e-03  4.14635653e-03  3.58684816e-03  5.55731595e-03\n",
      "   3.87060743e-03  3.22082217e-03  8.73784801e-04  8.02685728e-05\n",
      "  -2.06166023e-04  2.91863206e-03  3.64508378e-03  3.18710947e-03\n",
      "   1.56136845e-03  2.92758961e-03  5.92898574e-03]\n",
      " [ 2.81064585e-03  4.31095679e-03  3.63638450e-03  1.44065245e-02\n",
      "   3.68384643e-03  4.85017450e-03  5.31312869e-03 -2.08972369e-04\n",
      "   5.50535389e-03  6.18080793e-03  3.18710947e-03  1.40160616e-02\n",
      "   1.14123636e-03  3.64449715e-03  4.72726492e-03]\n",
      " [ 3.01228609e-03  2.06773301e-03  1.33500347e-03 -1.38222678e-03\n",
      "   1.65384388e-03  2.32209472e-03 -4.93488973e-03 -1.44767064e-03\n",
      "   3.12078048e-03  6.79424638e-03  1.56136845e-03  1.14123636e-03\n",
      "   1.34753121e-02  8.25984046e-03  3.59846966e-03]\n",
      " [ 4.39556983e-03  3.95026446e-03  2.33127230e-03  5.53680062e-03\n",
      "   2.10834834e-03  4.34940021e-03  1.69776717e-03  5.70338843e-04\n",
      "   1.26354887e-03  8.28027121e-03  2.92758961e-03  3.64449715e-03\n",
      "   8.25984046e-03  9.74572530e-03  7.33095523e-03]\n",
      " [ 6.15080757e-03  1.03717384e-02  5.57823207e-03  1.02252650e-02\n",
      "   6.36340616e-03  7.41966937e-03 -2.47449136e-03  3.45197465e-03\n",
      "  -7.28640759e-05  2.34243977e-03  5.92898574e-03  4.72726492e-03\n",
      "   3.59846966e-03  7.33095523e-03  1.72539299e-02]] \n",
      " dan vektor e [1. 1. 1. 1. 1. 1. 1. 1. 1. 1. 1. 1. 1. 1. 1.]\n"
     ]
    }
   ],
   "source": [
    "mu = df.mean().values\n",
    "C = df.cov().values\n",
    "e = np.ones(len(mu))\n",
    "print(f'Vektor return {mu} dan \\n matriks kovariansi \\n {C} \\n dan vektor e {e}')\n"
   ]
  },
  {
   "cell_type": "code",
   "execution_count": 88,
   "metadata": {},
   "outputs": [],
   "source": [
    "# mu = np.array([1.1, 1.2, 1.3])\n",
    "# C = np.array([[0.01, 0, 0], [0, 0.05, 0], [0, 0, 0.07]])\n",
    "# e = np.ones(len(mu))\n",
    "# print(f'Vektor return {mu} dan \\n matriks kovariansi \\n {C} \\n dan vektor e {e}')\n"
   ]
  },
  {
   "cell_type": "markdown",
   "metadata": {},
   "source": [
    "Dari masalah \n",
    "\\begin{equation}\n",
    "\\min\\left\\{ -t \\mu^T \\mathbf{x} +  \\frac{1}{2}\\mathbf{x}^T C  \\mathbf{x} | \\mathbf{e}^T \\mathbf{x} = 1 \\right\\}\n",
    "\\end{equation}\n",
    "dengan $t$ adalah suatu parameter tak negatif.  \n",
    "dapat diperoleh bahwa persamaan untuk efficient frontiernya adalah : \n",
    "\\begin{equation}\n",
    "\\sigma^2_P - \\beta_0 = \\frac{(\\mu_P - \\alpha_0)^2}{\\alpha_1}\n",
    "\\end{equation}\n",
    "dengan :\n",
    "\\begin{align}\n",
    "\\alpha_0 = \\mu^T h_0 \\\\\n",
    "\\alpha_1 = \\mu^T h_1 \\\\\n",
    "\\beta_0 = h_0^TCh_0\n",
    "\\end{align}\n",
    "dan \n",
    "\\begin{align}\n",
    "h_0 &= \\frac{C^{-1}e}{e^TC^{-1}e} \\\\  \n",
    "h_1 &= C^{-1}\\mu - \\frac{e^TC^{-1}\\mu}{e^TC^{-1}e} C^{-1}e\n",
    "\\end{align}"
   ]
  },
  {
   "cell_type": "code",
   "execution_count": 89,
   "metadata": {},
   "outputs": [
    {
     "name": "stdout",
     "output_type": "stream",
     "text": [
      "Diperoleh \n",
      " h_0 [ 0.15537165  0.16876587  0.35896439 -0.06497457 -0.29929455  0.05730369\n",
      "  0.11860914  0.35475177  0.08848812  0.02702331  0.3476984  -0.04920806\n",
      "  0.1929648  -0.24884663 -0.20761733]\n",
      " dan \n",
      " h_1 [  1.31647928  14.35716887   9.08735546   1.24205782  -1.5809782\n",
      "  -8.73201534   4.86500346  -1.68981202  -1.80109288   3.44973649\n",
      " -22.81745842   0.32892582   9.65497295  -9.33506923   1.65472594]\n"
     ]
    }
   ],
   "source": [
    "h_0 = (np.linalg.inv(C).dot(e))/(e.dot(np.linalg.inv(C)).dot(e))\n",
    "h_1 = np.linalg.inv(C).dot(mu) -((e.dot(np.linalg.inv(C)).dot(mu))/(e.dot(np.linalg.inv(C)).dot(e)))*(np.linalg.inv(C).dot(e))\n",
    "print(f'Diperoleh \\n h_0 {h_0}\\n dan \\n h_1 {h_1}')"
   ]
  },
  {
   "cell_type": "code",
   "execution_count": 90,
   "metadata": {},
   "outputs": [
    {
     "name": "stdout",
     "output_type": "stream",
     "text": [
      "Diperoleh \n",
      " alpha_0 : 0.013757705493338294, \n",
      " alpha_1 : 1.0873362899057515, \n",
      " beta_0 : 0.0006694113498939455\n",
      " beta_2 : 1.087336289905753\n"
     ]
    }
   ],
   "source": [
    "alpha_0 = mu.dot(h_0)\n",
    "alpha_1 = mu.dot(h_1)\n",
    "beta_0 = h_0.dot(C).dot(h_0)\n",
    "beta_2 = h_1.dot(C).dot(h_1)\n",
    "print(f'Diperoleh \\n alpha_0 : {alpha_0}, \\n alpha_1 : {alpha_1}, \\n beta_0 : {beta_0}\\n beta_2 : {beta_2}')"
   ]
  },
  {
   "cell_type": "markdown",
   "metadata": {},
   "source": [
    "Sehingga persamaan Efficient Frontier - nya menjadi :  \n",
    "\\begin{equation}\n",
    "\\sigma^2_P - 0.00875 = \\frac{(\\mu_P - 1.125)^2}{0.035}\n",
    "\\end{equation}"
   ]
  },
  {
   "cell_type": "code",
   "execution_count": 91,
   "metadata": {},
   "outputs": [
    {
     "data": {
      "image/png": "[encoded data removed]",
      "text/plain": [
       "<Figure size 432x288 with 1 Axes>"
      ]
     },
     "metadata": {
      "needs_background": "light"
     },
     "output_type": "display_data"
    },
    {
     "name": "stdout",
     "output_type": "stream",
     "text": [
      "Nilai return dari variansi yang minimum adalah : 0.013757705493338294\n",
      "Dengan masing-masing proporsi saham ['TLKM.JK', 'BBNI.JK', 'ASII.JK', 'ANTM.JK', 'BMRI.JK', 'BBRI.JK', 'ARTO.JK', 'UNVR.JK', 'AMRT.JK', 'HRUM.JK', 'BBCA.JK', 'INCO.JK', 'ADRO.JK', 'PTBA.JK', 'PGAS.JK'] adalah sebagai berikut : {h_0}\n"
     ]
    }
   ],
   "source": [
    "t = np.linspace(0,0.5, 1000)\n",
    "sigma_P = beta_0 + t**2 *beta_2\n",
    "mu_p = alpha_0 + t*alpha_1\n",
    "mu_p_bawah = alpha_0 - t*alpha_1\n",
    "plt.plot(sigma_P, mu_p)\n",
    "plt.plot(sigma_P, mu_p_bawah, '--')\n",
    "plt.xlabel('sigma^2_P')\n",
    "plt.ylabel('mu_P')\n",
    "plt.grid(True)\n",
    "plt.title('Kurva Efficient Frontier')\n",
    "plt.show()\n",
    "print(f'Nilai return dari variansi yang minimum adalah : {np.min(mu_p)}')\n",
    "print(f'Dengan masing-masing proporsi saham',stock ,'adalah sebagai berikut : {h_0}')"
   ]
  },
  {
   "cell_type": "markdown",
   "metadata": {},
   "source": [
    "Misalkan ditambahkan sebuah asset \\textit{risk-free} dengan \\textit{rate of return} $r = 1.02$. Maka diperoleh capital market linenya sebagai berikut : "
   ]
  },
  {
   "cell_type": "code",
   "execution_count": 92,
   "metadata": {},
   "outputs": [],
   "source": [
    "def objective(weights): \n",
    "    weights = np.array(weights)\n",
    "    return weights.dot(C).dot(weights.T)\n",
    "# The constraints\n",
    "cons = (# The weights must sum up to one.\n",
    "        {\"type\":\"eq\", \"fun\": lambda x: np.sum(x)-1}, \n",
    "        # This constraints says that the inequalities (ineq) must be non-negative.# The expected daily return of our portfolio and we want to be at greater than 0.002352\n",
    "        {\"type\": \"ineq\", \"fun\": lambda x: np.sum(mu*x)-0.06}\n",
    "\n",
    "        )\n",
    "# Every stock can get any weight from 0 to 1\n",
    "bounds = tuple((0,1) for x in range(mu.shape[0]))\n",
    "# Initialize the weights with an even split\n",
    "# In out case each stock will have 10% at the beginning\n",
    "guess = [1./mu.shape[0] for x in range(mu.shape[0])]\n",
    "optimized_results = minimize(objective, guess, method = \"SLSQP\", bounds=bounds, constraints=cons)\n",
    "x_ = optimized_results.x"
   ]
  },
  {
   "cell_type": "code",
   "execution_count": 93,
   "metadata": {},
   "outputs": [
    {
     "data": {
      "text/plain": [
       "1.0"
      ]
     },
     "execution_count": 93,
     "metadata": {},
     "output_type": "execute_result"
    }
   ],
   "source": [
    "np.sum(np.round(x_,5))"
   ]
  },
  {
   "cell_type": "code",
   "execution_count": 94,
   "metadata": {},
   "outputs": [
    {
     "data": {
      "text/plain": [
       "{'BBNI.JK': 0.14275,\n",
       " 'ANTM.JK': 0.02541,\n",
       " 'ARTO.JK': 0.26826,\n",
       " 'HRUM.JK': 0.11876,\n",
       " 'ADRO.JK': 0.44482}"
      ]
     },
     "execution_count": 94,
     "metadata": {},
     "output_type": "execute_result"
    }
   ],
   "source": [
    "port_ = dict(zip(stock,np.round(x_,5)))\n",
    "port = dict()\n",
    "for (key,value) in port_.items():\n",
    "    if value >0 : \n",
    "        port[key] = value\n",
    "port"
   ]
  },
  {
   "cell_type": "code",
   "execution_count": 95,
   "metadata": {},
   "outputs": [
    {
     "data": {
      "text/plain": [
       "{'BBNI.JK': 2854999.9999999995,\n",
       " 'ANTM.JK': 508200.0,\n",
       " 'ARTO.JK': 5365200.0,\n",
       " 'HRUM.JK': 2375200.0,\n",
       " 'ADRO.JK': 8896400.0}"
      ]
     },
     "execution_count": 95,
     "metadata": {},
     "output_type": "execute_result"
    }
   ],
   "source": [
    "start = 2e7 \n",
    "budget_ = dict()\n",
    "for (key,value) in port.items():\n",
    "    if value >0 : \n",
    "        budget_[key] = value*start\n",
    "budget_"
   ]
  },
  {
   "cell_type": "code",
   "execution_count": 96,
   "metadata": {},
   "outputs": [
    {
     "data": {
      "text/html": [
       "<div>\n",
       "<style scoped>\n",
       "    .dataframe tbody tr th:only-of-type {\n",
       "        vertical-align: middle;\n",
       "    }\n",
       "\n",
       "    .dataframe tbody tr th {\n",
       "        vertical-align: top;\n",
       "    }\n",
       "\n",
       "    .dataframe thead th {\n",
       "        text-align: right;\n",
       "    }\n",
       "</style>\n",
       "<table border=\"1\" class=\"dataframe\">\n",
       "  <thead>\n",
       "    <tr style=\"text-align: right;\">\n",
       "      <th></th>\n",
       "      <th>BBNI.JK</th>\n",
       "      <th>ANTM.JK</th>\n",
       "      <th>ARTO.JK</th>\n",
       "      <th>HRUM.JK</th>\n",
       "      <th>ADRO.JK</th>\n",
       "    </tr>\n",
       "  </thead>\n",
       "  <tbody>\n",
       "    <tr>\n",
       "      <th>Total Spread</th>\n",
       "      <td>2855000.0</td>\n",
       "      <td>508200.0</td>\n",
       "      <td>5365200.0</td>\n",
       "      <td>2375200.0</td>\n",
       "      <td>8896400.0</td>\n",
       "    </tr>\n",
       "  </tbody>\n",
       "</table>\n",
       "</div>"
      ],
      "text/plain": [
       "                BBNI.JK   ANTM.JK    ARTO.JK    HRUM.JK    ADRO.JK\n",
       "Total Spread  2855000.0  508200.0  5365200.0  2375200.0  8896400.0"
      ]
     },
     "execution_count": 96,
     "metadata": {},
     "output_type": "execute_result"
    }
   ],
   "source": [
    "budget = pd.DataFrame.from_dict(data= budget_, orient= 'index').T\n",
    "budget.rename(index={0: 'Total Spread'}, inplace= True)\n",
    "budget"
   ]
  },
  {
   "cell_type": "code",
   "execution_count": 97,
   "metadata": {},
   "outputs": [
    {
     "data": {
      "text/html": [
       "<div>\n",
       "<style scoped>\n",
       "    .dataframe tbody tr th:only-of-type {\n",
       "        vertical-align: middle;\n",
       "    }\n",
       "\n",
       "    .dataframe tbody tr th {\n",
       "        vertical-align: top;\n",
       "    }\n",
       "\n",
       "    .dataframe thead th {\n",
       "        text-align: right;\n",
       "    }\n",
       "</style>\n",
       "<table border=\"1\" class=\"dataframe\">\n",
       "  <thead>\n",
       "    <tr style=\"text-align: right;\">\n",
       "      <th></th>\n",
       "      <th>BBNI.JK</th>\n",
       "      <th>ANTM.JK</th>\n",
       "      <th>ARTO.JK</th>\n",
       "      <th>HRUM.JK</th>\n",
       "      <th>ADRO.JK</th>\n",
       "    </tr>\n",
       "    <tr>\n",
       "      <th>Date</th>\n",
       "      <th></th>\n",
       "      <th></th>\n",
       "      <th></th>\n",
       "      <th></th>\n",
       "      <th></th>\n",
       "    </tr>\n",
       "  </thead>\n",
       "  <tbody>\n",
       "    <tr>\n",
       "      <th>Closing 2022-05-12</th>\n",
       "      <td>820000.0</td>\n",
       "      <td>233000.0</td>\n",
       "      <td>875000.0</td>\n",
       "      <td>1000000.0</td>\n",
       "      <td>315000.0</td>\n",
       "    </tr>\n",
       "  </tbody>\n",
       "</table>\n",
       "</div>"
      ],
      "text/plain": [
       "                     BBNI.JK   ANTM.JK   ARTO.JK    HRUM.JK   ADRO.JK\n",
       "Date                                                                 \n",
       "Closing 2022-05-12  820000.0  233000.0  875000.0  1000000.0  315000.0"
      ]
     },
     "execution_count": 97,
     "metadata": {},
     "output_type": "execute_result"
    }
   ],
   "source": [
    "expense = pd.DataFrame(columns=port.keys())\n",
    "for item in port.keys(): \n",
    "    temp = yf.Ticker(item).history(period = '1d', interval = '1mo',actions=False)\n",
    "    expense[item] = temp['Close']*100 #1 lot\n",
    "expense.rename(index={expense.index[0]: str('Closing ' + str(expense.index[0]).split(' ')[0])}, inplace= True)\n",
    "expense"
   ]
  },
  {
   "cell_type": "code",
   "execution_count": 98,
   "metadata": {},
   "outputs": [
    {
     "data": {
      "text/html": [
       "<div>\n",
       "<style scoped>\n",
       "    .dataframe tbody tr th:only-of-type {\n",
       "        vertical-align: middle;\n",
       "    }\n",
       "\n",
       "    .dataframe tbody tr th {\n",
       "        vertical-align: top;\n",
       "    }\n",
       "\n",
       "    .dataframe thead th {\n",
       "        text-align: right;\n",
       "    }\n",
       "</style>\n",
       "<table border=\"1\" class=\"dataframe\">\n",
       "  <thead>\n",
       "    <tr style=\"text-align: right;\">\n",
       "      <th></th>\n",
       "      <th>BBNI.JK</th>\n",
       "      <th>ANTM.JK</th>\n",
       "      <th>ARTO.JK</th>\n",
       "      <th>HRUM.JK</th>\n",
       "      <th>ADRO.JK</th>\n",
       "    </tr>\n",
       "  </thead>\n",
       "  <tbody>\n",
       "    <tr>\n",
       "      <th>Closing 2022-05-12</th>\n",
       "      <td>820000.0</td>\n",
       "      <td>233000.0</td>\n",
       "      <td>875000.0</td>\n",
       "      <td>1000000.0</td>\n",
       "      <td>315000.0</td>\n",
       "    </tr>\n",
       "    <tr>\n",
       "      <th>Total Spread</th>\n",
       "      <td>2855000.0</td>\n",
       "      <td>508200.0</td>\n",
       "      <td>5365200.0</td>\n",
       "      <td>2375200.0</td>\n",
       "      <td>8896400.0</td>\n",
       "    </tr>\n",
       "    <tr>\n",
       "      <th>Total Lot</th>\n",
       "      <td>3.0</td>\n",
       "      <td>2.0</td>\n",
       "      <td>6.0</td>\n",
       "      <td>2.0</td>\n",
       "      <td>28.0</td>\n",
       "    </tr>\n",
       "    <tr>\n",
       "      <th>Total Spending</th>\n",
       "      <td>2460000.0</td>\n",
       "      <td>466000.0</td>\n",
       "      <td>5250000.0</td>\n",
       "      <td>2000000.0</td>\n",
       "      <td>8820000.0</td>\n",
       "    </tr>\n",
       "  </tbody>\n",
       "</table>\n",
       "</div>"
      ],
      "text/plain": [
       "                      BBNI.JK   ANTM.JK    ARTO.JK    HRUM.JK    ADRO.JK\n",
       "Closing 2022-05-12   820000.0  233000.0   875000.0  1000000.0   315000.0\n",
       "Total Spread        2855000.0  508200.0  5365200.0  2375200.0  8896400.0\n",
       "Total Lot                 3.0       2.0        6.0        2.0       28.0\n",
       "Total Spending      2460000.0  466000.0  5250000.0  2000000.0  8820000.0"
      ]
     },
     "execution_count": 98,
     "metadata": {},
     "output_type": "execute_result"
    }
   ],
   "source": [
    "qty = pd.concat([expense,budget])\n",
    "temp_ = pd.DataFrame(np.round(qty.iloc[1] / qty.iloc[0],0)).T\n",
    "temp_.rename(index={0: 'Total Lot'}, inplace= True)\n",
    "qty = pd.concat([qty, temp_])\n",
    "spend = pd.DataFrame(np.round(qty.iloc[2] * qty.iloc[0],0)).T\n",
    "finale = pd.concat([qty, spend])\n",
    "finale.rename(index={0: 'Total Spending'}, inplace= True)\n",
    "finale"
   ]
  },
  {
   "cell_type": "code",
   "execution_count": 99,
   "metadata": {},
   "outputs": [
    {
     "data": {
      "text/plain": [
       "Closing 2022-05-12     3243000.0\n",
       "Total Spread          20000000.0\n",
       "Total Lot                   41.0\n",
       "Total Spending        18996000.0\n",
       "dtype: float64"
      ]
     },
     "execution_count": 99,
     "metadata": {},
     "output_type": "execute_result"
    }
   ],
   "source": [
    "finale.sum(axis = 1)"
   ]
  },
  {
   "cell_type": "code",
   "execution_count": 100,
   "metadata": {},
   "outputs": [
    {
     "name": "stdout",
     "output_type": "stream",
     "text": [
      "return : 5.99999999990176 %\n",
      "risk : 0.6610415386158972 %\n",
      "Total Money : 18996000.0\n",
      "Total Idle Money : 1004000.0\n"
     ]
    }
   ],
   "source": [
    "print(f'return :', x_.dot(mu)*100, '%')\n",
    "print(f'risk :', x_.dot(C).dot(x_)*100, '%')\n",
    "print(f'Total Money :',finale.sum(axis=1)[-1])\n",
    "print(f'Total Idle Money :', start - finale.sum(axis=1)[-1])"
   ]
  },
  {
   "cell_type": "code",
   "execution_count": 105,
   "metadata": {},
   "outputs": [],
   "source": [
    "finale.to_csv(str('IHSG '+finale.index[0].split(' ')[1]+'.csv'))"
   ]
  }
 ],
 "metadata": {
  "interpreter": {
   "hash": "a063a9d6d4095dba70f7d4a438ef288e94ffec589b0525f5b20de998ec61033a"
  },
  "kernelspec": {
   "display_name": "Python 3.8.12 ('base')",
   "language": "python",
   "name": "python3"
  },
  "language_info": {
   "codemirror_mode": {
    "name": "ipython",
    "version": 3
   },
   "file_extension": ".py",
   "mimetype": "text/x-python",
   "name": "python",
   "nbconvert_exporter": "python",
   "pygments_lexer": "ipython3",
   "version": "3.8.12"
  },
  "orig_nbformat": 4
 },
 "nbformat": 4,
 "nbformat_minor": 2
}
