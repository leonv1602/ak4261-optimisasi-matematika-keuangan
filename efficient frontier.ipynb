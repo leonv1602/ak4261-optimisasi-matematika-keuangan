{
 "cells": [
  {
   "cell_type": "markdown",
   "metadata": {},
   "source": [
    "# Packages"
   ]
  },
  {
   "cell_type": "code",
   "execution_count": 35,
   "metadata": {},
   "outputs": [],
   "source": [
    "import numpy as np \n",
    "import pandas as pd \n",
    "import matplotlib.pyplot as plt \n",
    "import yfinance as yf\n",
    "import yahoofinancials\n",
    "from scipy.optimize import minimize\n",
    "import seaborn as sn\n",
    "from scipy.stats import anderson,kstest,shapiro, probplot"
   ]
  },
  {
   "cell_type": "markdown",
   "metadata": {},
   "source": [
    "# Masalah.  \n",
    "Misalkan portofolio saham dengan komposisi saham TLKM, BBNI, dan ASII. Akan dicari nilai return dengan variansi minimal dan juga dicari komposisi dari masing-masing saham.  "
   ]
  },
  {
   "cell_type": "code",
   "execution_count": 49,
   "metadata": {},
   "outputs": [],
   "source": [
    "stock = ['TLKM.JK', 'BBNI.JK','ASII.JK', 'ANTM.JK', 'BMRI.JK', \n",
    "        'BBCA.JK', 'INCO.JK', 'ADRO.JK', 'PTBA.JK', 'PGAS.JK']\n",
    "df = pd.DataFrame(columns=stock)\n",
    "for i in stock :\n",
    "    temp = yf.Ticker(i).history(period = '2y', interval = '1mo',actions=False)\n",
    "    temp.dropna(inplace = True)\n",
    "    temp['log_return'] = np.log(temp['Close']) - np.log(temp['Close'].shift(1))\n",
    "    temp['log_return'].dropna(inplace = True)\n",
    "    df[i] =temp['log_return'].dropna()"
   ]
  },
  {
   "cell_type": "code",
   "execution_count": 50,
   "metadata": {},
   "outputs": [
    {
     "name": "stdout",
     "output_type": "stream",
     "text": [
      "Vektor return [0.0191032  0.02852725 0.02251621 0.05977853 0.02537393 0.01391185\n",
      " 0.03959588 0.05567646 0.03346284 0.01020545] dan \n",
      " matriks kovariansi \n",
      " [[ 0.00509139  0.00429333  0.00051949  0.00264377  0.00167173  0.00229417\n",
      "   0.00254774  0.00288902  0.0042737   0.0062774 ]\n",
      " [ 0.00429333  0.01022463  0.00336251  0.00394476  0.00519399  0.00386494\n",
      "   0.00390989  0.00180656  0.00370045  0.01035694]\n",
      " [ 0.00051949  0.00336251  0.00722267  0.00771895  0.00527956  0.00337229\n",
      "   0.00324449  0.00084482  0.00213965  0.00602661]\n",
      " [ 0.00264377  0.00394476  0.00771895  0.03119824  0.00396866  0.00519335\n",
      "   0.01383392 -0.00175188  0.00522519  0.01034703]\n",
      " [ 0.00167173  0.00519399  0.00527956  0.00396866  0.00662454  0.00360758\n",
      "   0.00316854  0.00130273  0.00184535  0.0065554 ]\n",
      " [ 0.00229417  0.00386494  0.00337229  0.00519335  0.00360758  0.00345906\n",
      "   0.00286298  0.00136717  0.00273797  0.00596258]\n",
      " [ 0.00254774  0.00390989  0.00324449  0.01383392  0.00316854  0.00286298\n",
      "   0.01352059  0.00076717  0.00337223  0.00484116]\n",
      " [ 0.00288902  0.00180656  0.00084482 -0.00175188  0.00130273  0.00136717\n",
      "   0.00076717  0.01330399  0.00808177  0.00374285]\n",
      " [ 0.0042737   0.00370045  0.00213965  0.00522519  0.00184535  0.00273797\n",
      "   0.00337223  0.00808177  0.0095928   0.00736943]\n",
      " [ 0.0062774   0.01035694  0.00602661  0.01034703  0.0065554   0.00596258\n",
      "   0.00484116  0.00374285  0.00736943  0.01712114]] \n",
      " dan vektor e [1. 1. 1. 1. 1. 1. 1. 1. 1. 1.]\n"
     ]
    }
   ],
   "source": [
    "mu = df.mean().values\n",
    "C = df.cov().values\n",
    "e = np.ones(len(mu))\n",
    "print(f'Vektor return {mu} dan \\n matriks kovariansi \\n {C} \\n dan vektor e {e}')\n"
   ]
  },
  {
   "cell_type": "code",
   "execution_count": 51,
   "metadata": {},
   "outputs": [],
   "source": [
    "# mu = np.array([1.1, 1.2, 1.3])\n",
    "# C = np.array([[0.01, 0, 0], [0, 0.05, 0], [0, 0, 0.07]])\n",
    "# e = np.ones(len(mu))\n",
    "# print(f'Vektor return {mu} dan \\n matriks kovariansi \\n {C} \\n dan vektor e {e}')\n"
   ]
  },
  {
   "cell_type": "markdown",
   "metadata": {},
   "source": [
    "Dari masalah \n",
    "\\begin{equation}\n",
    "\\min\\left\\{ -t \\mu^T \\mathbf{x} +  \\frac{1}{2}\\mathbf{x}^T C  \\mathbf{x} | \\mathbf{e}^T \\mathbf{x} = 1 \\right\\}\n",
    "\\end{equation}\n",
    "dengan $t$ adalah suatu parameter tak negatif.  \n",
    "dapat diperoleh bahwa persamaan untuk efficient frontiernya adalah : \n",
    "\\begin{equation}\n",
    "\\sigma^2_P - \\beta_0 = \\frac{(\\mu_P - \\alpha_0)^2}{\\alpha_1}\n",
    "\\end{equation}\n",
    "dengan :\n",
    "\\begin{align}\n",
    "\\alpha_0 = \\mu^T h_0 \\\\\n",
    "\\alpha_1 = \\mu^T h_1 \\\\\n",
    "\\beta_0 = h_0^TCh_0\n",
    "\\end{align}\n",
    "dan \n",
    "\\begin{align}\n",
    "h_0 &= \\frac{C^{-1}e}{e^TC^{-1}e} \\\\  \n",
    "h_1 &= C^{-1}\\mu - \\frac{e^TC^{-1}\\mu}{e^TC^{-1}e} C^{-1}e\n",
    "\\end{align}"
   ]
  },
  {
   "cell_type": "code",
   "execution_count": 52,
   "metadata": {},
   "outputs": [
    {
     "name": "stdout",
     "output_type": "stream",
     "text": [
      "Diperoleh \n",
      " h_0 [ 0.4840359   0.1305741   0.32754432 -0.01209146 -0.12410443  0.58146637\n",
      " -0.00859863  0.07528658 -0.03565387 -0.4184589 ]\n",
      " dan \n",
      " h_1 [  0.96728381   6.35246105  -3.05911029   6.14421947   7.32874669\n",
      " -13.15854684  -3.24955401   5.70836492  -1.58549152  -5.44837328]\n"
     ]
    }
   ],
   "source": [
    "h_0 = (np.linalg.inv(C).dot(e))/(e.dot(np.linalg.inv(C)).dot(e))\n",
    "h_1 = np.linalg.inv(C).dot(mu) -((e.dot(np.linalg.inv(C)).dot(mu))/(e.dot(np.linalg.inv(C)).dot(e)))*(np.linalg.inv(C).dot(e))\n",
    "print(f'Diperoleh \\n h_0 {h_0}\\n dan \\n h_1 {h_1}')"
   ]
  },
  {
   "cell_type": "code",
   "execution_count": 53,
   "metadata": {},
   "outputs": [
    {
     "name": "stdout",
     "output_type": "stream",
     "text": [
      "Diperoleh \n",
      " alpha_0 : 0.022951632537605335, \n",
      " alpha_1 : 0.581503164574974, \n",
      " beta_0 : 0.0017061079248630578\n",
      " beta_2 : 0.5815031645749741\n"
     ]
    }
   ],
   "source": [
    "alpha_0 = mu.dot(h_0)\n",
    "alpha_1 = mu.dot(h_1)\n",
    "beta_0 = h_0.dot(C).dot(h_0)\n",
    "beta_2 = h_1.dot(C).dot(h_1)\n",
    "print(f'Diperoleh \\n alpha_0 : {alpha_0}, \\n alpha_1 : {alpha_1}, \\n beta_0 : {beta_0}\\n beta_2 : {beta_2}')"
   ]
  },
  {
   "cell_type": "markdown",
   "metadata": {},
   "source": [
    "Sehingga persamaan Efficient Frontier - nya menjadi :  \n",
    "\\begin{equation}\n",
    "\\sigma^2_P - 0.00875 = \\frac{(\\mu_P - 1.125)^2}{0.035}\n",
    "\\end{equation}"
   ]
  },
  {
   "cell_type": "code",
   "execution_count": 54,
   "metadata": {},
   "outputs": [
    {
     "data": {
      "image/png": "[encoded data removed]",
      "text/plain": [
       "<Figure size 432x288 with 1 Axes>"
      ]
     },
     "metadata": {
      "needs_background": "light"
     },
     "output_type": "display_data"
    },
    {
     "name": "stdout",
     "output_type": "stream",
     "text": [
      "Nilai return dari variansi yang minimum adalah : 0.022951632537605335\n",
      "Dengan masing-masing proporsi saham ['TLKM.JK', 'BBNI.JK', 'ASII.JK', 'ANTM.JK', 'BMRI.JK', 'BBCA.JK', 'INCO.JK', 'ADRO.JK', 'PTBA.JK', 'PGAS.JK'] adalah sebagai berikut : {h_0}\n"
     ]
    }
   ],
   "source": [
    "t = np.linspace(0,0.5, 1000)\n",
    "sigma_P = beta_0 + t**2 *beta_2\n",
    "mu_p = alpha_0 + t*alpha_1\n",
    "mu_p_bawah = alpha_0 - t*alpha_1\n",
    "plt.plot(sigma_P, mu_p)\n",
    "plt.plot(sigma_P, mu_p_bawah, '--')\n",
    "plt.xlabel('sigma^2_P')\n",
    "plt.ylabel('mu_P')\n",
    "plt.grid(True)\n",
    "plt.title('Kurva Efficient Frontier')\n",
    "plt.show()\n",
    "print(f'Nilai return dari variansi yang minimum adalah : {np.min(mu_p)}')\n",
    "print(f'Dengan masing-masing proporsi saham',stock ,'adalah sebagai berikut : {h_0}')"
   ]
  },
  {
   "cell_type": "markdown",
   "metadata": {},
   "source": [
    "Misalkan ditambahkan sebuah asset \\textit{risk-free} dengan \\textit{rate of return} $r = 1.02$. Maka diperoleh capital market linenya sebagai berikut : "
   ]
  },
  {
   "cell_type": "code",
   "execution_count": 55,
   "metadata": {},
   "outputs": [
    {
     "data": {
      "text/plain": [
       "(10,)"
      ]
     },
     "execution_count": 55,
     "metadata": {},
     "output_type": "execute_result"
    }
   ],
   "source": [
    "mu.shape"
   ]
  },
  {
   "cell_type": "code",
   "execution_count": 56,
   "metadata": {},
   "outputs": [],
   "source": [
    "def objective(weights): \n",
    "    weights = np.array(weights)\n",
    "    return weights.dot(C).dot(weights.T)\n",
    "# The constraints\n",
    "cons = (# The weights must sum up to one.\n",
    "        {\"type\":\"ineq\", \"fun\": lambda x: np.sum(x)-1}, \n",
    "        # This constraints says that the inequalities (ineq) must be non-negative.\n",
    "        )\n",
    "# Every stock can get any weight from 0 to 1\n",
    "bounds = tuple((0,1) for x in range(mu.shape[0]))\n",
    "# Initialize the weights with an even split\n",
    "# In out case each stock will have 10% at the beginning\n",
    "guess = [1./mu.shape[0] for x in range(mu.shape[0])]\n",
    "optimized_results = minimize(objective, guess, method = \"SLSQP\", bounds=bounds, constraints=cons)\n",
    "x_ = optimized_results.x"
   ]
  },
  {
   "cell_type": "code",
   "execution_count": 59,
   "metadata": {},
   "outputs": [
    {
     "data": {
      "text/plain": [
       "{'TLKM.JK': 0.35026,\n",
       " 'BBNI.JK': 0.0,\n",
       " 'ASII.JK': 0.15871,\n",
       " 'ANTM.JK': 0.0,\n",
       " 'BMRI.JK': 0.06465,\n",
       " 'BBCA.JK': 0.3065,\n",
       " 'INCO.JK': 0.00861,\n",
       " 'ADRO.JK': 0.11127,\n",
       " 'PTBA.JK': 0.0,\n",
       " 'PGAS.JK': 0.0}"
      ]
     },
     "execution_count": 59,
     "metadata": {},
     "output_type": "execute_result"
    }
   ],
   "source": [
    "dict(zip(stock,np.round(x_,5)))"
   ]
  },
  {
   "cell_type": "code",
   "execution_count": 63,
   "metadata": {},
   "outputs": [
    {
     "name": "stdout",
     "output_type": "stream",
     "text": [
      "return : 2.270524512124061 %\n",
      "risk : 0.29417237816450076 %\n"
     ]
    }
   ],
   "source": [
    "print(f'return :', x_.dot(mu)*100, '%')\n",
    "print(f'risk :', x_.dot(C).dot(x_)*100, '%')"
   ]
  },
  {
   "cell_type": "code",
   "execution_count": 70,
   "metadata": {},
   "outputs": [
    {
     "data": {
      "text/plain": [
       "array([3502600.,       0., 1587100.,       0.,  646500., 3065000.,\n",
       "         86100., 1112700.,       0.,       0.])"
      ]
     },
     "execution_count": 70,
     "metadata": {},
     "output_type": "execute_result"
    }
   ],
   "source": [
    "np.round(x_,5)*1e7"
   ]
  },
  {
   "cell_type": "code",
   "execution_count": 72,
   "metadata": {},
   "outputs": [
    {
     "data": {
      "text/plain": [
       "2.2512056737588653"
      ]
     },
     "execution_count": 72,
     "metadata": {},
     "output_type": "execute_result"
    }
   ],
   "source": [
    "1587100/(705000)"
   ]
  }
 ],
 "metadata": {
  "interpreter": {
   "hash": "a063a9d6d4095dba70f7d4a438ef288e94ffec589b0525f5b20de998ec61033a"
  },
  "kernelspec": {
   "display_name": "Python 3.8.12 ('base')",
   "language": "python",
   "name": "python3"
  },
  "language_info": {
   "codemirror_mode": {
    "name": "ipython",
    "version": 3
   },
   "file_extension": ".py",
   "mimetype": "text/x-python",
   "name": "python",
   "nbconvert_exporter": "python",
   "pygments_lexer": "ipython3",
   "version": "3.8.12"
  },
  "orig_nbformat": 4
 },
 "nbformat": 4,
 "nbformat_minor": 2
}
