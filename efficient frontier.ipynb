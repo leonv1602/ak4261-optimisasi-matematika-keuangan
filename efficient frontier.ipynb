{
 "cells": [
  {
   "cell_type": "markdown",
   "metadata": {},
   "source": [
    "# Packages"
   ]
  },
  {
   "cell_type": "code",
   "execution_count": 1,
   "metadata": {},
   "outputs": [
    {
     "name": "stderr",
     "output_type": "stream",
     "text": [
      "c:\\Users\\leona\\anaconda3\\lib\\site-packages\\numpy\\_distributor_init.py:30: UserWarning: loaded more than 1 DLL from .libs:\n",
      "c:\\Users\\leona\\anaconda3\\lib\\site-packages\\numpy\\.libs\\libopenblas.PYQHXLVVQ7VESDPUVUADXEVJOBGHJPAY.gfortran-win_amd64.dll\n",
      "c:\\Users\\leona\\anaconda3\\lib\\site-packages\\numpy\\.libs\\libopenblas.XWYDX2IKJW2NMTWSFYNGFUWKQU3LYTCZ.gfortran-win_amd64.dll\n",
      "  warnings.warn(\"loaded more than 1 DLL from .libs:\"\n",
      "<frozen importlib._bootstrap>:219: RuntimeWarning: scipy._lib.messagestream.MessageStream size changed, may indicate binary incompatibility. Expected 56 from C header, got 64 from PyObject\n"
     ]
    }
   ],
   "source": [
    "import numpy as np \n",
    "import pandas as pd \n",
    "import matplotlib.pyplot as plt \n",
    "import yfinance as yf\n",
    "import yahoofinancials\n",
    "from scipy.optimize import minimize\n",
    "import seaborn as sn\n",
    "from scipy.stats import anderson,kstest,shapiro, probplot"
   ]
  },
  {
   "cell_type": "markdown",
   "metadata": {},
   "source": [
    "# Masalah.  \n",
    "Misalkan portofolio saham dengan komposisi saham TLKM, BBNI, dan ASII. Akan dicari nilai return dengan variansi minimal dan juga dicari komposisi dari masing-masing saham.  "
   ]
  },
  {
   "cell_type": "code",
<<<<<<< Updated upstream
   "execution_count": 27,
=======
   "execution_count": 2,
>>>>>>> Stashed changes
   "metadata": {},
   "outputs": [],
   "source": [
    "stock = ['TLKM.JK', 'BBNI.JK','ASII.JK', 'ANTM.JK', 'BMRI.JK','BBRI.JK', 'ARTO.JK', 'UNVR.JK', 'AMRT.JK', 'HRUM.JK',\n",
    "        'BBCA.JK', 'INCO.JK', 'ADRO.JK', 'PTBA.JK', 'PGAS.JK']\n",
    "year = 2020\n",
    "ds = str(year-1)+'-12-01'\n",
    "de = str(year+1)+'-12-01'\n",
    "#stock = ['TSLA', 'DIS', 'NKE', 'AAPL']\n",
    "df = pd.DataFrame(columns=stock)\n",
    "for i in stock :\n",
    "    temp = yf.Ticker(i).history(period = '2y', interval = '1mo', start = ds ,end =de ,actions=False)\n",
    "    temp.dropna(inplace = True)\n",
    "    temp['log_return'] = np.log(temp['Close']) - np.log(temp['Close'].shift(1))\n",
    "    temp['log_return'].dropna(inplace = True)\n",
    "    df[i] =temp['log_return'].dropna()"
   ]
  },
  {
   "cell_type": "code",
<<<<<<< Updated upstream
   "execution_count": 28,
=======
   "execution_count": 3,
>>>>>>> Stashed changes
   "metadata": {},
   "outputs": [
    {
     "name": "stdout",
     "output_type": "stream",
     "text": [
<<<<<<< Updated upstream
      "Vektor return [ 0.00484725 -0.00473005 -0.00554318  0.04154829 -0.00023622 -0.00049224\n",
      "  0.06838278 -0.0270003   0.01483534  0.08602251  0.00535844  0.01085967\n",
      "  0.02113915  0.00801926 -0.01489302] dan \n",
      " matriks kovariansi \n",
      " [[ 6.88134218e-03  7.79445213e-03  1.79327380e-03  5.67719184e-03\n",
      "   3.25041851e-03  4.48056925e-03  9.40317759e-03  1.93030702e-03\n",
      "   1.31290101e-03  3.97378865e-03  2.46557720e-03  4.64097416e-03\n",
      "   3.41946550e-03  4.01681127e-03  1.00995422e-02]\n",
      " [ 7.79445213e-03  2.80913988e-02  1.19123300e-02  1.40391620e-02\n",
      "   1.55540367e-02  1.27134437e-02  4.31316515e-02  1.59360653e-03\n",
      "  -2.74021476e-03 -2.72047124e-03  7.60268189e-03  8.51442658e-03\n",
      "   4.93014356e-03  4.19297068e-03  2.81073788e-02]\n",
      " [ 1.79327380e-03  1.19123300e-02  1.40617287e-02  1.32312619e-02\n",
      "   1.08431789e-02  7.19392323e-03  2.12866457e-02 -2.23535524e-04\n",
      "  -9.93712388e-04  3.61207605e-04  5.92987194e-03  6.69453364e-03\n",
      "   5.32583153e-03  3.02272009e-03  1.61019140e-02]\n",
      " [ 5.67719184e-03  1.40391620e-02  1.32312619e-02  3.50562012e-02\n",
      "   1.01788386e-02  9.76751410e-03  3.59714341e-02  1.91073211e-03\n",
      "   6.33488620e-03  1.31011904e-02  7.64605851e-03  1.93298359e-02\n",
      "   2.39814203e-03  6.77772857e-03  2.35874927e-02]\n",
      " [ 3.25041851e-03  1.55540367e-02  1.08431789e-02  1.01788386e-02\n",
      "   1.29120278e-02  8.59743236e-03  2.90657370e-02 -1.16622056e-04\n",
      "  -2.72010826e-03 -5.11713981e-04  6.22121712e-03  5.43250841e-03\n",
      "   3.20383031e-03  2.34583981e-03  1.71971287e-02]\n",
      " [ 4.48056925e-03  1.27134437e-02  7.19392323e-03  9.76751410e-03\n",
      "   8.59743236e-03  1.07893149e-02  2.04572807e-02  4.09500691e-04\n",
      "  -4.30463997e-04  6.52146606e-03  4.96559931e-03  5.74636856e-03\n",
      "   4.50046368e-03  4.79214141e-03  1.44724070e-02]\n",
      " [ 9.40317759e-03  4.31316515e-02  2.12866457e-02  3.59714341e-02\n",
      "   2.90657370e-02  2.04572807e-02  1.54679655e-01 -2.64931359e-03\n",
      "  -8.37061118e-04  2.07554265e-03  1.14180558e-02  1.77717218e-02\n",
      "   3.19818305e-03  5.22224437e-03  4.41766018e-02]\n",
      " [ 1.93030702e-03  1.59360653e-03 -2.23535524e-04  1.91073211e-03\n",
      "  -1.16622056e-04  4.09500691e-04 -2.64931359e-03  5.44771897e-03\n",
      "  -2.69766195e-03 -4.34062028e-04  2.09129691e-04  2.84909297e-03\n",
      "  -2.38324488e-03 -2.84979156e-04  4.29149241e-03]\n",
      " [ 1.31290101e-03 -2.74021476e-03 -9.93712388e-04  6.33488620e-03\n",
      "  -2.72010826e-03 -4.30463997e-04 -8.37061118e-04 -2.69766195e-03\n",
      "   1.26106304e-02  6.17134944e-03 -7.69858197e-04  4.49769674e-03\n",
      "   3.54066640e-03  8.96490539e-04 -9.30448749e-05]\n",
      " [ 3.97378865e-03 -2.72047124e-03  3.61207605e-04  1.31011904e-02\n",
      "  -5.11713981e-04  6.52146606e-03  2.07554265e-03 -4.34062028e-04\n",
      "   6.17134944e-03  4.53578903e-02  2.13361951e-03  8.56474829e-03\n",
      "   8.11473118e-03  9.42897311e-03  2.70055526e-03]\n",
      " [ 2.46557720e-03  7.60268189e-03  5.92987194e-03  7.64605851e-03\n",
      "   6.22121712e-03  4.96559931e-03  1.14180558e-02  2.09129691e-04\n",
      "  -7.69858197e-04  2.13361951e-03  4.61539895e-03  3.77182934e-03\n",
      "   2.48689102e-03  3.61721397e-03  1.07645740e-02]\n",
      " [ 4.64097416e-03  8.51442658e-03  6.69453364e-03  1.93298359e-02\n",
      "   5.43250841e-03  5.74636856e-03  1.77717218e-02  2.84909297e-03\n",
      "   4.49769674e-03  8.56474829e-03  3.77182934e-03  1.78222934e-02\n",
      "   3.05457995e-03  3.21054056e-03  1.35736256e-02]\n",
      " [ 3.41946550e-03  4.93014356e-03  5.32583153e-03  2.39814203e-03\n",
      "   3.20383031e-03  4.50046368e-03  3.19818305e-03 -2.38324488e-03\n",
      "   3.54066640e-03  8.11473118e-03  2.48689102e-03  3.05457995e-03\n",
      "   1.86161358e-02  1.04112034e-02  8.42099719e-03]\n",
      " [ 4.01681127e-03  4.19297068e-03  3.02272009e-03  6.77772857e-03\n",
      "   2.34583981e-03  4.79214141e-03  5.22224437e-03 -2.84979156e-04\n",
      "   8.96490539e-04  9.42897311e-03  3.61721397e-03  3.21054056e-03\n",
      "   1.04112034e-02  1.17498489e-02  9.86041425e-03]\n",
      " [ 1.00995422e-02  2.81073788e-02  1.61019140e-02  2.35874927e-02\n",
      "   1.71971287e-02  1.44724070e-02  4.41766018e-02  4.29149241e-03\n",
      "  -9.30448749e-05  2.70055526e-03  1.07645740e-02  1.35736256e-02\n",
      "   8.42099719e-03  9.86041425e-03  4.04755174e-02]] \n",
=======
      "Vektor return [ 0.01804095  0.02560207  0.02010724  0.05667793  0.0222861   0.01661966\n",
      "  0.07142406 -0.01839713  0.02926702  0.09114183  0.01196704  0.03796749\n",
      "  0.05567646  0.03357263  0.0114789 ] dan \n",
      " matriks kovariansi \n",
      " [[ 5.22581040e-03  4.64475500e-03  9.09112402e-04  3.02537571e-03\n",
      "   2.00781281e-03  4.15978603e-03  1.93509423e-03  1.37025791e-04\n",
      "   1.37405897e-03  3.18666389e-03  2.55046568e-03  2.85655522e-03\n",
      "   3.02982763e-03  4.41536283e-03  6.21512988e-03]\n",
      " [ 4.64475500e-03  1.09197484e-02  3.92247830e-03  4.70797716e-03\n",
      "   5.89225547e-03  6.46793343e-03 -4.34811297e-03  1.53248948e-03\n",
      "  -1.07192727e-03 -6.73883840e-04  4.42424970e-03  4.53041682e-03\n",
      "   2.20978924e-03  4.02919776e-03  1.02883794e-02]\n",
      " [ 9.09112402e-04  3.92247830e-03  7.61923302e-03  8.11274844e-03\n",
      "   5.77321776e-03  2.71777367e-03 -2.41258892e-03  2.20150759e-04\n",
      "   1.02968273e-03  4.90523762e-05  3.86002010e-03  3.76673853e-03\n",
      "   1.29667116e-03  2.44962993e-03  5.75148101e-03]\n",
      " [ 3.02537571e-03  4.70797716e-03  8.11274844e-03  3.20437437e-02\n",
      "   4.74623109e-03  7.46743435e-03  1.45183030e-02 -1.44238711e-03\n",
      "   6.81300545e-03  1.34018579e-02  5.79288400e-03  1.44764449e-02\n",
      "  -1.35334553e-03  5.53190176e-03  1.02394346e-02]\n",
      " [ 2.00781281e-03  5.89225547e-03  5.77321776e-03  4.74623109e-03\n",
      "   7.31910411e-03  4.23063953e-03 -6.56890953e-04  4.94722159e-04\n",
      "  -5.37055222e-04  5.54067989e-04  4.15244673e-03  3.78984767e-03\n",
      "   1.69065112e-03  2.16539069e-03  6.47543653e-03]\n",
      " [ 4.15978603e-03  6.46793343e-03  2.71777367e-03  7.46743435e-03\n",
      "   4.23063953e-03  7.36759102e-03  1.13030633e-03  6.93652525e-04\n",
      "   8.83673193e-04  7.45200681e-03  3.49793541e-03  5.01419849e-03\n",
      "   2.43233206e-03  4.42097025e-03  7.44218586e-03]\n",
      " [ 1.93509423e-03 -4.34811297e-03 -2.41258892e-03  1.45183030e-02\n",
      "  -6.56890953e-04  1.13030633e-03  4.09190544e-02 -4.84027110e-03\n",
      "   2.78555459e-03  1.03083211e-02  1.52407142e-03  5.60333612e-03\n",
      "  -4.69976187e-03  1.78997841e-03 -2.38046772e-03]\n",
      " [ 1.37025791e-04  1.53248948e-03  2.20150759e-04 -1.44238711e-03\n",
      "   4.94722159e-04  6.93652525e-04 -4.84027110e-03  5.71600451e-03\n",
      "  -3.74849191e-03 -3.49102034e-03 -3.10596746e-04 -2.33688694e-04\n",
      "  -1.36776038e-03  5.00715538e-04  3.06046167e-03]\n",
      " [ 1.37405897e-03 -1.07192727e-03  1.02968273e-03  6.81300545e-03\n",
      "  -5.37055222e-04  8.83673193e-04  2.78555459e-03 -3.74849191e-03\n",
      "   1.69192225e-02  3.38240526e-03  8.52339946e-05  5.73452067e-03\n",
      "   3.20520158e-03  1.35899824e-03 -1.43768336e-04]\n",
      " [ 3.18666389e-03 -6.73883840e-04  4.90523762e-05  1.34018579e-02\n",
      "   5.54067989e-04  7.45200681e-03  1.03083211e-02 -3.49102034e-03\n",
      "   3.38240526e-03  4.59244684e-02  3.20583621e-03  6.23432144e-03\n",
      "   6.72693824e-03  8.25925201e-03  2.37501809e-03]\n",
      " [ 2.55046568e-03  4.42424970e-03  3.86002010e-03  5.79288400e-03\n",
      "   4.15244673e-03  3.49793541e-03  1.52407142e-03 -3.10596746e-04\n",
      "   8.52339946e-05  3.20583621e-03  3.90336793e-03  3.37992481e-03\n",
      "   1.66881507e-03  3.01568649e-03  5.90660115e-03]\n",
      " [ 2.85655522e-03  4.53041682e-03  3.76673853e-03  1.44764449e-02\n",
      "   3.78984767e-03  5.01419849e-03  5.60333612e-03 -2.33688694e-04\n",
      "   5.73452067e-03  6.23432144e-03  3.37992481e-03  1.40767629e-02\n",
      "   1.09971181e-03  3.66802591e-03  4.77955958e-03]\n",
      " [ 3.02982763e-03  2.20978924e-03  1.29667116e-03 -1.35334553e-03\n",
      "   1.69065112e-03  2.43233206e-03 -4.69976187e-03 -1.36776038e-03\n",
      "   3.20520158e-03  6.72693824e-03  1.66881507e-03  1.09971181e-03\n",
      "   1.34000874e-02  8.21074318e-03  3.64781633e-03]\n",
      " [ 4.41536283e-03  4.02919776e-03  2.44962993e-03  5.53190176e-03\n",
      "   2.16539069e-03  4.42097025e-03  1.78997841e-03  5.00715538e-04\n",
      "   1.35899824e-03  8.25925201e-03  3.01568649e-03  3.66802591e-03\n",
      "   8.21074318e-03  9.74303694e-03  7.32606798e-03]\n",
      " [ 6.21512988e-03  1.02883794e-02  5.75148101e-03  1.02394346e-02\n",
      "   6.47543653e-03  7.44218586e-03 -2.38046772e-03  3.06046167e-03\n",
      "  -1.43768336e-04  2.37501809e-03  5.90660115e-03  4.77955958e-03\n",
      "   3.64781633e-03  7.32606798e-03  1.71128497e-02]] \n",
>>>>>>> Stashed changes
      " dan vektor e [1. 1. 1. 1. 1. 1. 1. 1. 1. 1. 1. 1. 1. 1. 1.]\n"
     ]
    }
   ],
   "source": [
    "mu = df.mean().values\n",
    "C = df.cov().values\n",
    "e = np.ones(len(mu))\n",
    "print(f'Vektor return {mu} dan \\n matriks kovariansi \\n {C} \\n dan vektor e {e}')\n"
   ]
  },
  {
   "cell_type": "code",
<<<<<<< Updated upstream
   "execution_count": 29,
=======
   "execution_count": 4,
>>>>>>> Stashed changes
   "metadata": {},
   "outputs": [],
   "source": [
    "# mu = np.array([1.1, 1.2, 1.3])\n",
    "# C = np.array([[0.01, 0, 0], [0, 0.05, 0], [0, 0, 0.07]])\n",
    "# e = np.ones(len(mu))\n",
    "# print(f'Vektor return {mu} dan \\n matriks kovariansi \\n {C} \\n dan vektor e {e}')\n"
   ]
  },
  {
   "cell_type": "markdown",
   "metadata": {},
   "source": [
    "Dari masalah \n",
    "\\begin{equation}\n",
    "\\min\\left\\{ -t \\mu^T \\mathbf{x} +  \\frac{1}{2}\\mathbf{x}^T C  \\mathbf{x} | \\mathbf{e}^T \\mathbf{x} = 1 \\right\\}\n",
    "\\end{equation}\n",
    "dengan $t$ adalah suatu parameter tak negatif.  \n",
    "dapat diperoleh bahwa persamaan untuk efficient frontiernya adalah : \n",
    "\\begin{equation}\n",
    "\\sigma^2_P - \\beta_0 = \\frac{(\\mu_P - \\alpha_0)^2}{\\alpha_1}\n",
    "\\end{equation}\n",
    "dengan :\n",
    "\\begin{align}\n",
    "\\alpha_0 = \\mu^T h_0 \\\\\n",
    "\\alpha_1 = \\mu^T h_1 \\\\\n",
    "\\beta_0 = h_0^TCh_0\n",
    "\\end{align}\n",
    "dan \n",
    "\\begin{align}\n",
    "h_0 &= \\frac{C^{-1}e}{e^TC^{-1}e} \\\\  \n",
    "h_1 &= C^{-1}\\mu - \\frac{e^TC^{-1}\\mu}{e^TC^{-1}e} C^{-1}e\n",
    "\\end{align}"
   ]
  },
  {
   "cell_type": "code",
<<<<<<< Updated upstream
   "execution_count": 30,
=======
   "execution_count": 5,
>>>>>>> Stashed changes
   "metadata": {},
   "outputs": [
    {
     "name": "stdout",
     "output_type": "stream",
     "text": [
      "Diperoleh \n",
<<<<<<< Updated upstream
      " h_0 [-0.04275683  0.11859804  0.11305716 -0.08607134  0.08024135 -0.04776456\n",
      "  0.02333895  0.42553097  0.25390124 -0.00090323  0.32299409 -0.03803264\n",
      " -0.04138481  0.16838805 -0.24913645]\n",
      " dan \n",
      " h_1 [  3.10147587   0.26636844  -6.70161175   5.68090202  -3.2408057\n",
      "  -2.8293986    0.76890594  -2.83829387  -3.72817403   1.64496755\n",
      "  15.3681423   -2.86671075   7.87504133 -10.09697757  -2.40383118]\n"
=======
      " h_0 \n",
      " [ 0.12977297  0.14715451  0.18164951 -0.00715671 -0.21309803 -0.01438663\n",
      "  0.08751685  0.43887871  0.10567407  0.02248507  0.44605813 -0.07901866\n",
      "  0.18845694 -0.21955972 -0.21442702] \n",
      " dan \n",
      " h_1 \n",
      " [ 3.16275702e+00  1.40487386e+01  1.35792920e+01 -2.92086023e-03\n",
      " -2.99076090e+00 -9.07564668e+00  5.14929944e+00 -2.52895856e+00\n",
      " -2.38692930e+00  3.89917724e+00 -2.71631424e+01  1.74214863e+00\n",
      "  9.59064655e+00 -9.51862606e+00  2.49492524e+00]\n"
>>>>>>> Stashed changes
     ]
    }
   ],
   "source": [
    "h_0 = (np.linalg.inv(C).dot(e))/(e.dot(np.linalg.inv(C)).dot(e))\n",
    "h_1 = np.linalg.inv(C).dot(mu) -((e.dot(np.linalg.inv(C)).dot(mu))/(e.dot(np.linalg.inv(C)).dot(e)))*(np.linalg.inv(C).dot(e))\n",
    "print(f'Diperoleh \\n h_0 \\n {h_0} \\n dan \\n h_1 \\n {h_1}')"
   ]
  },
  {
   "cell_type": "code",
<<<<<<< Updated upstream
   "execution_count": 31,
=======
   "execution_count": 6,
>>>>>>> Stashed changes
   "metadata": {},
   "outputs": [
    {
     "name": "stdout",
     "output_type": "stream",
     "text": [
      "Diperoleh \n",
<<<<<<< Updated upstream
      " alpha_0 : -0.005667327024452495, \n",
      " alpha_1 : 0.6770414807724324, \n",
      " beta_0 : 0.0004002739399246343\n",
      " beta_2 : 0.6770414807724322\n"
=======
      " alpha_0 : 0.010683988819639015, \n",
      " alpha_1 : 1.1560845425944917, \n",
      " beta_0 : 0.0006445924789962743\n",
      " beta_2 : 1.156084542594492\n"
>>>>>>> Stashed changes
     ]
    }
   ],
   "source": [
    "alpha_0 = mu.dot(h_0)\n",
    "alpha_1 = mu.dot(h_1)\n",
    "beta_0 = h_0.dot(C).dot(h_0)\n",
    "beta_2 = h_1.dot(C).dot(h_1)\n",
    "print(f'Diperoleh \\n alpha_0 : {alpha_0}, \\n alpha_1 : {alpha_1}, \\n beta_0 : {beta_0}\\n beta_2 : {beta_2}')"
   ]
  },
  {
   "cell_type": "markdown",
   "metadata": {},
   "source": [
    "Sehingga persamaan Efficient Frontier - nya menjadi :  \n",
    "\\begin{equation}\n",
    "\\sigma^2_P - 0.00875 = \\frac{(\\mu_P - 1.125)^2}{0.035}\n",
    "\\end{equation}"
   ]
  },
  {
   "cell_type": "code",
<<<<<<< Updated upstream
   "execution_count": 32,
=======
   "execution_count": 7,
>>>>>>> Stashed changes
   "metadata": {},
   "outputs": [
    {
     "data": {
<<<<<<< Updated upstream
      "image/png": "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",
=======
      "image/png": "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",
>>>>>>> Stashed changes
      "text/plain": [
       "<Figure size 432x288 with 1 Axes>"
      ]
     },
     "metadata": {
      "needs_background": "light"
     },
     "output_type": "display_data"
    },
    {
     "name": "stdout",
     "output_type": "stream",
     "text": [
<<<<<<< Updated upstream
      "Nilai return dari variansi yang minimum adalah : -0.005667327024452495\n",
      "Dengan masing-masing proporsi saham ['TLKM.JK', 'BBNI.JK', 'ASII.JK', 'ANTM.JK', 'BMRI.JK', 'BBRI.JK', 'ARTO.JK', 'UNVR.JK', 'AMRT.JK', 'HRUM.JK', 'BBCA.JK', 'INCO.JK', 'ADRO.JK', 'PTBA.JK', 'PGAS.JK'] adalah sebagai berikut : {h_0}\n"
=======
      "Nilai return dari variansi yang minimum adalah : 0.010683988819639015\n"
     ]
    },
    {
     "ename": "TypeError",
     "evalue": "unhashable type: 'numpy.ndarray'",
     "output_type": "error",
     "traceback": [
      "\u001b[1;31m---------------------------------------------------------------------------\u001b[0m",
      "\u001b[1;31mTypeError\u001b[0m                                 Traceback (most recent call last)",
      "\u001b[1;32m~\\AppData\\Local\\Temp/ipykernel_10764/580111562.py\u001b[0m in \u001b[0;36m<module>\u001b[1;34m\u001b[0m\n\u001b[0;32m     11\u001b[0m \u001b[0mplt\u001b[0m\u001b[1;33m.\u001b[0m\u001b[0mshow\u001b[0m\u001b[1;33m(\u001b[0m\u001b[1;33m)\u001b[0m\u001b[1;33m\u001b[0m\u001b[1;33m\u001b[0m\u001b[0m\n\u001b[0;32m     12\u001b[0m \u001b[0mprint\u001b[0m\u001b[1;33m(\u001b[0m\u001b[1;34mf'Nilai return dari variansi yang minimum adalah : {np.min(mu_p)}'\u001b[0m\u001b[1;33m)\u001b[0m\u001b[1;33m\u001b[0m\u001b[1;33m\u001b[0m\u001b[0m\n\u001b[1;32m---> 13\u001b[1;33m \u001b[0mprint\u001b[0m\u001b[1;33m(\u001b[0m\u001b[1;34mf'Dengan masing-masing proporsi saham'\u001b[0m\u001b[1;33m,\u001b[0m\u001b[0mstock\u001b[0m \u001b[1;33m,\u001b[0m\u001b[1;34m'adalah sebagai berikut : '\u001b[0m\u001b[1;33m,\u001b[0m\u001b[1;33m{\u001b[0m\u001b[0mh_0\u001b[0m\u001b[1;33m}\u001b[0m\u001b[1;33m)\u001b[0m\u001b[1;33m\u001b[0m\u001b[1;33m\u001b[0m\u001b[0m\n\u001b[0m",
      "\u001b[1;31mTypeError\u001b[0m: unhashable type: 'numpy.ndarray'"
>>>>>>> Stashed changes
     ]
    }
   ],
   "source": [
    "t = np.linspace(0,0.5, 1000)\n",
    "sigma_P = beta_0 + t**2 *beta_2\n",
    "mu_p = alpha_0 + t*alpha_1\n",
    "mu_p_bawah = alpha_0 - t*alpha_1\n",
    "plt.plot(sigma_P, mu_p)\n",
    "plt.plot(sigma_P, mu_p_bawah, '--')\n",
    "plt.xlabel('sigma^2_P')\n",
    "plt.ylabel('mu_P')\n",
    "plt.grid(True)\n",
    "plt.title('Kurva Efficient Frontier')\n",
    "plt.show()\n",
    "print(f'Nilai return dari variansi yang minimum adalah : {np.min(mu_p)}')\n",
    "print(f'Dengan masing-masing proporsi saham',stock ,'adalah sebagai berikut : ',{h_0})"
   ]
  },
  {
   "cell_type": "markdown",
   "metadata": {},
   "source": [
    "Misalkan ditambahkan sebuah asset \\textit{risk-free} dengan \\textit{rate of return} $r = 1.02$. Maka diperoleh capital market linenya sebagai berikut : "
   ]
  },
  {
   "cell_type": "code",
<<<<<<< Updated upstream
   "execution_count": 49,
=======
   "execution_count": null,
>>>>>>> Stashed changes
   "metadata": {},
   "outputs": [],
   "source": [
    "def objective(weights): \n",
    "    weights = np.array(weights)\n",
    "    return weights.dot(C).dot(weights.T)\n",
    "# The constraints\n",
    "cons = (# The weights must sum up to one.\n",
    "        {\"type\":\"eq\", \"fun\": lambda x: np.sum(x)-1}, \n",
    "        # This constraints says that the inequalities (ineq) must be non-negative.# The expected daily return of our portfolio and we want to be at greater than 0.002352\n",
    "        {\"type\": \"ineq\", \"fun\": lambda x: np.sum(mu*x)-0.06}\n",
    "\n",
    "        )\n",
    "# Every stock can get any weight from 0 to 1\n",
    "bounds = tuple((0,1) for x in range(mu.shape[0]))\n",
    "# Initialize the weights with an even split\n",
    "# In out case each stock will have 10% at the beginning\n",
    "guess = [1./mu.shape[0] for x in range(mu.shape[0])]\n",
    "optimized_results = minimize(objective, guess, method = \"SLSQP\", bounds=bounds, constraints=cons)\n",
    "x_ = optimized_results.x"
   ]
  },
  {
   "cell_type": "code",
<<<<<<< Updated upstream
   "execution_count": 50,
=======
   "execution_count": null,
>>>>>>> Stashed changes
   "metadata": {},
   "outputs": [
    {
     "data": {
      "text/plain": [
       "1.0"
      ]
     },
<<<<<<< Updated upstream
     "execution_count": 50,
=======
     "execution_count": 9,
>>>>>>> Stashed changes
     "metadata": {},
     "output_type": "execute_result"
    }
   ],
   "source": [
    "np.sum(np.round(x_,5))"
   ]
  },
  {
   "cell_type": "code",
<<<<<<< Updated upstream
   "execution_count": 51,
=======
   "execution_count": null,
>>>>>>> Stashed changes
   "metadata": {},
   "outputs": [
    {
     "data": {
      "text/plain": [
       "{'ANTM.JK': 0.01714,\n",
       " 'ARTO.JK': 0.12303,\n",
       " 'AMRT.JK': 0.17618,\n",
       " 'HRUM.JK': 0.52951,\n",
       " 'BBCA.JK': 0.03466,\n",
       " 'ADRO.JK': 0.11948}"
      ]
     },
<<<<<<< Updated upstream
     "execution_count": 51,
=======
     "execution_count": 10,
>>>>>>> Stashed changes
     "metadata": {},
     "output_type": "execute_result"
    }
   ],
   "source": [
    "port_ = dict(zip(stock,np.round(x_,5)))\n",
    "port = dict()\n",
    "for (key,value) in port_.items():\n",
    "    if value >0 : \n",
    "        port[key] = value\n",
    "port"
   ]
  },
  {
   "cell_type": "code",
<<<<<<< Updated upstream
   "execution_count": 52,
=======
   "execution_count": null,
>>>>>>> Stashed changes
   "metadata": {},
   "outputs": [
    {
     "data": {
      "text/plain": [
       "{'ANTM.JK': 171400.0,\n",
       " 'ARTO.JK': 1230300.0,\n",
       " 'AMRT.JK': 1761800.0,\n",
       " 'HRUM.JK': 5295100.0,\n",
       " 'BBCA.JK': 346600.00000000006,\n",
       " 'ADRO.JK': 1194800.0}"
      ]
     },
<<<<<<< Updated upstream
     "execution_count": 52,
=======
     "execution_count": 11,
>>>>>>> Stashed changes
     "metadata": {},
     "output_type": "execute_result"
    }
   ],
   "source": [
    "start = 1e7 \n",
    "budget_ = dict()\n",
    "for (key,value) in port.items():\n",
    "    if value >0 : \n",
    "        budget_[key] = value*start\n",
    "budget_"
   ]
  },
  {
   "cell_type": "code",
<<<<<<< Updated upstream
   "execution_count": 53,
=======
   "execution_count": null,
>>>>>>> Stashed changes
   "metadata": {},
   "outputs": [
    {
     "data": {
      "text/html": [
       "<div>\n",
       "<style scoped>\n",
       "    .dataframe tbody tr th:only-of-type {\n",
       "        vertical-align: middle;\n",
       "    }\n",
       "\n",
       "    .dataframe tbody tr th {\n",
       "        vertical-align: top;\n",
       "    }\n",
       "\n",
       "    .dataframe thead th {\n",
       "        text-align: right;\n",
       "    }\n",
       "</style>\n",
       "<table border=\"1\" class=\"dataframe\">\n",
       "  <thead>\n",
       "    <tr style=\"text-align: right;\">\n",
       "      <th></th>\n",
       "      <th>ANTM.JK</th>\n",
       "      <th>ARTO.JK</th>\n",
       "      <th>AMRT.JK</th>\n",
       "      <th>HRUM.JK</th>\n",
       "      <th>BBCA.JK</th>\n",
       "      <th>ADRO.JK</th>\n",
       "    </tr>\n",
       "  </thead>\n",
       "  <tbody>\n",
       "    <tr>\n",
       "      <th>Total Spread</th>\n",
       "      <td>171400.0</td>\n",
       "      <td>1230300.0</td>\n",
       "      <td>1761800.0</td>\n",
       "      <td>5295100.0</td>\n",
       "      <td>346600.0</td>\n",
       "      <td>1194800.0</td>\n",
       "    </tr>\n",
       "  </tbody>\n",
       "</table>\n",
       "</div>"
      ],
      "text/plain": [
       "               ANTM.JK    ARTO.JK    AMRT.JK    HRUM.JK   BBCA.JK    ADRO.JK\n",
       "Total Spread  171400.0  1230300.0  1761800.0  5295100.0  346600.0  1194800.0"
      ]
     },
<<<<<<< Updated upstream
     "execution_count": 53,
=======
     "execution_count": 12,
>>>>>>> Stashed changes
     "metadata": {},
     "output_type": "execute_result"
    }
   ],
   "source": [
    "budget = pd.DataFrame.from_dict(data= budget_, orient= 'index').T\n",
    "budget.rename(index={0: 'Total Spread'}, inplace= True)\n"
   ]
  },
  {
   "cell_type": "code",
<<<<<<< Updated upstream
   "execution_count": 54,
=======
   "execution_count": null,
>>>>>>> Stashed changes
   "metadata": {},
   "outputs": [
    {
     "data": {
      "text/html": [
       "<div>\n",
       "<style scoped>\n",
       "    .dataframe tbody tr th:only-of-type {\n",
       "        vertical-align: middle;\n",
       "    }\n",
       "\n",
       "    .dataframe tbody tr th {\n",
       "        vertical-align: top;\n",
       "    }\n",
       "\n",
       "    .dataframe thead th {\n",
       "        text-align: right;\n",
       "    }\n",
       "</style>\n",
       "<table border=\"1\" class=\"dataframe\">\n",
       "  <thead>\n",
       "    <tr style=\"text-align: right;\">\n",
       "      <th></th>\n",
       "      <th>ANTM.JK</th>\n",
       "      <th>ARTO.JK</th>\n",
       "      <th>AMRT.JK</th>\n",
       "      <th>HRUM.JK</th>\n",
       "      <th>BBCA.JK</th>\n",
       "      <th>ADRO.JK</th>\n",
       "    </tr>\n",
       "    <tr>\n",
       "      <th>Date</th>\n",
       "      <th></th>\n",
       "      <th></th>\n",
       "      <th></th>\n",
       "      <th></th>\n",
       "      <th></th>\n",
       "      <th></th>\n",
       "    </tr>\n",
       "  </thead>\n",
       "  <tbody>\n",
       "    <tr>\n",
       "      <th>Closing 2022-07-06</th>\n",
       "      <td>172500.0</td>\n",
       "      <td>747500.0</td>\n",
       "      <td>198500.0</td>\n",
       "      <td>147000.0</td>\n",
       "      <td>722500.0</td>\n",
       "      <td>277000.0</td>\n",
       "    </tr>\n",
       "  </tbody>\n",
       "</table>\n",
       "</div>"
      ],
      "text/plain": [
       "                     ANTM.JK   ARTO.JK   AMRT.JK   HRUM.JK   BBCA.JK   ADRO.JK\n",
       "Date                                                                          \n",
       "Closing 2022-07-06  172500.0  747500.0  198500.0  147000.0  722500.0  277000.0"
      ]
     },
<<<<<<< Updated upstream
     "execution_count": 54,
=======
     "execution_count": 13,
>>>>>>> Stashed changes
     "metadata": {},
     "output_type": "execute_result"
    }
   ],
   "source": [
    "expense = pd.DataFrame(columns=port.keys())\n",
    "for item in port.keys(): \n",
    "    temp = yf.Ticker(item).history(period = '1d', interval = '1mo',actions=False)\n",
    "    expense[item] = temp['Close']*100 #1 lot\n",
    "expense.rename(index={expense.index[0]: str('Closing ' + str(expense.index[0]).split(' ')[0])}, inplace= True)\n",
    "expense"
   ]
  },
  {
   "cell_type": "code",
<<<<<<< Updated upstream
   "execution_count": 55,
=======
   "execution_count": null,
>>>>>>> Stashed changes
   "metadata": {},
   "outputs": [
    {
     "data": {
      "text/html": [
       "<div>\n",
       "<style scoped>\n",
       "    .dataframe tbody tr th:only-of-type {\n",
       "        vertical-align: middle;\n",
       "    }\n",
       "\n",
       "    .dataframe tbody tr th {\n",
       "        vertical-align: top;\n",
       "    }\n",
       "\n",
       "    .dataframe thead th {\n",
       "        text-align: right;\n",
       "    }\n",
       "</style>\n",
       "<table border=\"1\" class=\"dataframe\">\n",
       "  <thead>\n",
       "    <tr style=\"text-align: right;\">\n",
       "      <th></th>\n",
       "      <th>ANTM.JK</th>\n",
       "      <th>ARTO.JK</th>\n",
       "      <th>AMRT.JK</th>\n",
       "      <th>HRUM.JK</th>\n",
       "      <th>BBCA.JK</th>\n",
       "      <th>ADRO.JK</th>\n",
       "    </tr>\n",
       "  </thead>\n",
       "  <tbody>\n",
       "    <tr>\n",
       "      <th>Closing 2022-07-06</th>\n",
       "      <td>172500.0</td>\n",
       "      <td>747500.0</td>\n",
       "      <td>198500.0</td>\n",
       "      <td>147000.0</td>\n",
       "      <td>722500.0</td>\n",
       "      <td>277000.0</td>\n",
       "    </tr>\n",
       "    <tr>\n",
       "      <th>Total Spread</th>\n",
       "      <td>171400.0</td>\n",
       "      <td>1230300.0</td>\n",
       "      <td>1761800.0</td>\n",
       "      <td>5295100.0</td>\n",
       "      <td>346600.0</td>\n",
       "      <td>1194800.0</td>\n",
       "    </tr>\n",
       "    <tr>\n",
       "      <th>Total Lot</th>\n",
       "      <td>1.0</td>\n",
       "      <td>2.0</td>\n",
       "      <td>9.0</td>\n",
       "      <td>36.0</td>\n",
       "      <td>0.0</td>\n",
       "      <td>4.0</td>\n",
       "    </tr>\n",
       "    <tr>\n",
       "      <th>Total Spending</th>\n",
       "      <td>172500.0</td>\n",
       "      <td>1495000.0</td>\n",
       "      <td>1786500.0</td>\n",
       "      <td>5292000.0</td>\n",
       "      <td>0.0</td>\n",
       "      <td>1108000.0</td>\n",
       "    </tr>\n",
       "  </tbody>\n",
       "</table>\n",
       "</div>"
      ],
      "text/plain": [
       "                     ANTM.JK    ARTO.JK    AMRT.JK    HRUM.JK   BBCA.JK  \\\n",
       "Closing 2022-07-06  172500.0   747500.0   198500.0   147000.0  722500.0   \n",
       "Total Spread        171400.0  1230300.0  1761800.0  5295100.0  346600.0   \n",
       "Total Lot                1.0        2.0        9.0       36.0       0.0   \n",
       "Total Spending      172500.0  1495000.0  1786500.0  5292000.0       0.0   \n",
       "\n",
       "                      ADRO.JK  \n",
       "Closing 2022-07-06   277000.0  \n",
       "Total Spread        1194800.0  \n",
       "Total Lot                 4.0  \n",
       "Total Spending      1108000.0  "
      ]
     },
<<<<<<< Updated upstream
     "execution_count": 55,
=======
     "execution_count": 14,
>>>>>>> Stashed changes
     "metadata": {},
     "output_type": "execute_result"
    }
   ],
   "source": [
    "qty = pd.concat([expense,budget])\n",
    "temp_ = pd.DataFrame(np.round(qty.iloc[1] / qty.iloc[0],0)).T\n",
    "temp_.rename(index={0: 'Total Lot'}, inplace= True)\n",
    "qty = pd.concat([qty, temp_])\n",
    "spend = pd.DataFrame(np.round(qty.iloc[2] * qty.iloc[0],0)).T\n",
    "finale = pd.concat([qty, spend])\n",
    "finale.rename(index={0: 'Total Spending'}, inplace= True)\n",
    "finale"
   ]
  },
  {
   "cell_type": "code",
<<<<<<< Updated upstream
   "execution_count": 56,
=======
   "execution_count": null,
>>>>>>> Stashed changes
   "metadata": {},
   "outputs": [
    {
     "data": {
      "text/plain": [
       "Closing 2022-07-06     2265000.0\n",
       "Total Spread          10000000.0\n",
       "Total Lot                   52.0\n",
       "Total Spending         9854000.0\n",
       "dtype: float64"
      ]
     },
<<<<<<< Updated upstream
     "execution_count": 56,
=======
     "execution_count": 15,
>>>>>>> Stashed changes
     "metadata": {},
     "output_type": "execute_result"
    }
   ],
   "source": [
    "finale.sum(axis = 1)"
   ]
  },
  {
   "cell_type": "code",
<<<<<<< Updated upstream
   "execution_count": 57,
=======
   "execution_count": null,
>>>>>>> Stashed changes
   "metadata": {},
   "outputs": [
    {
     "name": "stdout",
     "output_type": "stream",
     "text": [
<<<<<<< Updated upstream
      "return : 5.999999999972333 %\n",
      "risk : 1.9020702709089499 %\n",
      "Total Money : 9854000.0\n",
      "Total Idle Money : 146000.0\n"
=======
      "return : 6.000000000216949 %\n",
      "risk : 0.6610415480109174 %\n",
      "Total Money : 18996000.0\n",
      "Total Idle Money : 1004000.0\n"
>>>>>>> Stashed changes
     ]
    }
   ],
   "source": [
    "print(f'return :', x_.dot(mu)*100, '%')\n",
    "print(f'risk :', x_.dot(C).dot(x_)*100, '%')\n",
    "print(f'Total Money :',finale.sum(axis=1)[-1])\n",
    "print(f'Total Idle Money :', start - finale.sum(axis=1)[-1])"
   ]
  },
  {
   "cell_type": "code",
<<<<<<< Updated upstream
   "execution_count": 58,
=======
   "execution_count": null,
>>>>>>> Stashed changes
   "metadata": {},
   "outputs": [],
   "source": [
    "finale.to_csv(str('IHSG '+finale.index[0].split(' ')[1]+'.csv'))"
   ]
  }
 ],
 "metadata": {
  "interpreter": {
   "hash": "a063a9d6d4095dba70f7d4a438ef288e94ffec589b0525f5b20de998ec61033a"
  },
  "kernelspec": {
   "display_name": "Python 3.8.12 ('base')",
   "language": "python",
   "name": "python3"
  },
  "language_info": {
   "codemirror_mode": {
    "name": "ipython",
    "version": 3
   },
   "file_extension": ".py",
   "mimetype": "text/x-python",
   "name": "python",
   "nbconvert_exporter": "python",
   "pygments_lexer": "ipython3",
   "version": "3.8.12"
  },
  "orig_nbformat": 4
 },
 "nbformat": 4,
 "nbformat_minor": 2
}
