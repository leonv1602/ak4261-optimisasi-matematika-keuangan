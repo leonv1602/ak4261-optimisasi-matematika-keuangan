{
 "cells": [
  {
   "cell_type": "markdown",
   "metadata": {},
   "source": [
    "# Packages"
   ]
  },
  {
   "cell_type": "code",
   "execution_count": 1,
   "metadata": {},
   "outputs": [],
   "source": [
    "import numpy as np \n",
    "import pandas as pd \n",
    "import matplotlib.pyplot as plt \n",
    "import yfinance as yf\n",
    "import yahoofinancials\n",
    "import seaborn as sn\n",
    "from scipy.stats import anderson,kstest,shapiro, probplot\n",
    "import linalg"
   ]
  },
  {
   "cell_type": "markdown",
   "metadata": {},
   "source": []
  },
  {
   "cell_type": "code",
   "execution_count": 7,
   "metadata": {},
   "outputs": [
    {
     "name": "stdout",
     "output_type": "stream",
     "text": [
      "Vektor return [1.1 1.2 1.3] dan \n",
      " matriks kovariansi \n",
      " [[0.01 0.   0.  ]\n",
      " [0.   0.05 0.07]\n",
      " [0.   0.   0.07]] \n",
      " dan vektor e [1. 1. 1.]\n"
     ]
    }
   ],
   "source": [
    "mu = np.array([1.1, 1.2, 1.3])\n",
    "C = np.array([[0.01, 0, 0], [0, 0.05, 0.07], [0, 0, 0.07]])\n",
    "e = np.ones(len(mu))\n",
    "print(f'Vektor return {mu} dan \\n matriks kovariansi \\n {C} \\n dan vektor e {e}')\n"
   ]
  },
  {
   "cell_type": "markdown",
   "metadata": {},
   "source": [
    "Dari masalah \n",
    "\\begin{equation}\n",
    "\\min\\left\\{ -t \\mu^T \\mathbf{x} +  \\frac{1}{2}\\mathbf{x}^T C  \\mathbf{x} | \\mathbf{e}^T \\mathbf{x} = 1 \\right\\}\n",
    "\\end{equation}\n",
    "dapat diperoleh bahwa persamaan untuk efficient frontiernya adalah : \n",
    "\\begin{equation}\n",
    "\\sigma^2_P - \\beta_0 = \\frac{(\\mu_P - \\alpha_0)^2}{\\alpha_1}\n",
    "\\end{equation}\n",
    "dengan :\n",
    "\\begin{align}\n",
    "\\alpha_0 = \\mu^T h_0 \\\\\n",
    "\\alpha_1 = \\mu^T h_1 \\\\\n",
    "\\beta_0 = h_0^TCh_0\n",
    "\\end{align}\n",
    "dan \n",
    "\\begin{align}\n",
    "h_0 &= \\frac{C^{-1}e}{e^TC^{-1}e} \\\\  \n",
    "h_1 &= C^{-1}\\mu - \\frac{e^TC^{-1}\\mu}{e^TC^{-1}e} C^{-1}e\n",
    "\\end{align}"
   ]
  },
  {
   "cell_type": "code",
   "execution_count": 24,
   "metadata": {},
   "outputs": [
    {
     "data": {
      "text/plain": [
       "1.1075000000000002"
      ]
     },
     "execution_count": 24,
     "metadata": {},
     "output_type": "execute_result"
    }
   ],
   "source": [
    "((e.dot(np.linalg.inv(C)).dot(mu))/(e.dot(np.linalg.inv(C)).dot(e)))"
   ]
  },
  {
   "cell_type": "code",
   "execution_count": 30,
   "metadata": {},
   "outputs": [
    {
     "name": "stdout",
     "output_type": "stream",
     "text": [
      "Diperoleh \n",
      " h_0 [0.875 0.    0.125]\n",
      " dan \n",
      " h_1 [-0.75 -2.    2.75]\n"
     ]
    }
   ],
   "source": [
    "h_0 = (np.linalg.inv(C).dot(e))/(e.dot(np.linalg.inv(C)).dot(e))\n",
    "h_1 = np.linalg.inv(C).dot(mu) -((e.dot(np.linalg.inv(C)).dot(mu))/(e.dot(np.linalg.inv(C)).dot(e)))*(np.linalg.inv(C).dot(e))\n",
    "print(f'Diperoleh \\n h_0 {h_0}\\n dan \\n h_1 {h_1}')"
   ]
  },
  {
   "cell_type": "code",
   "execution_count": 34,
   "metadata": {},
   "outputs": [
    {
     "name": "stdout",
     "output_type": "stream",
     "text": [
      "Diperoleh \n",
      " alpha_0 : 1.1250000000000002, \n",
      " alpha_1 : 0.3499999999999952, dan \n",
      " beta_0 : 0.00875\n"
     ]
    }
   ],
   "source": [
    "alpha_0 = mu.dot(h_0)\n",
    "alpha_1 = mu.dot(h_1)\n",
    "beta_0 = h_0.dot(C).dot(h_0)\n",
    "print(f'Diperoleh \\n alpha_0 : {alpha_0}, \\n alpha_1 : {alpha_1}, dan \\n beta_0 : {beta_0}')"
   ]
  },
  {
   "cell_type": "markdown",
   "metadata": {},
   "source": [
    "Sehingga persamaan Efficient Frontier - nya menjadi :  \n",
    "\\begin{equation}\n",
    "\\sigma^2_P - 0.00875 = \\frac{(\\mu_P - 1.125)^2}{0.035}\n",
    "\\end{equation}"
   ]
  },
  {
   "cell_type": "code",
   "execution_count": 35,
   "metadata": {},
   "outputs": [
    {
     "name": "stderr",
     "output_type": "stream",
     "text": [
      "C:\\Users\\leona\\AppData\\Local\\Temp/ipykernel_28220/2649018065.py:2: RuntimeWarning: invalid value encountered in sqrt\n",
      "  mu_p = np.sqrt((sigma_P- 0.00875)*0.035) + 1.125\n"
     ]
    },
    {
     "data": {
      "image/png": "[encoded data removed]",
      "text/plain": [
       "<Figure size 432x288 with 1 Axes>"
      ]
     },
     "metadata": {
      "needs_background": "light"
     },
     "output_type": "display_data"
    }
   ],
   "source": [
    "sigma_P = np.linspace(0,10,1000)\n",
    "mu_p = np.sqrt((sigma_P- 0.00875)*0.035) + 1.125\n",
    "\n",
    "plt.plot(sigma_P, mu_p)\n",
    "plt.xlabel('sigma^2_P')\n",
    "plt.ylabel('mu_P')\n",
    "plt.title('Kurva Efficient Frontier')\n",
    "plt.show()"
   ]
  }
 ],
 "metadata": {
  "interpreter": {
   "hash": "573a5c7e7f6b69a982819e50b3614ba2e70da23418480f96bebec1796dfd44fd"
  },
  "kernelspec": {
   "display_name": "Python 3.8.12 ('base')",
   "language": "python",
   "name": "python3"
  },
  "language_info": {
   "codemirror_mode": {
    "name": "ipython",
    "version": 3
   },
   "file_extension": ".py",
   "mimetype": "text/x-python",
   "name": "python",
   "nbconvert_exporter": "python",
   "pygments_lexer": "ipython3",
   "version": "3.8.12"
  },
  "orig_nbformat": 4
 },
 "nbformat": 4,
 "nbformat_minor": 2
}
