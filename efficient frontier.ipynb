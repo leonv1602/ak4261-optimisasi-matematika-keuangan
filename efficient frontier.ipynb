{
 "cells": [
  {
   "cell_type": "markdown",
   "metadata": {},
   "source": [
    "# Packages"
   ]
  },
  {
   "cell_type": "code",
   "execution_count": 14,
   "metadata": {},
   "outputs": [],
   "source": [
    "import numpy as np \n",
    "import pandas as pd \n",
    "import matplotlib.pyplot as plt \n",
    "import yfinance as yf\n",
    "import yahoofinancials\n",
    "from scipy.optimize import minimize\n",
    "import seaborn as sn\n",
    "from scipy.stats import anderson,kstest,shapiro, probplot"
   ]
  },
  {
   "cell_type": "markdown",
   "metadata": {},
   "source": [
    "# Masalah.  \n",
    "Misalkan portofolio saham dengan komposisi saham TLKM, BBNI, dan ASII. Akan dicari nilai return dengan variansi minimal dan juga dicari komposisi dari masing-masing saham.  "
   ]
  },
  {
   "cell_type": "code",
   "execution_count": 15,
   "metadata": {},
   "outputs": [],
   "source": [
    "stock = ['TLKM.JK', 'BBNI.JK','ASII.JK', 'ANTM.JK', 'BMRI.JK','BBRI.JK', 'ARTO.JK', 'UNVR.JK', 'AMRT.JK', 'HRUM.JK',\n",
    "        'BBCA.JK', 'INCO.JK', 'ADRO.JK', 'PTBA.JK', 'PGAS.JK']\n",
    "#stock = ['TSLA', 'DIS', 'NKE', 'AAPL']\n",
    "df = pd.DataFrame(columns=stock)\n",
    "for i in stock :\n",
    "    temp = yf.Ticker(i).history(period = '2y', interval = '1mo',actions=False)\n",
    "    temp.dropna(inplace = True)\n",
    "    temp['log_return'] = np.log(temp['Close']) - np.log(temp['Close'].shift(1))\n",
    "    temp['log_return'].dropna(inplace = True)\n",
    "    df[i] =temp['log_return'].dropna()"
   ]
  },
  {
   "cell_type": "code",
   "execution_count": 16,
   "metadata": {},
   "outputs": [
    {
     "name": "stdout",
     "output_type": "stream",
     "text": [
      "Vektor return [ 0.02767517  0.05165774  0.03186793  0.00319869  0.02767793  0.01338323\n",
      " -0.04864651  0.00012696  0.02313598  0.06490812  0.01867683  0.038018\n",
      "  0.08789632  0.05981998  0.03664152] dan \n",
      " matriks kovariansi \n",
      " [[ 1.97230791e-03  1.32166592e-03  8.34386308e-04  1.15856063e-03\n",
      "   1.15074893e-03  1.09477615e-03  4.93653952e-03 -2.97178169e-03\n",
      "   1.49353645e-03  4.04423077e-03  1.38068156e-03  9.65485462e-04\n",
      "   1.97162177e-03  1.28030706e-03  2.42595246e-04]\n",
      " [ 1.32166592e-03  9.08263288e-03  4.29283534e-03  2.30981929e-03\n",
      "   7.05957670e-03  4.44399792e-03  2.81057543e-03 -4.54379736e-04\n",
      "  -2.11985757e-03 -7.90058378e-03  3.77125086e-03  2.33889158e-03\n",
      "  -2.32683287e-03 -1.17118606e-03  4.69948925e-03]\n",
      " [ 8.34386308e-04  4.29283534e-03  5.18738657e-03  3.67124158e-03\n",
      "   4.39271765e-03  3.47046258e-03 -3.19103357e-03  2.08106014e-04\n",
      "   3.39637695e-03 -3.13449440e-03  2.21478179e-03  1.86898224e-03\n",
      "   1.08585273e-03  8.76748547e-04  2.34910786e-03]\n",
      " [ 1.15856063e-03  2.30981929e-03  3.67124158e-03  1.35111544e-02\n",
      "   1.44466364e-03  4.24638964e-03  3.68692520e-03 -3.77055683e-03\n",
      "   4.16187139e-03  8.47595904e-04  6.50460537e-04  7.99305751e-03\n",
      "   1.68447646e-03  2.21312347e-03  4.25017195e-06]\n",
      " [ 1.15074893e-03  7.05957670e-03  4.39271765e-03  1.44466364e-03\n",
      "   6.79646648e-03  4.40293079e-03  6.16945689e-04 -3.57301779e-04\n",
      "   3.45889130e-04 -3.56157881e-03  3.26829660e-03  1.49974431e-03\n",
      "   1.03845026e-03  4.71009437e-04  2.99620651e-03]\n",
      " [ 1.09477615e-03  4.44399792e-03  3.47046258e-03  4.24638964e-03\n",
      "   4.40293079e-03  5.48928021e-03  1.93841316e-03 -1.38287765e-03\n",
      "   3.40250632e-04  3.94618750e-03  2.67034405e-03  2.01501970e-03\n",
      "   3.47902189e-03  2.95370931e-03  2.91108284e-03]\n",
      " [ 4.93653952e-03  2.81057543e-03 -3.19103357e-03  3.68692520e-03\n",
      "   6.16945689e-04  1.93841316e-03  2.47921341e-02 -1.06607543e-02\n",
      "  -2.72163741e-04  1.13221661e-02  2.13846724e-03  5.40730426e-03\n",
      "   4.11531288e-03  2.68844044e-03 -1.06659078e-03]\n",
      " [-2.97178169e-03 -4.54379736e-04  2.08106014e-04 -3.77055683e-03\n",
      "  -3.57301779e-04 -1.38287765e-03 -1.06607543e-02  8.81131200e-03\n",
      "  -3.18044357e-03 -7.60922230e-03 -2.10309212e-03 -2.89841069e-03\n",
      "  -4.63264002e-03 -2.60793713e-03  3.25175584e-03]\n",
      " [ 1.49353645e-03 -2.11985757e-03  3.39637695e-03  4.16187139e-03\n",
      "   3.45889130e-04  3.40250632e-04 -2.72163741e-04 -3.18044357e-03\n",
      "   1.46624224e-02 -2.04109519e-04 -8.09825229e-04  6.53931656e-03\n",
      "   5.15900472e-03  2.91010613e-03 -4.92400536e-03]\n",
      " [ 4.04423077e-03 -7.90058378e-03 -3.13449440e-03  8.47595904e-04\n",
      "  -3.56157881e-03  3.94618750e-03  1.13221661e-02 -7.60922230e-03\n",
      "  -2.04109519e-04  5.12583329e-02  1.55240186e-03 -6.35397400e-03\n",
      "   2.16517525e-02  1.64344878e-02  4.81546911e-05]\n",
      " [ 1.38068156e-03  3.77125086e-03  2.21478179e-03  6.50460537e-04\n",
      "   3.26829660e-03  2.67034405e-03  2.13846724e-03 -2.10309212e-03\n",
      "  -8.09825229e-04  1.55240186e-03  2.81105681e-03 -5.01399765e-04\n",
      "   1.19314042e-03  9.87968095e-04  2.10281118e-03]\n",
      " [ 9.65485462e-04  2.33889158e-03  1.86898224e-03  7.99305751e-03\n",
      "   1.49974431e-03  2.01501970e-03  5.40730426e-03 -2.89841069e-03\n",
      "   6.53931656e-03 -6.35397400e-03 -5.01399765e-04  1.02450890e-02\n",
      "  -5.77488196e-04  7.23229661e-04 -1.99018476e-03]\n",
      " [ 1.97162177e-03 -2.32683287e-03  1.08585273e-03  1.68447646e-03\n",
      "   1.03845026e-03  3.47902189e-03  4.11531288e-03 -4.63264002e-03\n",
      "   5.15900472e-03  2.16517525e-02  1.19314042e-03 -5.77488196e-04\n",
      "   1.66753434e-02  9.34892618e-03 -2.41936054e-03]\n",
      " [ 1.28030706e-03 -1.17118606e-03  8.76748547e-04  2.21312347e-03\n",
      "   4.71009437e-04  2.95370931e-03  2.68844044e-03 -2.60793713e-03\n",
      "   2.91010613e-03  1.64344878e-02  9.87968095e-04  7.23229661e-04\n",
      "   9.34892618e-03  8.16357678e-03  4.63876425e-04]\n",
      " [ 2.42595246e-04  4.69948925e-03  2.34910786e-03  4.25017195e-06\n",
      "   2.99620651e-03  2.91108284e-03 -1.06659078e-03  3.25175584e-03\n",
      "  -4.92400536e-03  4.81546911e-05  2.10281118e-03 -1.99018476e-03\n",
      "  -2.41936054e-03  4.63876425e-04  7.12283004e-03]] \n",
      " dan vektor e [1. 1. 1. 1. 1. 1. 1. 1. 1. 1. 1. 1. 1. 1. 1.]\n"
     ]
    }
   ],
   "source": [
    "mu = df.mean().values\n",
    "C = df.cov().values\n",
    "e = np.ones(len(mu))\n",
    "print(f'Vektor return {mu} dan \\n matriks kovariansi \\n {C} \\n dan vektor e {e}')\n"
   ]
  },
  {
   "cell_type": "code",
   "execution_count": 17,
   "metadata": {},
   "outputs": [],
   "source": [
    "# mu = np.array([1.1, 1.2, 1.3])\n",
    "# C = np.array([[0.01, 0, 0], [0, 0.05, 0], [0, 0, 0.07]])\n",
    "# e = np.ones(len(mu))\n",
    "# print(f'Vektor return {mu} dan \\n matriks kovariansi \\n {C} \\n dan vektor e {e}')\n"
   ]
  },
  {
   "cell_type": "markdown",
   "metadata": {},
   "source": [
    "Dari masalah \n",
    "\\begin{equation}\n",
    "\\min\\left\\{ -t \\mu^T \\mathbf{x} +  \\frac{1}{2}\\mathbf{x}^T C  \\mathbf{x} | \\mathbf{e}^T \\mathbf{x} = 1 \\right\\}\n",
    "\\end{equation}\n",
    "dengan $t$ adalah suatu parameter tak negatif.  \n",
    "dapat diperoleh bahwa persamaan untuk efficient frontiernya adalah : \n",
    "\\begin{equation}\n",
    "\\sigma^2_P - \\beta_0 = \\frac{(\\mu_P - \\alpha_0)^2}{\\alpha_1}\n",
    "\\end{equation}\n",
    "dengan :\n",
    "\\begin{align}\n",
    "\\alpha_0 = \\mu^T h_0 \\\\\n",
    "\\alpha_1 = \\mu^T h_1 \\\\\n",
    "\\beta_0 = h_0^TCh_0\n",
    "\\end{align}\n",
    "dan \n",
    "\\begin{align}\n",
    "h_0 &= \\frac{C^{-1}e}{e^TC^{-1}e} \\\\  \n",
    "h_1 &= C^{-1}\\mu - \\frac{e^TC^{-1}\\mu}{e^TC^{-1}e} C^{-1}e\n",
    "\\end{align}"
   ]
  },
  {
   "cell_type": "code",
   "execution_count": 18,
   "metadata": {},
   "outputs": [
    {
     "name": "stdout",
     "output_type": "stream",
     "text": [
      "Diperoleh \n",
      " h_0 [ 0.39546611 -1.24194987 -0.14601211  0.18157226  0.76124243 -0.0972968\n",
      "  0.15284902  0.27522835 -0.1806234  -0.28030511  0.75862022  0.02092897\n",
      "  0.02121286  0.25903681  0.12003027]\n",
      " dan \n",
      " h_1 [-1.79505931e+14  4.36965664e+16  2.00148210e+16 -3.11240239e+15\n",
      " -3.83209103e+16  1.26795701e+16  5.17102101e+15  1.30591924e+16\n",
      "  1.89378228e+15  4.15625063e+15 -1.62900345e+16 -1.38750183e+16\n",
      " -8.85432435e+15  1.11544684e+16 -3.11934766e+16]\n"
     ]
    }
   ],
   "source": [
    "h_0 = (np.linalg.inv(C).dot(e))/(e.dot(np.linalg.inv(C)).dot(e))\n",
    "h_1 = np.linalg.inv(C).dot(mu) -((e.dot(np.linalg.inv(C)).dot(mu))/(e.dot(np.linalg.inv(C)).dot(e)))*(np.linalg.inv(C).dot(e))\n",
    "print(f'Diperoleh \\n h_0 {h_0}\\n dan \\n h_1 {h_1}')"
   ]
  },
  {
   "cell_type": "code",
   "execution_count": 19,
   "metadata": {},
   "outputs": [
    {
     "name": "stdout",
     "output_type": "stream",
     "text": [
      "Diperoleh \n",
      " alpha_0 : -0.03056768088835259, \n",
      " alpha_1 : -32807254113286.625, \n",
      " beta_0 : -4.7330531548916675e-18\n",
      " beta_2 : 918848322091189.2\n"
     ]
    }
   ],
   "source": [
    "alpha_0 = mu.dot(h_0)\n",
    "alpha_1 = mu.dot(h_1)\n",
    "beta_0 = h_0.dot(C).dot(h_0)\n",
    "beta_2 = h_1.dot(C).dot(h_1)\n",
    "print(f'Diperoleh \\n alpha_0 : {alpha_0}, \\n alpha_1 : {alpha_1}, \\n beta_0 : {beta_0}\\n beta_2 : {beta_2}')"
   ]
  },
  {
   "cell_type": "markdown",
   "metadata": {},
   "source": [
    "Sehingga persamaan Efficient Frontier - nya menjadi :  \n",
    "\\begin{equation}\n",
    "\\sigma^2_P - 0.00875 = \\frac{(\\mu_P - 1.125)^2}{0.035}\n",
    "\\end{equation}"
   ]
  },
  {
   "cell_type": "code",
   "execution_count": 20,
   "metadata": {},
   "outputs": [
    {
     "data": {
      "image/png": "[encoded data removed]",
      "text/plain": [
       "<Figure size 432x288 with 1 Axes>"
      ]
     },
     "metadata": {
      "needs_background": "light"
     },
     "output_type": "display_data"
    },
    {
     "name": "stdout",
     "output_type": "stream",
     "text": [
      "Nilai return dari variansi yang minimum adalah : -16403627056643.344\n",
      "Dengan masing-masing proporsi saham ['TLKM.JK', 'BBNI.JK', 'ASII.JK', 'ANTM.JK', 'BMRI.JK', 'BBRI.JK', 'ARTO.JK', 'UNVR.JK', 'AMRT.JK', 'HRUM.JK', 'BBCA.JK', 'INCO.JK', 'ADRO.JK', 'PTBA.JK', 'PGAS.JK'] adalah sebagai berikut : {h_0}\n"
     ]
    }
   ],
   "source": [
    "t = np.linspace(0,0.5, 1000)\n",
    "sigma_P = beta_0 + t**2 *beta_2\n",
    "mu_p = alpha_0 + t*alpha_1\n",
    "mu_p_bawah = alpha_0 - t*alpha_1\n",
    "plt.plot(sigma_P, mu_p)\n",
    "plt.plot(sigma_P, mu_p_bawah, '--')\n",
    "plt.xlabel('sigma^2_P')\n",
    "plt.ylabel('mu_P')\n",
    "plt.grid(True)\n",
    "plt.title('Kurva Efficient Frontier')\n",
    "plt.show()\n",
    "print(f'Nilai return dari variansi yang minimum adalah : {np.min(mu_p)}')\n",
    "print(f'Dengan masing-masing proporsi saham',stock ,'adalah sebagai berikut : {h_0}')"
   ]
  },
  {
   "cell_type": "markdown",
   "metadata": {},
   "source": [
    "Misalkan ditambahkan sebuah asset \\textit{risk-free} dengan \\textit{rate of return} $r = 1.02$. Maka diperoleh capital market linenya sebagai berikut : "
   ]
  },
  {
   "cell_type": "code",
   "execution_count": 21,
   "metadata": {},
   "outputs": [],
   "source": [
    "def objective(weights): \n",
    "    weights = np.array(weights)\n",
    "    return weights.dot(C).dot(weights.T)\n",
    "# The constraints\n",
    "cons = (# The weights must sum up to one.\n",
    "        {\"type\":\"eq\", \"fun\": lambda x: np.sum(x)-1}, \n",
    "        # This constraints says that the inequalities (ineq) must be non-negative.# The expected daily return of our portfolio and we want to be at greater than 0.002352\n",
    "        {\"type\": \"ineq\", \"fun\": lambda x: np.sum(mu*x)-0.06}\n",
    "\n",
    "        )\n",
    "# Every stock can get any weight from 0 to 1\n",
    "bounds = tuple((0,1) for x in range(mu.shape[0]))\n",
    "# Initialize the weights with an even split\n",
    "# In out case each stock will have 10% at the beginning\n",
    "guess = [1./mu.shape[0] for x in range(mu.shape[0])]\n",
    "optimized_results = minimize(objective, guess, method = \"SLSQP\", bounds=bounds, constraints=cons)\n",
    "x_ = optimized_results.x"
   ]
  },
  {
   "cell_type": "code",
   "execution_count": 22,
   "metadata": {},
   "outputs": [
    {
     "data": {
      "text/plain": [
       "1.0"
      ]
     },
     "execution_count": 22,
     "metadata": {},
     "output_type": "execute_result"
    }
   ],
   "source": [
    "np.sum(np.round(x_,5))"
   ]
  },
  {
   "cell_type": "code",
   "execution_count": 23,
   "metadata": {},
   "outputs": [
    {
     "data": {
      "text/plain": [
       "{'BBNI.JK': 0.27961,\n",
       " 'UNVR.JK': 0.04356,\n",
       " 'INCO.JK': 0.13001,\n",
       " 'ADRO.JK': 0.40135,\n",
       " 'PGAS.JK': 0.14547}"
      ]
     },
     "execution_count": 23,
     "metadata": {},
     "output_type": "execute_result"
    }
   ],
   "source": [
    "port_ = dict(zip(stock,np.round(x_,5)))\n",
    "port = dict()\n",
    "for (key,value) in port_.items():\n",
    "    if value >0 : \n",
    "        port[key] = value\n",
    "port"
   ]
  },
  {
   "cell_type": "code",
   "execution_count": 24,
   "metadata": {},
   "outputs": [
    {
     "data": {
      "text/plain": [
       "{'BBNI.JK': 5592200.000000001,\n",
       " 'UNVR.JK': 871200.0,\n",
       " 'INCO.JK': 2600199.9999999995,\n",
       " 'ADRO.JK': 8027000.0,\n",
       " 'PGAS.JK': 2909399.9999999995}"
      ]
     },
     "execution_count": 24,
     "metadata": {},
     "output_type": "execute_result"
    }
   ],
   "source": [
    "start = 2e7 \n",
    "budget_ = dict()\n",
    "for (key,value) in port.items():\n",
    "    if value >0 : \n",
    "        budget_[key] = value*start\n",
    "budget_"
   ]
  },
  {
   "cell_type": "code",
   "execution_count": 25,
   "metadata": {},
   "outputs": [
    {
     "data": {
      "text/html": [
       "<div>\n",
       "<style scoped>\n",
       "    .dataframe tbody tr th:only-of-type {\n",
       "        vertical-align: middle;\n",
       "    }\n",
       "\n",
       "    .dataframe tbody tr th {\n",
       "        vertical-align: top;\n",
       "    }\n",
       "\n",
       "    .dataframe thead th {\n",
       "        text-align: right;\n",
       "    }\n",
       "</style>\n",
       "<table border=\"1\" class=\"dataframe\">\n",
       "  <thead>\n",
       "    <tr style=\"text-align: right;\">\n",
       "      <th></th>\n",
       "      <th>BBNI.JK</th>\n",
       "      <th>UNVR.JK</th>\n",
       "      <th>INCO.JK</th>\n",
       "      <th>ADRO.JK</th>\n",
       "      <th>PGAS.JK</th>\n",
       "    </tr>\n",
       "  </thead>\n",
       "  <tbody>\n",
       "    <tr>\n",
       "      <th>Total Spread</th>\n",
       "      <td>5592200.0</td>\n",
       "      <td>871200.0</td>\n",
       "      <td>2600200.0</td>\n",
       "      <td>8027000.0</td>\n",
       "      <td>2909400.0</td>\n",
       "    </tr>\n",
       "  </tbody>\n",
       "</table>\n",
       "</div>"
      ],
      "text/plain": [
       "                BBNI.JK   UNVR.JK    INCO.JK    ADRO.JK    PGAS.JK\n",
       "Total Spread  5592200.0  871200.0  2600200.0  8027000.0  2909400.0"
      ]
     },
     "execution_count": 25,
     "metadata": {},
     "output_type": "execute_result"
    }
   ],
   "source": [
    "budget = pd.DataFrame.from_dict(data= budget_, orient= 'index').T\n",
    "budget.rename(index={0: 'Total Spread'}, inplace= True)\n",
    "budget"
   ]
  },
  {
   "cell_type": "code",
   "execution_count": 26,
   "metadata": {},
   "outputs": [
    {
     "data": {
      "text/html": [
       "<div>\n",
       "<style scoped>\n",
       "    .dataframe tbody tr th:only-of-type {\n",
       "        vertical-align: middle;\n",
       "    }\n",
       "\n",
       "    .dataframe tbody tr th {\n",
       "        vertical-align: top;\n",
       "    }\n",
       "\n",
       "    .dataframe thead th {\n",
       "        text-align: right;\n",
       "    }\n",
       "</style>\n",
       "<table border=\"1\" class=\"dataframe\">\n",
       "  <thead>\n",
       "    <tr style=\"text-align: right;\">\n",
       "      <th></th>\n",
       "      <th>BBNI.JK</th>\n",
       "      <th>UNVR.JK</th>\n",
       "      <th>INCO.JK</th>\n",
       "      <th>ADRO.JK</th>\n",
       "      <th>PGAS.JK</th>\n",
       "    </tr>\n",
       "    <tr>\n",
       "      <th>Date</th>\n",
       "      <th></th>\n",
       "      <th></th>\n",
       "      <th></th>\n",
       "      <th></th>\n",
       "      <th></th>\n",
       "    </tr>\n",
       "  </thead>\n",
       "  <tbody>\n",
       "    <tr>\n",
       "      <th>Closing 2022-05-17</th>\n",
       "      <td>845000.0</td>\n",
       "      <td>480000.0</td>\n",
       "      <td>727500.0</td>\n",
       "      <td>322000.0</td>\n",
       "      <td>156000.0</td>\n",
       "    </tr>\n",
       "  </tbody>\n",
       "</table>\n",
       "</div>"
      ],
      "text/plain": [
       "                     BBNI.JK   UNVR.JK   INCO.JK   ADRO.JK   PGAS.JK\n",
       "Date                                                                \n",
       "Closing 2022-05-17  845000.0  480000.0  727500.0  322000.0  156000.0"
      ]
     },
     "execution_count": 26,
     "metadata": {},
     "output_type": "execute_result"
    }
   ],
   "source": [
    "expense = pd.DataFrame(columns=port.keys())\n",
    "for item in port.keys(): \n",
    "    temp = yf.Ticker(item).history(period = '1d', interval = '1mo',actions=False)\n",
    "    expense[item] = temp['Close']*100 #1 lot\n",
    "expense.rename(index={expense.index[0]: str('Closing ' + str(expense.index[0]).split(' ')[0])}, inplace= True)\n",
    "expense"
   ]
  },
  {
   "cell_type": "code",
   "execution_count": 27,
   "metadata": {},
   "outputs": [
    {
     "data": {
      "text/html": [
       "<div>\n",
       "<style scoped>\n",
       "    .dataframe tbody tr th:only-of-type {\n",
       "        vertical-align: middle;\n",
       "    }\n",
       "\n",
       "    .dataframe tbody tr th {\n",
       "        vertical-align: top;\n",
       "    }\n",
       "\n",
       "    .dataframe thead th {\n",
       "        text-align: right;\n",
       "    }\n",
       "</style>\n",
       "<table border=\"1\" class=\"dataframe\">\n",
       "  <thead>\n",
       "    <tr style=\"text-align: right;\">\n",
       "      <th></th>\n",
       "      <th>BBNI.JK</th>\n",
       "      <th>UNVR.JK</th>\n",
       "      <th>INCO.JK</th>\n",
       "      <th>ADRO.JK</th>\n",
       "      <th>PGAS.JK</th>\n",
       "    </tr>\n",
       "  </thead>\n",
       "  <tbody>\n",
       "    <tr>\n",
       "      <th>Closing 2022-05-17</th>\n",
       "      <td>845000.0</td>\n",
       "      <td>480000.0</td>\n",
       "      <td>727500.0</td>\n",
       "      <td>322000.0</td>\n",
       "      <td>156000.0</td>\n",
       "    </tr>\n",
       "    <tr>\n",
       "      <th>Total Spread</th>\n",
       "      <td>5592200.0</td>\n",
       "      <td>871200.0</td>\n",
       "      <td>2600200.0</td>\n",
       "      <td>8027000.0</td>\n",
       "      <td>2909400.0</td>\n",
       "    </tr>\n",
       "    <tr>\n",
       "      <th>Total Lot</th>\n",
       "      <td>7.0</td>\n",
       "      <td>2.0</td>\n",
       "      <td>4.0</td>\n",
       "      <td>25.0</td>\n",
       "      <td>19.0</td>\n",
       "    </tr>\n",
       "    <tr>\n",
       "      <th>Total Spending</th>\n",
       "      <td>5915000.0</td>\n",
       "      <td>960000.0</td>\n",
       "      <td>2910000.0</td>\n",
       "      <td>8050000.0</td>\n",
       "      <td>2964000.0</td>\n",
       "    </tr>\n",
       "  </tbody>\n",
       "</table>\n",
       "</div>"
      ],
      "text/plain": [
       "                      BBNI.JK   UNVR.JK    INCO.JK    ADRO.JK    PGAS.JK\n",
       "Closing 2022-05-17   845000.0  480000.0   727500.0   322000.0   156000.0\n",
       "Total Spread        5592200.0  871200.0  2600200.0  8027000.0  2909400.0\n",
       "Total Lot                 7.0       2.0        4.0       25.0       19.0\n",
       "Total Spending      5915000.0  960000.0  2910000.0  8050000.0  2964000.0"
      ]
     },
     "execution_count": 27,
     "metadata": {},
     "output_type": "execute_result"
    }
   ],
   "source": [
    "qty = pd.concat([expense,budget])\n",
    "temp_ = pd.DataFrame(np.round(qty.iloc[1] / qty.iloc[0],0)).T\n",
    "temp_.rename(index={0: 'Total Lot'}, inplace= True)\n",
    "qty = pd.concat([qty, temp_])\n",
    "spend = pd.DataFrame(np.round(qty.iloc[2] * qty.iloc[0],0)).T\n",
    "finale = pd.concat([qty, spend])\n",
    "finale.rename(index={0: 'Total Spending'}, inplace= True)\n",
    "finale"
   ]
  },
  {
   "cell_type": "code",
   "execution_count": 28,
   "metadata": {},
   "outputs": [
    {
     "data": {
      "text/plain": [
       "Closing 2022-05-17     2530500.0\n",
       "Total Spread          20000000.0\n",
       "Total Lot                   57.0\n",
       "Total Spending        20799000.0\n",
       "dtype: float64"
      ]
     },
     "execution_count": 28,
     "metadata": {},
     "output_type": "execute_result"
    }
   ],
   "source": [
    "finale.sum(axis = 1)"
   ]
  },
  {
   "cell_type": "code",
   "execution_count": 29,
   "metadata": {},
   "outputs": [
    {
     "name": "stdout",
     "output_type": "stream",
     "text": [
      "return : 5.999999999643227 %\n",
      "risk : 0.3184243245154742 %\n",
      "Total Money : 20799000.0\n",
      "Total Idle Money : -799000.0\n"
     ]
    }
   ],
   "source": [
    "print(f'return :', x_.dot(mu)*100, '%')\n",
    "print(f'risk :', x_.dot(C).dot(x_)*100, '%')\n",
    "print(f'Total Money :',finale.sum(axis=1)[-1])\n",
    "print(f'Total Idle Money :', start - finale.sum(axis=1)[-1])"
   ]
  },
  {
   "cell_type": "code",
   "execution_count": 30,
   "metadata": {},
   "outputs": [],
   "source": [
    "finale.to_csv(str('IHSG '+finale.index[0].split(' ')[1]+'.csv'))"
   ]
  }
 ],
 "metadata": {
  "interpreter": {
   "hash": "a063a9d6d4095dba70f7d4a438ef288e94ffec589b0525f5b20de998ec61033a"
  },
  "kernelspec": {
   "display_name": "Python 3.8.12 ('base')",
   "language": "python",
   "name": "python3"
  },
  "language_info": {
   "codemirror_mode": {
    "name": "ipython",
    "version": 3
   },
   "file_extension": ".py",
   "mimetype": "text/x-python",
   "name": "python",
   "nbconvert_exporter": "python",
   "pygments_lexer": "ipython3",
   "version": "3.8.12"
  },
  "orig_nbformat": 4
 },
 "nbformat": 4,
 "nbformat_minor": 2
}
