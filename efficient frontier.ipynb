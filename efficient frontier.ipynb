{
 "cells": [
  {
   "cell_type": "markdown",
   "metadata": {},
   "source": [
    "# Packages"
   ]
  },
  {
   "cell_type": "code",
   "execution_count": 1,
   "metadata": {},
   "outputs": [
    {
     "name": "stderr",
     "output_type": "stream",
     "text": [
      "c:\\Users\\leona\\anaconda3\\lib\\site-packages\\numpy\\_distributor_init.py:30: UserWarning: loaded more than 1 DLL from .libs:\n",
      "c:\\Users\\leona\\anaconda3\\lib\\site-packages\\numpy\\.libs\\libopenblas.PYQHXLVVQ7VESDPUVUADXEVJOBGHJPAY.gfortran-win_amd64.dll\n",
      "c:\\Users\\leona\\anaconda3\\lib\\site-packages\\numpy\\.libs\\libopenblas.XWYDX2IKJW2NMTWSFYNGFUWKQU3LYTCZ.gfortran-win_amd64.dll\n",
      "  warnings.warn(\"loaded more than 1 DLL from .libs:\"\n",
      "<frozen importlib._bootstrap>:219: RuntimeWarning: scipy._lib.messagestream.MessageStream size changed, may indicate binary incompatibility. Expected 56 from C header, got 64 from PyObject\n"
     ]
    }
   ],
   "source": [
    "import numpy as np \n",
    "import pandas as pd \n",
    "import matplotlib.pyplot as plt \n",
    "import yfinance as yf\n",
    "import yahoofinancials\n",
    "from scipy.optimize import minimize\n",
    "import seaborn as sn\n",
    "from scipy.stats import anderson,kstest,shapiro, probplot"
   ]
  },
  {
   "cell_type": "markdown",
   "metadata": {},
   "source": [
    "# Masalah.  \n",
    "Misalkan portofolio saham dengan komposisi saham TLKM, BBNI, dan ASII. Akan dicari nilai return dengan variansi minimal dan juga dicari komposisi dari masing-masing saham.  "
   ]
  },
  {
   "cell_type": "code",
   "execution_count": 27,
   "metadata": {},
   "outputs": [],
   "source": [
    "stock = ['TLKM.JK', 'BBNI.JK','ASII.JK', 'ANTM.JK', 'BMRI.JK','BBRI.JK', 'ARTO.JK', 'UNVR.JK', 'AMRT.JK', 'HRUM.JK',\n",
    "        'BBCA.JK', 'INCO.JK', 'ADRO.JK', 'PTBA.JK', 'PGAS.JK']\n",
    "year = 2020\n",
    "ds = str(year-1)+'-12-01'\n",
    "de = str(year+1)+'-12-01'\n",
    "#stock = ['TSLA', 'DIS', 'NKE', 'AAPL']\n",
    "df = pd.DataFrame(columns=stock)\n",
    "for i in stock :\n",
    "    temp = yf.Ticker(i).history(period = '2y', interval = '1mo', start = ds ,end =de ,actions=False)\n",
    "    temp.dropna(inplace = True)\n",
    "    temp['log_return'] = np.log(temp['Close']) - np.log(temp['Close'].shift(1))\n",
    "    temp['log_return'].dropna(inplace = True)\n",
    "    df[i] =temp['log_return'].dropna()"
   ]
  },
  {
   "cell_type": "code",
   "execution_count": 28,
   "metadata": {},
   "outputs": [
    {
     "name": "stdout",
     "output_type": "stream",
     "text": [
      "Vektor return [ 0.00484725 -0.00473005 -0.00554318  0.04154829 -0.00023622 -0.00049224\n",
      "  0.06838278 -0.0270003   0.01483534  0.08602251  0.00535844  0.01085967\n",
      "  0.02113915  0.00801926 -0.01489302] dan \n",
      " matriks kovariansi \n",
      " [[ 6.88134218e-03  7.79445213e-03  1.79327380e-03  5.67719184e-03\n",
      "   3.25041851e-03  4.48056925e-03  9.40317759e-03  1.93030702e-03\n",
      "   1.31290101e-03  3.97378865e-03  2.46557720e-03  4.64097416e-03\n",
      "   3.41946550e-03  4.01681127e-03  1.00995422e-02]\n",
      " [ 7.79445213e-03  2.80913988e-02  1.19123300e-02  1.40391620e-02\n",
      "   1.55540367e-02  1.27134437e-02  4.31316515e-02  1.59360653e-03\n",
      "  -2.74021476e-03 -2.72047124e-03  7.60268189e-03  8.51442658e-03\n",
      "   4.93014356e-03  4.19297068e-03  2.81073788e-02]\n",
      " [ 1.79327380e-03  1.19123300e-02  1.40617287e-02  1.32312619e-02\n",
      "   1.08431789e-02  7.19392323e-03  2.12866457e-02 -2.23535524e-04\n",
      "  -9.93712388e-04  3.61207605e-04  5.92987194e-03  6.69453364e-03\n",
      "   5.32583153e-03  3.02272009e-03  1.61019140e-02]\n",
      " [ 5.67719184e-03  1.40391620e-02  1.32312619e-02  3.50562012e-02\n",
      "   1.01788386e-02  9.76751410e-03  3.59714341e-02  1.91073211e-03\n",
      "   6.33488620e-03  1.31011904e-02  7.64605851e-03  1.93298359e-02\n",
      "   2.39814203e-03  6.77772857e-03  2.35874927e-02]\n",
      " [ 3.25041851e-03  1.55540367e-02  1.08431789e-02  1.01788386e-02\n",
      "   1.29120278e-02  8.59743236e-03  2.90657370e-02 -1.16622056e-04\n",
      "  -2.72010826e-03 -5.11713981e-04  6.22121712e-03  5.43250841e-03\n",
      "   3.20383031e-03  2.34583981e-03  1.71971287e-02]\n",
      " [ 4.48056925e-03  1.27134437e-02  7.19392323e-03  9.76751410e-03\n",
      "   8.59743236e-03  1.07893149e-02  2.04572807e-02  4.09500691e-04\n",
      "  -4.30463997e-04  6.52146606e-03  4.96559931e-03  5.74636856e-03\n",
      "   4.50046368e-03  4.79214141e-03  1.44724070e-02]\n",
      " [ 9.40317759e-03  4.31316515e-02  2.12866457e-02  3.59714341e-02\n",
      "   2.90657370e-02  2.04572807e-02  1.54679655e-01 -2.64931359e-03\n",
      "  -8.37061118e-04  2.07554265e-03  1.14180558e-02  1.77717218e-02\n",
      "   3.19818305e-03  5.22224437e-03  4.41766018e-02]\n",
      " [ 1.93030702e-03  1.59360653e-03 -2.23535524e-04  1.91073211e-03\n",
      "  -1.16622056e-04  4.09500691e-04 -2.64931359e-03  5.44771897e-03\n",
      "  -2.69766195e-03 -4.34062028e-04  2.09129691e-04  2.84909297e-03\n",
      "  -2.38324488e-03 -2.84979156e-04  4.29149241e-03]\n",
      " [ 1.31290101e-03 -2.74021476e-03 -9.93712388e-04  6.33488620e-03\n",
      "  -2.72010826e-03 -4.30463997e-04 -8.37061118e-04 -2.69766195e-03\n",
      "   1.26106304e-02  6.17134944e-03 -7.69858197e-04  4.49769674e-03\n",
      "   3.54066640e-03  8.96490539e-04 -9.30448749e-05]\n",
      " [ 3.97378865e-03 -2.72047124e-03  3.61207605e-04  1.31011904e-02\n",
      "  -5.11713981e-04  6.52146606e-03  2.07554265e-03 -4.34062028e-04\n",
      "   6.17134944e-03  4.53578903e-02  2.13361951e-03  8.56474829e-03\n",
      "   8.11473118e-03  9.42897311e-03  2.70055526e-03]\n",
      " [ 2.46557720e-03  7.60268189e-03  5.92987194e-03  7.64605851e-03\n",
      "   6.22121712e-03  4.96559931e-03  1.14180558e-02  2.09129691e-04\n",
      "  -7.69858197e-04  2.13361951e-03  4.61539895e-03  3.77182934e-03\n",
      "   2.48689102e-03  3.61721397e-03  1.07645740e-02]\n",
      " [ 4.64097416e-03  8.51442658e-03  6.69453364e-03  1.93298359e-02\n",
      "   5.43250841e-03  5.74636856e-03  1.77717218e-02  2.84909297e-03\n",
      "   4.49769674e-03  8.56474829e-03  3.77182934e-03  1.78222934e-02\n",
      "   3.05457995e-03  3.21054056e-03  1.35736256e-02]\n",
      " [ 3.41946550e-03  4.93014356e-03  5.32583153e-03  2.39814203e-03\n",
      "   3.20383031e-03  4.50046368e-03  3.19818305e-03 -2.38324488e-03\n",
      "   3.54066640e-03  8.11473118e-03  2.48689102e-03  3.05457995e-03\n",
      "   1.86161358e-02  1.04112034e-02  8.42099719e-03]\n",
      " [ 4.01681127e-03  4.19297068e-03  3.02272009e-03  6.77772857e-03\n",
      "   2.34583981e-03  4.79214141e-03  5.22224437e-03 -2.84979156e-04\n",
      "   8.96490539e-04  9.42897311e-03  3.61721397e-03  3.21054056e-03\n",
      "   1.04112034e-02  1.17498489e-02  9.86041425e-03]\n",
      " [ 1.00995422e-02  2.81073788e-02  1.61019140e-02  2.35874927e-02\n",
      "   1.71971287e-02  1.44724070e-02  4.41766018e-02  4.29149241e-03\n",
      "  -9.30448749e-05  2.70055526e-03  1.07645740e-02  1.35736256e-02\n",
      "   8.42099719e-03  9.86041425e-03  4.04755174e-02]] \n",
      " dan vektor e [1. 1. 1. 1. 1. 1. 1. 1. 1. 1. 1. 1. 1. 1. 1.]\n"
     ]
    }
   ],
   "source": [
    "mu = df.mean().values\n",
    "C = df.cov().values\n",
    "e = np.ones(len(mu))\n",
    "print(f'Vektor return {mu} dan \\n matriks kovariansi \\n {C} \\n dan vektor e {e}')\n"
   ]
  },
  {
   "cell_type": "code",
   "execution_count": 29,
   "metadata": {},
   "outputs": [],
   "source": [
    "# mu = np.array([1.1, 1.2, 1.3])\n",
    "# C = np.array([[0.01, 0, 0], [0, 0.05, 0], [0, 0, 0.07]])\n",
    "# e = np.ones(len(mu))\n",
    "# print(f'Vektor return {mu} dan \\n matriks kovariansi \\n {C} \\n dan vektor e {e}')\n"
   ]
  },
  {
   "cell_type": "markdown",
   "metadata": {},
   "source": [
    "Dari masalah \n",
    "\\begin{equation}\n",
    "\\min\\left\\{ -t \\mu^T \\mathbf{x} +  \\frac{1}{2}\\mathbf{x}^T C  \\mathbf{x} | \\mathbf{e}^T \\mathbf{x} = 1 \\right\\}\n",
    "\\end{equation}\n",
    "dengan $t$ adalah suatu parameter tak negatif.  \n",
    "dapat diperoleh bahwa persamaan untuk efficient frontiernya adalah : \n",
    "\\begin{equation}\n",
    "\\sigma^2_P - \\beta_0 = \\frac{(\\mu_P - \\alpha_0)^2}{\\alpha_1}\n",
    "\\end{equation}\n",
    "dengan :\n",
    "\\begin{align}\n",
    "\\alpha_0 = \\mu^T h_0 \\\\\n",
    "\\alpha_1 = \\mu^T h_1 \\\\\n",
    "\\beta_0 = h_0^TCh_0\n",
    "\\end{align}\n",
    "dan \n",
    "\\begin{align}\n",
    "h_0 &= \\frac{C^{-1}e}{e^TC^{-1}e} \\\\  \n",
    "h_1 &= C^{-1}\\mu - \\frac{e^TC^{-1}\\mu}{e^TC^{-1}e} C^{-1}e\n",
    "\\end{align}"
   ]
  },
  {
   "cell_type": "code",
   "execution_count": 30,
   "metadata": {},
   "outputs": [
    {
     "name": "stdout",
     "output_type": "stream",
     "text": [
      "Diperoleh \n",
      " h_0 [-0.04275683  0.11859804  0.11305716 -0.08607134  0.08024135 -0.04776456\n",
      "  0.02333895  0.42553097  0.25390124 -0.00090323  0.32299409 -0.03803264\n",
      " -0.04138481  0.16838805 -0.24913645]\n",
      " dan \n",
      " h_1 [  3.10147587   0.26636844  -6.70161175   5.68090202  -3.2408057\n",
      "  -2.8293986    0.76890594  -2.83829387  -3.72817403   1.64496755\n",
      "  15.3681423   -2.86671075   7.87504133 -10.09697757  -2.40383118]\n"
     ]
    }
   ],
   "source": [
    "h_0 = (np.linalg.inv(C).dot(e))/(e.dot(np.linalg.inv(C)).dot(e))\n",
    "h_1 = np.linalg.inv(C).dot(mu) -((e.dot(np.linalg.inv(C)).dot(mu))/(e.dot(np.linalg.inv(C)).dot(e)))*(np.linalg.inv(C).dot(e))\n",
    "print(f'Diperoleh \\n h_0 {h_0}\\n dan \\n h_1 {h_1}')"
   ]
  },
  {
   "cell_type": "code",
   "execution_count": 31,
   "metadata": {},
   "outputs": [
    {
     "name": "stdout",
     "output_type": "stream",
     "text": [
      "Diperoleh \n",
      " alpha_0 : -0.005667327024452495, \n",
      " alpha_1 : 0.6770414807724324, \n",
      " beta_0 : 0.0004002739399246343\n",
      " beta_2 : 0.6770414807724322\n"
     ]
    }
   ],
   "source": [
    "alpha_0 = mu.dot(h_0)\n",
    "alpha_1 = mu.dot(h_1)\n",
    "beta_0 = h_0.dot(C).dot(h_0)\n",
    "beta_2 = h_1.dot(C).dot(h_1)\n",
    "print(f'Diperoleh \\n alpha_0 : {alpha_0}, \\n alpha_1 : {alpha_1}, \\n beta_0 : {beta_0}\\n beta_2 : {beta_2}')"
   ]
  },
  {
   "cell_type": "markdown",
   "metadata": {},
   "source": [
    "Sehingga persamaan Efficient Frontier - nya menjadi :  \n",
    "\\begin{equation}\n",
    "\\sigma^2_P - 0.00875 = \\frac{(\\mu_P - 1.125)^2}{0.035}\n",
    "\\end{equation}"
   ]
  },
  {
   "cell_type": "code",
   "execution_count": 32,
   "metadata": {},
   "outputs": [
    {
     "data": {
      "image/png": "[encoded data removed]",
      "text/plain": [
       "<Figure size 432x288 with 1 Axes>"
      ]
     },
     "metadata": {
      "needs_background": "light"
     },
     "output_type": "display_data"
    },
    {
     "name": "stdout",
     "output_type": "stream",
     "text": [
      "Nilai return dari variansi yang minimum adalah : -0.005667327024452495\n",
      "Dengan masing-masing proporsi saham ['TLKM.JK', 'BBNI.JK', 'ASII.JK', 'ANTM.JK', 'BMRI.JK', 'BBRI.JK', 'ARTO.JK', 'UNVR.JK', 'AMRT.JK', 'HRUM.JK', 'BBCA.JK', 'INCO.JK', 'ADRO.JK', 'PTBA.JK', 'PGAS.JK'] adalah sebagai berikut : {h_0}\n"
     ]
    }
   ],
   "source": [
    "t = np.linspace(0,0.5, 1000)\n",
    "sigma_P = beta_0 + t**2 *beta_2\n",
    "mu_p = alpha_0 + t*alpha_1\n",
    "mu_p_bawah = alpha_0 - t*alpha_1\n",
    "plt.plot(sigma_P, mu_p)\n",
    "plt.plot(sigma_P, mu_p_bawah, '--')\n",
    "plt.xlabel('sigma^2_P')\n",
    "plt.ylabel('mu_P')\n",
    "plt.grid(True)\n",
    "plt.title('Kurva Efficient Frontier')\n",
    "plt.show()\n",
    "print(f'Nilai return dari variansi yang minimum adalah : {np.min(mu_p)}')\n",
    "print(f'Dengan masing-masing proporsi saham',stock ,'adalah sebagai berikut : {h_0}')"
   ]
  },
  {
   "cell_type": "markdown",
   "metadata": {},
   "source": [
    "Misalkan ditambahkan sebuah asset \\textit{risk-free} dengan \\textit{rate of return} $r = 1.02$. Maka diperoleh capital market linenya sebagai berikut : "
   ]
  },
  {
   "cell_type": "code",
   "execution_count": 49,
   "metadata": {},
   "outputs": [],
   "source": [
    "def objective(weights): \n",
    "    weights = np.array(weights)\n",
    "    return weights.dot(C).dot(weights.T)\n",
    "# The constraints\n",
    "cons = (# The weights must sum up to one.\n",
    "        {\"type\":\"eq\", \"fun\": lambda x: np.sum(x)-1}, \n",
    "        # This constraints says that the inequalities (ineq) must be non-negative.# The expected daily return of our portfolio and we want to be at greater than 0.002352\n",
    "        {\"type\": \"ineq\", \"fun\": lambda x: np.sum(mu*x)-0.06}\n",
    "\n",
    "        )\n",
    "# Every stock can get any weight from 0 to 1\n",
    "bounds = tuple((0,1) for x in range(mu.shape[0]))\n",
    "# Initialize the weights with an even split\n",
    "# In out case each stock will have 10% at the beginning\n",
    "guess = [1./mu.shape[0] for x in range(mu.shape[0])]\n",
    "optimized_results = minimize(objective, guess, method = \"SLSQP\", bounds=bounds, constraints=cons)\n",
    "x_ = optimized_results.x"
   ]
  },
  {
   "cell_type": "code",
   "execution_count": 50,
   "metadata": {},
   "outputs": [
    {
     "data": {
      "text/plain": [
       "1.0"
      ]
     },
     "execution_count": 50,
     "metadata": {},
     "output_type": "execute_result"
    }
   ],
   "source": [
    "np.sum(np.round(x_,5))"
   ]
  },
  {
   "cell_type": "code",
   "execution_count": 51,
   "metadata": {},
   "outputs": [
    {
     "data": {
      "text/plain": [
       "{'ANTM.JK': 0.01714,\n",
       " 'ARTO.JK': 0.12303,\n",
       " 'AMRT.JK': 0.17618,\n",
       " 'HRUM.JK': 0.52951,\n",
       " 'BBCA.JK': 0.03466,\n",
       " 'ADRO.JK': 0.11948}"
      ]
     },
     "execution_count": 51,
     "metadata": {},
     "output_type": "execute_result"
    }
   ],
   "source": [
    "port_ = dict(zip(stock,np.round(x_,5)))\n",
    "port = dict()\n",
    "for (key,value) in port_.items():\n",
    "    if value >0 : \n",
    "        port[key] = value\n",
    "port"
   ]
  },
  {
   "cell_type": "code",
   "execution_count": 52,
   "metadata": {},
   "outputs": [
    {
     "data": {
      "text/plain": [
       "{'ANTM.JK': 171400.0,\n",
       " 'ARTO.JK': 1230300.0,\n",
       " 'AMRT.JK': 1761800.0,\n",
       " 'HRUM.JK': 5295100.0,\n",
       " 'BBCA.JK': 346600.00000000006,\n",
       " 'ADRO.JK': 1194800.0}"
      ]
     },
     "execution_count": 52,
     "metadata": {},
     "output_type": "execute_result"
    }
   ],
   "source": [
    "start = 1e7 \n",
    "budget_ = dict()\n",
    "for (key,value) in port.items():\n",
    "    if value >0 : \n",
    "        budget_[key] = value*start\n",
    "budget_"
   ]
  },
  {
   "cell_type": "code",
   "execution_count": 53,
   "metadata": {},
   "outputs": [
    {
     "data": {
      "text/html": [
       "<div>\n",
       "<style scoped>\n",
       "    .dataframe tbody tr th:only-of-type {\n",
       "        vertical-align: middle;\n",
       "    }\n",
       "\n",
       "    .dataframe tbody tr th {\n",
       "        vertical-align: top;\n",
       "    }\n",
       "\n",
       "    .dataframe thead th {\n",
       "        text-align: right;\n",
       "    }\n",
       "</style>\n",
       "<table border=\"1\" class=\"dataframe\">\n",
       "  <thead>\n",
       "    <tr style=\"text-align: right;\">\n",
       "      <th></th>\n",
       "      <th>ANTM.JK</th>\n",
       "      <th>ARTO.JK</th>\n",
       "      <th>AMRT.JK</th>\n",
       "      <th>HRUM.JK</th>\n",
       "      <th>BBCA.JK</th>\n",
       "      <th>ADRO.JK</th>\n",
       "    </tr>\n",
       "  </thead>\n",
       "  <tbody>\n",
       "    <tr>\n",
       "      <th>Total Spread</th>\n",
       "      <td>171400.0</td>\n",
       "      <td>1230300.0</td>\n",
       "      <td>1761800.0</td>\n",
       "      <td>5295100.0</td>\n",
       "      <td>346600.0</td>\n",
       "      <td>1194800.0</td>\n",
       "    </tr>\n",
       "  </tbody>\n",
       "</table>\n",
       "</div>"
      ],
      "text/plain": [
       "               ANTM.JK    ARTO.JK    AMRT.JK    HRUM.JK   BBCA.JK    ADRO.JK\n",
       "Total Spread  171400.0  1230300.0  1761800.0  5295100.0  346600.0  1194800.0"
      ]
     },
     "execution_count": 53,
     "metadata": {},
     "output_type": "execute_result"
    }
   ],
   "source": [
    "budget = pd.DataFrame.from_dict(data= budget_, orient= 'index').T\n",
    "budget.rename(index={0: 'Total Spread'}, inplace= True)\n",
    "budget"
   ]
  },
  {
   "cell_type": "code",
   "execution_count": 54,
   "metadata": {},
   "outputs": [
    {
     "data": {
      "text/html": [
       "<div>\n",
       "<style scoped>\n",
       "    .dataframe tbody tr th:only-of-type {\n",
       "        vertical-align: middle;\n",
       "    }\n",
       "\n",
       "    .dataframe tbody tr th {\n",
       "        vertical-align: top;\n",
       "    }\n",
       "\n",
       "    .dataframe thead th {\n",
       "        text-align: right;\n",
       "    }\n",
       "</style>\n",
       "<table border=\"1\" class=\"dataframe\">\n",
       "  <thead>\n",
       "    <tr style=\"text-align: right;\">\n",
       "      <th></th>\n",
       "      <th>ANTM.JK</th>\n",
       "      <th>ARTO.JK</th>\n",
       "      <th>AMRT.JK</th>\n",
       "      <th>HRUM.JK</th>\n",
       "      <th>BBCA.JK</th>\n",
       "      <th>ADRO.JK</th>\n",
       "    </tr>\n",
       "    <tr>\n",
       "      <th>Date</th>\n",
       "      <th></th>\n",
       "      <th></th>\n",
       "      <th></th>\n",
       "      <th></th>\n",
       "      <th></th>\n",
       "      <th></th>\n",
       "    </tr>\n",
       "  </thead>\n",
       "  <tbody>\n",
       "    <tr>\n",
       "      <th>Closing 2022-07-06</th>\n",
       "      <td>172500.0</td>\n",
       "      <td>747500.0</td>\n",
       "      <td>198500.0</td>\n",
       "      <td>147000.0</td>\n",
       "      <td>722500.0</td>\n",
       "      <td>277000.0</td>\n",
       "    </tr>\n",
       "  </tbody>\n",
       "</table>\n",
       "</div>"
      ],
      "text/plain": [
       "                     ANTM.JK   ARTO.JK   AMRT.JK   HRUM.JK   BBCA.JK   ADRO.JK\n",
       "Date                                                                          \n",
       "Closing 2022-07-06  172500.0  747500.0  198500.0  147000.0  722500.0  277000.0"
      ]
     },
     "execution_count": 54,
     "metadata": {},
     "output_type": "execute_result"
    }
   ],
   "source": [
    "expense = pd.DataFrame(columns=port.keys())\n",
    "for item in port.keys(): \n",
    "    temp = yf.Ticker(item).history(period = '1d', interval = '1mo',actions=False)\n",
    "    expense[item] = temp['Close']*100 #1 lot\n",
    "expense.rename(index={expense.index[0]: str('Closing ' + str(expense.index[0]).split(' ')[0])}, inplace= True)\n",
    "expense"
   ]
  },
  {
   "cell_type": "code",
   "execution_count": 55,
   "metadata": {},
   "outputs": [
    {
     "data": {
      "text/html": [
       "<div>\n",
       "<style scoped>\n",
       "    .dataframe tbody tr th:only-of-type {\n",
       "        vertical-align: middle;\n",
       "    }\n",
       "\n",
       "    .dataframe tbody tr th {\n",
       "        vertical-align: top;\n",
       "    }\n",
       "\n",
       "    .dataframe thead th {\n",
       "        text-align: right;\n",
       "    }\n",
       "</style>\n",
       "<table border=\"1\" class=\"dataframe\">\n",
       "  <thead>\n",
       "    <tr style=\"text-align: right;\">\n",
       "      <th></th>\n",
       "      <th>ANTM.JK</th>\n",
       "      <th>ARTO.JK</th>\n",
       "      <th>AMRT.JK</th>\n",
       "      <th>HRUM.JK</th>\n",
       "      <th>BBCA.JK</th>\n",
       "      <th>ADRO.JK</th>\n",
       "    </tr>\n",
       "  </thead>\n",
       "  <tbody>\n",
       "    <tr>\n",
       "      <th>Closing 2022-07-06</th>\n",
       "      <td>172500.0</td>\n",
       "      <td>747500.0</td>\n",
       "      <td>198500.0</td>\n",
       "      <td>147000.0</td>\n",
       "      <td>722500.0</td>\n",
       "      <td>277000.0</td>\n",
       "    </tr>\n",
       "    <tr>\n",
       "      <th>Total Spread</th>\n",
       "      <td>171400.0</td>\n",
       "      <td>1230300.0</td>\n",
       "      <td>1761800.0</td>\n",
       "      <td>5295100.0</td>\n",
       "      <td>346600.0</td>\n",
       "      <td>1194800.0</td>\n",
       "    </tr>\n",
       "    <tr>\n",
       "      <th>Total Lot</th>\n",
       "      <td>1.0</td>\n",
       "      <td>2.0</td>\n",
       "      <td>9.0</td>\n",
       "      <td>36.0</td>\n",
       "      <td>0.0</td>\n",
       "      <td>4.0</td>\n",
       "    </tr>\n",
       "    <tr>\n",
       "      <th>Total Spending</th>\n",
       "      <td>172500.0</td>\n",
       "      <td>1495000.0</td>\n",
       "      <td>1786500.0</td>\n",
       "      <td>5292000.0</td>\n",
       "      <td>0.0</td>\n",
       "      <td>1108000.0</td>\n",
       "    </tr>\n",
       "  </tbody>\n",
       "</table>\n",
       "</div>"
      ],
      "text/plain": [
       "                     ANTM.JK    ARTO.JK    AMRT.JK    HRUM.JK   BBCA.JK  \\\n",
       "Closing 2022-07-06  172500.0   747500.0   198500.0   147000.0  722500.0   \n",
       "Total Spread        171400.0  1230300.0  1761800.0  5295100.0  346600.0   \n",
       "Total Lot                1.0        2.0        9.0       36.0       0.0   \n",
       "Total Spending      172500.0  1495000.0  1786500.0  5292000.0       0.0   \n",
       "\n",
       "                      ADRO.JK  \n",
       "Closing 2022-07-06   277000.0  \n",
       "Total Spread        1194800.0  \n",
       "Total Lot                 4.0  \n",
       "Total Spending      1108000.0  "
      ]
     },
     "execution_count": 55,
     "metadata": {},
     "output_type": "execute_result"
    }
   ],
   "source": [
    "qty = pd.concat([expense,budget])\n",
    "temp_ = pd.DataFrame(np.round(qty.iloc[1] / qty.iloc[0],0)).T\n",
    "temp_.rename(index={0: 'Total Lot'}, inplace= True)\n",
    "qty = pd.concat([qty, temp_])\n",
    "spend = pd.DataFrame(np.round(qty.iloc[2] * qty.iloc[0],0)).T\n",
    "finale = pd.concat([qty, spend])\n",
    "finale.rename(index={0: 'Total Spending'}, inplace= True)\n",
    "finale"
   ]
  },
  {
   "cell_type": "code",
   "execution_count": 56,
   "metadata": {},
   "outputs": [
    {
     "data": {
      "text/plain": [
       "Closing 2022-07-06     2265000.0\n",
       "Total Spread          10000000.0\n",
       "Total Lot                   52.0\n",
       "Total Spending         9854000.0\n",
       "dtype: float64"
      ]
     },
     "execution_count": 56,
     "metadata": {},
     "output_type": "execute_result"
    }
   ],
   "source": [
    "finale.sum(axis = 1)"
   ]
  },
  {
   "cell_type": "code",
   "execution_count": 57,
   "metadata": {},
   "outputs": [
    {
     "name": "stdout",
     "output_type": "stream",
     "text": [
      "return : 5.999999999972333 %\n",
      "risk : 1.9020702709089499 %\n",
      "Total Money : 9854000.0\n",
      "Total Idle Money : 146000.0\n"
     ]
    }
   ],
   "source": [
    "print(f'return :', x_.dot(mu)*100, '%')\n",
    "print(f'risk :', x_.dot(C).dot(x_)*100, '%')\n",
    "print(f'Total Money :',finale.sum(axis=1)[-1])\n",
    "print(f'Total Idle Money :', start - finale.sum(axis=1)[-1])"
   ]
  },
  {
   "cell_type": "code",
   "execution_count": 58,
   "metadata": {},
   "outputs": [],
   "source": [
    "finale.to_csv(str('IHSG '+finale.index[0].split(' ')[1]+'.csv'))"
   ]
  }
 ],
 "metadata": {
  "interpreter": {
   "hash": "a063a9d6d4095dba70f7d4a438ef288e94ffec589b0525f5b20de998ec61033a"
  },
  "kernelspec": {
   "display_name": "Python 3.8.12 ('base')",
   "language": "python",
   "name": "python3"
  },
  "language_info": {
   "codemirror_mode": {
    "name": "ipython",
    "version": 3
   },
   "file_extension": ".py",
   "mimetype": "text/x-python",
   "name": "python",
   "nbconvert_exporter": "python",
   "pygments_lexer": "ipython3",
   "version": "3.8.12"
  },
  "orig_nbformat": 4
 },
 "nbformat": 4,
 "nbformat_minor": 2
}
