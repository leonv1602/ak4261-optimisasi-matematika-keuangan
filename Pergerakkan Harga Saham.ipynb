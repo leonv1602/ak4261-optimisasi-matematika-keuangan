{
 "cells": [
  {
   "cell_type": "code",
   "execution_count": null,
   "id": "b3204c76",
   "metadata": {
    "ExecuteTime": {
     "start_time": "2021-12-31T14:07:23.168Z"
    }
   },
   "outputs": [],
   "source": [
    "!pip install manimlib"
   ]
  },
  {
   "cell_type": "code",
   "execution_count": null,
   "id": "94d13f87",
   "metadata": {
    "ExecuteTime": {
     "start_time": "2021-12-31T14:07:25.803Z"
    }
   },
   "outputs": [],
   "source": [
    "from manimlib import *\n",
    "\n",
    "class SquareToCircle(Scene):\n",
    "    def construct(self):\n",
    "        circle = Circle()\n",
    "        circle.set_fill(BLUE, opacity=0.5)\n",
    "        circle.set_stroke(BLUE_E, width=4)\n",
    "\n",
    "        self.add(circle)"
   ]
  },
  {
   "cell_type": "code",
   "execution_count": null,
   "id": "f00d92e2",
   "metadata": {},
   "outputs": [],
   "source": []
  }
 ],
 "metadata": {
  "kernelspec": {
   "display_name": "Python 3 (ipykernel)",
   "language": "python",
   "name": "python3"
  },
  "language_info": {
   "codemirror_mode": {
    "name": "ipython",
    "version": 3
   },
   "file_extension": ".py",
   "mimetype": "text/x-python",
   "name": "python",
   "nbconvert_exporter": "python",
   "pygments_lexer": "ipython3",
   "version": "3.8.12"
  },
  "latex_envs": {
   "LaTeX_envs_menu_present": true,
   "autoclose": false,
   "autocomplete": true,
   "bibliofile": "biblio.bib",
   "cite_by": "apalike",
   "current_citInitial": 1,
   "eqLabelWithNumbers": true,
   "eqNumInitial": 1,
   "hotkeys": {
    "equation": "Ctrl-E",
    "itemize": "Ctrl-I"
   },
   "labels_anchors": false,
   "latex_user_defs": false,
   "report_style_numbering": false,
   "user_envs_cfg": false
  },
  "toc": {
   "base_numbering": 1,
   "nav_menu": {},
   "number_sections": true,
   "sideBar": true,
   "skip_h1_title": false,
   "title_cell": "Table of Contents",
   "title_sidebar": "Contents",
   "toc_cell": false,
   "toc_position": {},
   "toc_section_display": true,
   "toc_window_display": false
  },
  "varInspector": {
   "cols": {
    "lenName": 16,
    "lenType": 16,
    "lenVar": 40
   },
   "kernels_config": {
    "python": {
     "delete_cmd_postfix": "",
     "delete_cmd_prefix": "del ",
     "library": "var_list.py",
     "varRefreshCmd": "print(var_dic_list())"
    },
    "r": {
     "delete_cmd_postfix": ") ",
     "delete_cmd_prefix": "rm(",
     "library": "var_list.r",
     "varRefreshCmd": "cat(var_dic_list()) "
    }
   },
   "types_to_exclude": [
    "module",
    "function",
    "builtin_function_or_method",
    "instance",
    "_Feature"
   ],
   "window_display": false
  }
 },
 "nbformat": 4,
 "nbformat_minor": 5
}
