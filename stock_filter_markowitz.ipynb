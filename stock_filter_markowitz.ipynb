{
 "cells": [
  {
   "cell_type": "code",
   "execution_count": 1,
   "metadata": {},
   "outputs": [],
   "source": [
    "import numpy as np \n",
    "import pandas as pd \n",
    "import yfinance as yf\n",
    "import matplotlib.pyplot as plt\n",
    "from scipy.optimize import minimize\n",
    "import seaborn as sn"
   ]
  },
  {
   "cell_type": "code",
   "execution_count": 2,
   "metadata": {},
   "outputs": [],
   "source": [
    "idx = pd.read_csv('Excel/profiles.csv')\n",
    "idx = idx[~idx.NPWP.isna()]\n",
    "idx = idx[~idx.NPKP.isna()]\n",
    "idx = idx[~idx.Website.isna()]\n",
    "\n",
    "idx['length'] = idx['ticker'].str.len()\n",
    "idx = idx[idx['length'] <6].reset_index(drop = True)\n",
    "dummy = ['JK']*len(idx)\n",
    "stock_idx = list(idx['ticker'].str.cat(dummy, sep = '.'))"
   ]
  },
  {
   "cell_type": "code",
   "execution_count": 3,
   "metadata": {},
   "outputs": [],
   "source": [
    "# data = yf.Tickers(stock_idx)\n",
    "# stock = []\n",
    "# remove = []\n",
    "# count = 0\n",
    "# for i in stock_idx: \n",
    "#     count += 1\n",
    "#     print(f'Progress : {count}/{len(stock_idx)}')\n",
    "#     try :\n",
    "#         if (data.tickers[i].info['priceToBook'] <= 2) & (data.tickers[i].info['returnOnEquity'] > 0.15):\n",
    "#             stock.append(i)\n",
    "#     except:\n",
    "#         remove.append(i)"
   ]
  },
  {
   "cell_type": "code",
   "execution_count": 4,
   "metadata": {},
   "outputs": [],
   "source": [
    "# df = pd.DataFrame(columns=stock)\n",
    "# try :\n",
    "#        df.drop(['ARMY.JK','APLN.JK', 'ARTI.JK','BUVA.JK', 'CINT.JK', 'CPRI.JK', 'DPUM.JK', 'ENVY.JK', 'FORZ.JK',\n",
    "#               'HOME.JK', 'IBFN.JK', 'JSPT.JK','KPAS.JK', 'LCGP.JK', 'MAGP.JK', 'MIRA.JK', 'RMBA.JK', 'SMRU.JK',], axis = 1, inplace = True)\n",
    "# except: \n",
    "#        pass\n",
    "# df"
   ]
  },
  {
   "cell_type": "code",
   "execution_count": 5,
   "metadata": {},
   "outputs": [],
   "source": [
    "# stock = ['ADMF.JK',\n",
    "#  'AKPI.JK',\n",
    "#  'ALDO.JK',\n",
    "#  'AMFG.JK',\n",
    "#  'ASII.JK',\n",
    "#  'BBCA.JK',\n",
    "#  'BISI.JK',\n",
    "#  'BJBR.JK',\n",
    "#  'CEKA.JK',\n",
    "#  'DIVA.JK',\n",
    "#  'EMDE.JK',\n",
    "#  'ERAA.JK',\n",
    "#  'FAPA.JK',\n",
    "#  'GOOD.JK',\n",
    "#  'HRTA.JK',\n",
    "#  'IGAR.JK',\n",
    "#  'LTLS.JK',\n",
    "#  'MDLN.JK',\n",
    "#  'MFIN.JK',\n",
    "#  'MLIA.JK',\n",
    "#  'MNCN.JK',\n",
    "#  'NICK.JK',\n",
    "#  'PALM.JK',\n",
    "#  'PANS.JK',\n",
    "#  'PBID.JK',\n",
    "#  'PBSA.JK',\n",
    "#  'PNGO.JK',\n",
    "#  'PPGL.JK',\n",
    "#  'PTPW.JK',\n",
    "#  'SCMA.JK',\n",
    "#  'SGRO.JK',\n",
    "#  'SMAR.JK',\n",
    "#  'SMKL.JK',\n",
    "#  'SOSS.JK',\n",
    "#  'SPMA.JK',\n",
    "#  'SRTG.JK',\n",
    "#  'TEBE.JK',\n",
    "#  'TINS.JK',\n",
    "#  'TRJA.JK',\n",
    "#  'TURI.JK',\n",
    "#  'UNTR.JK',\n",
    "#  'WMUU.JK',\n",
    "#  'WOOD.JK']"
   ]
  },
  {
   "cell_type": "code",
   "execution_count": 18,
   "metadata": {},
   "outputs": [
    {
     "data": {
      "text/plain": [
       "{'CLPI.JK', 'IPCM.JK', 'NRCA.JK', 'TSPC.JK', 'ULTJ.JK'}"
      ]
     },
     "execution_count": 18,
     "metadata": {},
     "output_type": "execute_result"
    }
   ],
   "source": [
    "year = 2022\n",
    "stock = stock_idx\n",
    "df = pd.DataFrame(columns=stock)\n",
    "ds = str(year-1)+'-12-01'\n",
    "for i in stock :\n",
    "    temp = yf.Ticker(i).history(period = '1y', start = ds, interval = '1mo',actions=False).dropna()[['Close']][:-1]\n",
    "    log_return = np.log(temp['Close']/temp['Close'].shift(1)).dropna()\n",
    "    df[i] = log_return\n",
    "curr_ = df.describe().T\n",
    "curr_['count-0'] = df[df ==0].sum()\n",
    "curr_ = curr_[curr_['mean']>0]\n",
    "curr_ = curr_[curr_['count-0'] == 0]\n",
    "curr_ = curr_[curr_['50%'] > 0]\n",
    "curr_ = curr_[curr_['min'] > -0.1]\n",
    "curr_stock = set(curr_.index)\n",
    "curr_stock"
   ]
  },
  {
   "cell_type": "code",
   "execution_count": 19,
   "metadata": {},
   "outputs": [],
   "source": [
    "stock = curr_stock\n",
    "year = 2023\n",
    "ds = str(year-2)+'-12-01'\n",
    "de = str(year+1)+'-12-01'\n",
    "df = pd.DataFrame(columns=list(stock))\n",
    "for i in stock :\n",
    "    temp = yf.Ticker(i).history(start = ds ,end =de ,interval = '1mo',actions=False).dropna()[['Close']]\n",
    "    log_return = np.log(temp['Close']/temp['Close'].shift(1)).dropna()\n",
    "    df[i] = log_return\n",
    "df.dropna(axis = 1, inplace = True)"
   ]
  },
  {
   "cell_type": "code",
   "execution_count": 20,
   "metadata": {},
   "outputs": [
    {
     "data": {
      "text/html": [
       "<div>\n",
       "<style scoped>\n",
       "    .dataframe tbody tr th:only-of-type {\n",
       "        vertical-align: middle;\n",
       "    }\n",
       "\n",
       "    .dataframe tbody tr th {\n",
       "        vertical-align: top;\n",
       "    }\n",
       "\n",
       "    .dataframe thead th {\n",
       "        text-align: right;\n",
       "    }\n",
       "</style>\n",
       "<table border=\"1\" class=\"dataframe\">\n",
       "  <thead>\n",
       "    <tr style=\"text-align: right;\">\n",
       "      <th></th>\n",
       "      <th>count</th>\n",
       "      <th>mean</th>\n",
       "      <th>std</th>\n",
       "      <th>min</th>\n",
       "      <th>25%</th>\n",
       "      <th>50%</th>\n",
       "      <th>75%</th>\n",
       "      <th>max</th>\n",
       "      <th>count-0</th>\n",
       "    </tr>\n",
       "  </thead>\n",
       "  <tbody>\n",
       "    <tr>\n",
       "      <th>NRCA.JK</th>\n",
       "      <td>31.0</td>\n",
       "      <td>0.013660</td>\n",
       "      <td>0.065175</td>\n",
       "      <td>-0.089612</td>\n",
       "      <td>-0.022658</td>\n",
       "      <td>0.007326</td>\n",
       "      <td>0.036419</td>\n",
       "      <td>0.202909</td>\n",
       "      <td>0.0</td>\n",
       "    </tr>\n",
       "    <tr>\n",
       "      <th>ULTJ.JK</th>\n",
       "      <td>31.0</td>\n",
       "      <td>0.007306</td>\n",
       "      <td>0.066727</td>\n",
       "      <td>-0.089268</td>\n",
       "      <td>-0.041316</td>\n",
       "      <td>0.006896</td>\n",
       "      <td>0.032881</td>\n",
       "      <td>0.216135</td>\n",
       "      <td>0.0</td>\n",
       "    </tr>\n",
       "    <tr>\n",
       "      <th>TSPC.JK</th>\n",
       "      <td>31.0</td>\n",
       "      <td>0.016030</td>\n",
       "      <td>0.045045</td>\n",
       "      <td>-0.080503</td>\n",
       "      <td>-0.007299</td>\n",
       "      <td>0.005540</td>\n",
       "      <td>0.031990</td>\n",
       "      <td>0.120504</td>\n",
       "      <td>0.0</td>\n",
       "    </tr>\n",
       "    <tr>\n",
       "      <th>IPCM.JK</th>\n",
       "      <td>31.0</td>\n",
       "      <td>0.004085</td>\n",
       "      <td>0.046787</td>\n",
       "      <td>-0.087598</td>\n",
       "      <td>-0.017954</td>\n",
       "      <td>0.006000</td>\n",
       "      <td>0.024625</td>\n",
       "      <td>0.135341</td>\n",
       "      <td>0.0</td>\n",
       "    </tr>\n",
       "  </tbody>\n",
       "</table>\n",
       "</div>"
      ],
      "text/plain": [
       "         count      mean       std       min       25%       50%       75%  \\\n",
       "NRCA.JK   31.0  0.013660  0.065175 -0.089612 -0.022658  0.007326  0.036419   \n",
       "ULTJ.JK   31.0  0.007306  0.066727 -0.089268 -0.041316  0.006896  0.032881   \n",
       "TSPC.JK   31.0  0.016030  0.045045 -0.080503 -0.007299  0.005540  0.031990   \n",
       "IPCM.JK   31.0  0.004085  0.046787 -0.087598 -0.017954  0.006000  0.024625   \n",
       "\n",
       "              max  count-0  \n",
       "NRCA.JK  0.202909      0.0  \n",
       "ULTJ.JK  0.216135      0.0  \n",
       "TSPC.JK  0.120504      0.0  \n",
       "IPCM.JK  0.135341      0.0  "
      ]
     },
     "execution_count": 20,
     "metadata": {},
     "output_type": "execute_result"
    }
   ],
   "source": [
    "temp_ = df.describe().T\n",
    "temp_['count-0'] = df[df ==0].sum()\n",
    "temp_ = temp_[temp_['mean']>0]\n",
    "temp_ = temp_[temp_['50%'] > 0]\n",
    "temp_ = temp_[temp_['min'] > -0.1]\n",
    "temp_"
   ]
  },
  {
   "cell_type": "code",
   "execution_count": 21,
   "metadata": {},
   "outputs": [],
   "source": [
    "# try :\n",
    "#     df.drop(['TURI.JK'], axis = 1, inplace = True)\n",
    "# except:\n",
    "#     pass"
   ]
  },
  {
   "cell_type": "code",
   "execution_count": 22,
   "metadata": {},
   "outputs": [],
   "source": [
    "mu = df.mean().values\n",
    "C = df.cov().values\n",
    "\n",
    "def objective(weights): \n",
    "    weights = np.array(weights)\n",
    "    return weights.dot(C).dot(weights.T)\n",
    "\n",
    "# The constraints\n",
    "cons = (\n",
    "    {\"type\":\"eq\", \"fun\": lambda x: np.sum(x)-1}, \n",
    "    #{\"type\": \"ineq\", \"fun\": lambda x: np.sum(mu*x)-0.03}\n",
    "        )\n",
    "\n",
    "bounds = tuple((0,1) for x in range(mu.shape[0]))\n",
    "guess = [1./mu.shape[0] for x in range(mu.shape[0])]\n",
    "optimized_results = minimize(objective, guess, method = \"SLSQP\", bounds=bounds, constraints=cons)\n",
    "x_ = np.round(optimized_results.x,4)"
   ]
  },
  {
   "cell_type": "code",
   "execution_count": 23,
   "metadata": {},
   "outputs": [
    {
     "data": {
      "text/html": [
       "<div>\n",
       "<style scoped>\n",
       "    .dataframe tbody tr th:only-of-type {\n",
       "        vertical-align: middle;\n",
       "    }\n",
       "\n",
       "    .dataframe tbody tr th {\n",
       "        vertical-align: top;\n",
       "    }\n",
       "\n",
       "    .dataframe thead th {\n",
       "        text-align: right;\n",
       "    }\n",
       "</style>\n",
       "<table border=\"1\" class=\"dataframe\">\n",
       "  <thead>\n",
       "    <tr style=\"text-align: right;\">\n",
       "      <th></th>\n",
       "      <th>NRCA.JK</th>\n",
       "      <th>ULTJ.JK</th>\n",
       "      <th>CLPI.JK</th>\n",
       "      <th>TSPC.JK</th>\n",
       "      <th>IPCM.JK</th>\n",
       "    </tr>\n",
       "  </thead>\n",
       "  <tbody>\n",
       "    <tr>\n",
       "      <th>Percentage</th>\n",
       "      <td>0.1395</td>\n",
       "      <td>0.0525</td>\n",
       "      <td>0.313</td>\n",
       "      <td>0.2262</td>\n",
       "      <td>0.2688</td>\n",
       "    </tr>\n",
       "  </tbody>\n",
       "</table>\n",
       "</div>"
      ],
      "text/plain": [
       "            NRCA.JK  ULTJ.JK  CLPI.JK  TSPC.JK  IPCM.JK\n",
       "Percentage   0.1395   0.0525    0.313   0.2262   0.2688"
      ]
     },
     "execution_count": 23,
     "metadata": {},
     "output_type": "execute_result"
    }
   ],
   "source": [
    "port_ = dict(zip(df.columns,np.round(x_,5)))\n",
    "port = dict()\n",
    "for (key,value) in port_.items():\n",
    "    if value >0 : \n",
    "        port[key] = value\n",
    "port_df = pd.DataFrame(port_, index = ['Percentage'])\n",
    "port_df"
   ]
  },
  {
   "cell_type": "code",
   "execution_count": 29,
   "metadata": {},
   "outputs": [
    {
     "data": {
      "text/plain": [
       "{'NRCA.JK': 418500.00000000006,\n",
       " 'ULTJ.JK': 157500.0,\n",
       " 'CLPI.JK': 939000.0,\n",
       " 'TSPC.JK': 678600.0,\n",
       " 'IPCM.JK': 806400.0}"
      ]
     },
     "execution_count": 29,
     "metadata": {},
     "output_type": "execute_result"
    }
   ],
   "source": [
    "start = 3e6 \n",
    "budget_ = dict()\n",
    "for (key,value) in port.items():\n",
    "    if value >0 : \n",
    "        budget_[key] = value*start\n",
    "budget_"
   ]
  },
  {
   "cell_type": "code",
   "execution_count": 30,
   "metadata": {},
   "outputs": [
    {
     "data": {
      "text/html": [
       "<div>\n",
       "<style scoped>\n",
       "    .dataframe tbody tr th:only-of-type {\n",
       "        vertical-align: middle;\n",
       "    }\n",
       "\n",
       "    .dataframe tbody tr th {\n",
       "        vertical-align: top;\n",
       "    }\n",
       "\n",
       "    .dataframe thead th {\n",
       "        text-align: right;\n",
       "    }\n",
       "</style>\n",
       "<table border=\"1\" class=\"dataframe\">\n",
       "  <thead>\n",
       "    <tr style=\"text-align: right;\">\n",
       "      <th></th>\n",
       "      <th>NRCA.JK</th>\n",
       "      <th>ULTJ.JK</th>\n",
       "      <th>CLPI.JK</th>\n",
       "      <th>TSPC.JK</th>\n",
       "      <th>IPCM.JK</th>\n",
       "    </tr>\n",
       "  </thead>\n",
       "  <tbody>\n",
       "    <tr>\n",
       "      <th>Total Spread</th>\n",
       "      <td>418500.0</td>\n",
       "      <td>157500.0</td>\n",
       "      <td>939000.0</td>\n",
       "      <td>678600.0</td>\n",
       "      <td>806400.0</td>\n",
       "    </tr>\n",
       "  </tbody>\n",
       "</table>\n",
       "</div>"
      ],
      "text/plain": [
       "               NRCA.JK   ULTJ.JK   CLPI.JK   TSPC.JK   IPCM.JK\n",
       "Total Spread  418500.0  157500.0  939000.0  678600.0  806400.0"
      ]
     },
     "execution_count": 30,
     "metadata": {},
     "output_type": "execute_result"
    }
   ],
   "source": [
    "budget = pd.DataFrame.from_dict(data= budget_, orient= 'index').T\n",
    "budget.rename(index={0: 'Total Spread'}, inplace= True)\n",
    "budget"
   ]
  },
  {
   "cell_type": "code",
   "execution_count": 31,
   "metadata": {},
   "outputs": [
    {
     "data": {
      "text/html": [
       "<div>\n",
       "<style scoped>\n",
       "    .dataframe tbody tr th:only-of-type {\n",
       "        vertical-align: middle;\n",
       "    }\n",
       "\n",
       "    .dataframe tbody tr th {\n",
       "        vertical-align: top;\n",
       "    }\n",
       "\n",
       "    .dataframe thead th {\n",
       "        text-align: right;\n",
       "    }\n",
       "</style>\n",
       "<table border=\"1\" class=\"dataframe\">\n",
       "  <thead>\n",
       "    <tr style=\"text-align: right;\">\n",
       "      <th></th>\n",
       "      <th>NRCA.JK</th>\n",
       "      <th>ULTJ.JK</th>\n",
       "      <th>CLPI.JK</th>\n",
       "      <th>TSPC.JK</th>\n",
       "      <th>IPCM.JK</th>\n",
       "    </tr>\n",
       "    <tr>\n",
       "      <th>Date</th>\n",
       "      <th></th>\n",
       "      <th></th>\n",
       "      <th></th>\n",
       "      <th></th>\n",
       "      <th></th>\n",
       "    </tr>\n",
       "  </thead>\n",
       "  <tbody>\n",
       "    <tr>\n",
       "      <th>Closing 2024-07-10</th>\n",
       "      <td>34200.0</td>\n",
       "      <td>186500.0</td>\n",
       "      <td>110000.0</td>\n",
       "      <td>202000.0</td>\n",
       "      <td>26600.0</td>\n",
       "    </tr>\n",
       "  </tbody>\n",
       "</table>\n",
       "</div>"
      ],
      "text/plain": [
       "                    NRCA.JK   ULTJ.JK   CLPI.JK   TSPC.JK  IPCM.JK\n",
       "Date                                                              \n",
       "Closing 2024-07-10  34200.0  186500.0  110000.0  202000.0  26600.0"
      ]
     },
     "execution_count": 31,
     "metadata": {},
     "output_type": "execute_result"
    }
   ],
   "source": [
    "expense = pd.DataFrame(columns=port.keys())\n",
    "for item in port.keys(): \n",
    "    temp = yf.Ticker(item).history(period = '1d', interval = '1mo',actions=False)\n",
    "    expense[item] = temp['Close']*100 #1 lot\n",
    "expense.rename(index={expense.index[0]: str('Closing ' + str(expense.index[0]).split(' ')[0])}, inplace= True)\n",
    "expense"
   ]
  },
  {
   "cell_type": "code",
   "execution_count": 32,
   "metadata": {},
   "outputs": [
    {
     "data": {
      "text/html": [
       "<div>\n",
       "<style scoped>\n",
       "    .dataframe tbody tr th:only-of-type {\n",
       "        vertical-align: middle;\n",
       "    }\n",
       "\n",
       "    .dataframe tbody tr th {\n",
       "        vertical-align: top;\n",
       "    }\n",
       "\n",
       "    .dataframe thead th {\n",
       "        text-align: right;\n",
       "    }\n",
       "</style>\n",
       "<table border=\"1\" class=\"dataframe\">\n",
       "  <thead>\n",
       "    <tr style=\"text-align: right;\">\n",
       "      <th></th>\n",
       "      <th>NRCA.JK</th>\n",
       "      <th>ULTJ.JK</th>\n",
       "      <th>CLPI.JK</th>\n",
       "      <th>TSPC.JK</th>\n",
       "      <th>IPCM.JK</th>\n",
       "    </tr>\n",
       "  </thead>\n",
       "  <tbody>\n",
       "    <tr>\n",
       "      <th>Closing 2024-07-10</th>\n",
       "      <td>34200.0000</td>\n",
       "      <td>186500.0000</td>\n",
       "      <td>110000.000</td>\n",
       "      <td>202000.0000</td>\n",
       "      <td>26600.0000</td>\n",
       "    </tr>\n",
       "    <tr>\n",
       "      <th>Total Spread</th>\n",
       "      <td>418500.0000</td>\n",
       "      <td>157500.0000</td>\n",
       "      <td>939000.000</td>\n",
       "      <td>678600.0000</td>\n",
       "      <td>806400.0000</td>\n",
       "    </tr>\n",
       "    <tr>\n",
       "      <th>Total Lot</th>\n",
       "      <td>12.0000</td>\n",
       "      <td>1.0000</td>\n",
       "      <td>9.000</td>\n",
       "      <td>3.0000</td>\n",
       "      <td>30.0000</td>\n",
       "    </tr>\n",
       "    <tr>\n",
       "      <th>Total Spending</th>\n",
       "      <td>410400.0000</td>\n",
       "      <td>186500.0000</td>\n",
       "      <td>990000.000</td>\n",
       "      <td>606000.0000</td>\n",
       "      <td>798000.0000</td>\n",
       "    </tr>\n",
       "    <tr>\n",
       "      <th>Percentage</th>\n",
       "      <td>0.1395</td>\n",
       "      <td>0.0525</td>\n",
       "      <td>0.313</td>\n",
       "      <td>0.2262</td>\n",
       "      <td>0.2688</td>\n",
       "    </tr>\n",
       "  </tbody>\n",
       "</table>\n",
       "</div>"
      ],
      "text/plain": [
       "                        NRCA.JK      ULTJ.JK     CLPI.JK      TSPC.JK  \\\n",
       "Closing 2024-07-10   34200.0000  186500.0000  110000.000  202000.0000   \n",
       "Total Spread        418500.0000  157500.0000  939000.000  678600.0000   \n",
       "Total Lot               12.0000       1.0000       9.000       3.0000   \n",
       "Total Spending      410400.0000  186500.0000  990000.000  606000.0000   \n",
       "Percentage               0.1395       0.0525       0.313       0.2262   \n",
       "\n",
       "                        IPCM.JK  \n",
       "Closing 2024-07-10   26600.0000  \n",
       "Total Spread        806400.0000  \n",
       "Total Lot               30.0000  \n",
       "Total Spending      798000.0000  \n",
       "Percentage               0.2688  "
      ]
     },
     "execution_count": 32,
     "metadata": {},
     "output_type": "execute_result"
    }
   ],
   "source": [
    "qty = pd.concat([expense,budget])\n",
    "temp_ = pd.DataFrame(np.round(qty.iloc[1] / qty.iloc[0],0)).T\n",
    "temp_.rename(index={0: 'Total Lot'}, inplace= True)\n",
    "qty = pd.concat([qty, temp_])\n",
    "spend = pd.DataFrame(np.round(qty.iloc[2] * qty.iloc[0],0)).T\n",
    "finale = pd.concat([qty, spend])\n",
    "finale.rename(index={0: 'Total Spending'}, inplace= True)\n",
    "finale = pd.concat([finale, port_df[finale.columns]])\n",
    "finale"
   ]
  },
  {
   "cell_type": "code",
   "execution_count": 33,
   "metadata": {},
   "outputs": [],
   "source": [
    "# finale.to_excel('Least Risk with Adjustment.xlsx', index = True)\n",
    "# finale.to_csv('Least Risk with Adjustment.csv', index = True)"
   ]
  },
  {
   "cell_type": "code",
   "execution_count": 34,
   "metadata": {},
   "outputs": [
    {
     "data": {
      "text/plain": [
       "Closing 2024-07-10     559300.0\n",
       "Total Spread          3000000.0\n",
       "Total Lot                  55.0\n",
       "Total Spending        2990900.0\n",
       "Percentage                  1.0\n",
       "dtype: float64"
      ]
     },
     "execution_count": 34,
     "metadata": {},
     "output_type": "execute_result"
    }
   ],
   "source": [
    "finale.sum(axis = 1)"
   ]
  },
  {
   "cell_type": "code",
   "execution_count": 35,
   "metadata": {},
   "outputs": [
    {
     "data": {
      "text/plain": [
       "Index(['NRCA.JK', 'ULTJ.JK', 'CLPI.JK', 'TSPC.JK', 'IPCM.JK'], dtype='object')"
      ]
     },
     "execution_count": 35,
     "metadata": {},
     "output_type": "execute_result"
    }
   ],
   "source": [
    "finale.columns"
   ]
  },
  {
   "cell_type": "code",
   "execution_count": 36,
   "metadata": {},
   "outputs": [
    {
     "name": "stdout",
     "output_type": "stream",
     "text": [
      "return : 1.006686672298437 %\n",
      "risk : 0.0638843326187398 %\n",
      "Total Money : 1.0\n",
      "Total Idle Money : 2999999.0\n"
     ]
    },
    {
     "name": "stderr",
     "output_type": "stream",
     "text": [
      "/tmp/ipykernel_28723/2636873254.py:3: FutureWarning: Series.__getitem__ treating keys as positions is deprecated. In a future version, integer keys will always be treated as labels (consistent with DataFrame behavior). To access a value by position, use `ser.iloc[pos]`\n",
      "  print(f'Total Money :',finale.sum(axis=1)[-1])\n",
      "/tmp/ipykernel_28723/2636873254.py:4: FutureWarning: Series.__getitem__ treating keys as positions is deprecated. In a future version, integer keys will always be treated as labels (consistent with DataFrame behavior). To access a value by position, use `ser.iloc[pos]`\n",
      "  print(f'Total Idle Money :', start - finale.sum(axis=1)[-1])\n"
     ]
    }
   ],
   "source": [
    "print(f'return :', x_.dot(mu)*100, '%')\n",
    "print(f'risk :', x_.dot(C).dot(x_)*100, '%')\n",
    "print(f'Total Money :',finale.sum(axis=1)[-1])\n",
    "print(f'Total Idle Money :', start - finale.sum(axis=1)[-1])"
   ]
  },
  {
   "cell_type": "code",
   "execution_count": 42,
   "metadata": {},
   "outputs": [],
   "source": [
    "test = pd.DataFrame(columns = finale.columns)\n",
    "for i in finale.columns :\n",
    "    temp = yf.Ticker(i).history(period = '2y', start = '2022-12-31', interval = '1mo',actions=False).dropna()[['Close']][:-1]\n",
    "    log_return = np.log(temp['Close']/temp['Close'].shift(1)).dropna()\n",
    "    test[i] = log_return"
   ]
  },
  {
   "cell_type": "code",
   "execution_count": 43,
   "metadata": {},
   "outputs": [
    {
     "data": {
      "text/plain": [
       "[0.1395, 0.0525, 0.313, 0.2262, 0.2688]"
      ]
     },
     "execution_count": 43,
     "metadata": {},
     "output_type": "execute_result"
    }
   ],
   "source": [
    "ports = [x_[i] for i in range(len(x_)) if x_[i]>0]\n",
    "ports"
   ]
  },
  {
   "cell_type": "code",
   "execution_count": 44,
   "metadata": {},
   "outputs": [
    {
     "data": {
      "text/html": [
       "<div>\n",
       "<style scoped>\n",
       "    .dataframe tbody tr th:only-of-type {\n",
       "        vertical-align: middle;\n",
       "    }\n",
       "\n",
       "    .dataframe tbody tr th {\n",
       "        vertical-align: top;\n",
       "    }\n",
       "\n",
       "    .dataframe thead th {\n",
       "        text-align: right;\n",
       "    }\n",
       "</style>\n",
       "<table border=\"1\" class=\"dataframe\">\n",
       "  <thead>\n",
       "    <tr style=\"text-align: right;\">\n",
       "      <th></th>\n",
       "      <th>NRCA.JK</th>\n",
       "      <th>ULTJ.JK</th>\n",
       "      <th>CLPI.JK</th>\n",
       "      <th>TSPC.JK</th>\n",
       "      <th>IPCM.JK</th>\n",
       "      <th>total_return</th>\n",
       "    </tr>\n",
       "    <tr>\n",
       "      <th>Date</th>\n",
       "      <th></th>\n",
       "      <th></th>\n",
       "      <th></th>\n",
       "      <th></th>\n",
       "      <th></th>\n",
       "      <th></th>\n",
       "    </tr>\n",
       "  </thead>\n",
       "  <tbody>\n",
       "    <tr>\n",
       "      <th>2023-02-01 00:00:00+07:00</th>\n",
       "      <td>-0.055399</td>\n",
       "      <td>0.036732</td>\n",
       "      <td>0.021053</td>\n",
       "      <td>-0.010734</td>\n",
       "      <td>0.014599</td>\n",
       "      <td>0.002286</td>\n",
       "    </tr>\n",
       "    <tr>\n",
       "      <th>2023-03-01 00:00:00+07:00</th>\n",
       "      <td>-0.025643</td>\n",
       "      <td>-0.078405</td>\n",
       "      <td>-0.015748</td>\n",
       "      <td>0.010734</td>\n",
       "      <td>-0.021979</td>\n",
       "      <td>-0.016103</td>\n",
       "    </tr>\n",
       "    <tr>\n",
       "      <th>2023-04-01 00:00:00+07:00</th>\n",
       "      <td>-0.006515</td>\n",
       "      <td>0.017575</td>\n",
       "      <td>-0.016000</td>\n",
       "      <td>-0.003565</td>\n",
       "      <td>0.007380</td>\n",
       "      <td>-0.003817</td>\n",
       "    </tr>\n",
       "    <tr>\n",
       "      <th>2023-05-01 00:00:00+07:00</th>\n",
       "      <td>0.134348</td>\n",
       "      <td>0.093090</td>\n",
       "      <td>0.057457</td>\n",
       "      <td>0.038534</td>\n",
       "      <td>0.050190</td>\n",
       "      <td>0.063820</td>\n",
       "    </tr>\n",
       "    <tr>\n",
       "      <th>2023-06-01 00:00:00+07:00</th>\n",
       "      <td>-0.089612</td>\n",
       "      <td>0.216135</td>\n",
       "      <td>0.039806</td>\n",
       "      <td>0.119690</td>\n",
       "      <td>0.027588</td>\n",
       "      <td>0.045795</td>\n",
       "    </tr>\n",
       "    <tr>\n",
       "      <th>2023-07-01 00:00:00+07:00</th>\n",
       "      <td>0.202909</td>\n",
       "      <td>-0.015464</td>\n",
       "      <td>-0.039806</td>\n",
       "      <td>0.100126</td>\n",
       "      <td>-0.013699</td>\n",
       "      <td>0.034001</td>\n",
       "    </tr>\n",
       "    <tr>\n",
       "      <th>2023-08-01 00:00:00+07:00</th>\n",
       "      <td>0.005764</td>\n",
       "      <td>-0.043376</td>\n",
       "      <td>0.056353</td>\n",
       "      <td>0.060104</td>\n",
       "      <td>0.061376</td>\n",
       "      <td>0.046258</td>\n",
       "    </tr>\n",
       "    <tr>\n",
       "      <th>2023-09-01 00:00:00+07:00</th>\n",
       "      <td>0.022728</td>\n",
       "      <td>-0.089268</td>\n",
       "      <td>-0.020619</td>\n",
       "      <td>0.005540</td>\n",
       "      <td>-0.013889</td>\n",
       "      <td>-0.010450</td>\n",
       "    </tr>\n",
       "    <tr>\n",
       "      <th>2023-10-01 00:00:00+07:00</th>\n",
       "      <td>-0.081917</td>\n",
       "      <td>0.011976</td>\n",
       "      <td>0.025708</td>\n",
       "      <td>-0.080503</td>\n",
       "      <td>-0.021202</td>\n",
       "      <td>-0.026661</td>\n",
       "    </tr>\n",
       "    <tr>\n",
       "      <th>2023-11-01 00:00:00+07:00</th>\n",
       "      <td>0.012121</td>\n",
       "      <td>-0.067718</td>\n",
       "      <td>0.000000</td>\n",
       "      <td>0.049645</td>\n",
       "      <td>-0.007168</td>\n",
       "      <td>0.007439</td>\n",
       "    </tr>\n",
       "    <tr>\n",
       "      <th>2023-12-01 00:00:00+07:00</th>\n",
       "      <td>0.000000</td>\n",
       "      <td>0.018928</td>\n",
       "      <td>0.000000</td>\n",
       "      <td>0.071975</td>\n",
       "      <td>0.007168</td>\n",
       "      <td>0.019201</td>\n",
       "    </tr>\n",
       "    <tr>\n",
       "      <th>2024-01-01 00:00:00+07:00</th>\n",
       "      <td>-0.006042</td>\n",
       "      <td>0.060625</td>\n",
       "      <td>0.000000</td>\n",
       "      <td>0.120504</td>\n",
       "      <td>-0.014389</td>\n",
       "      <td>0.025730</td>\n",
       "    </tr>\n",
       "    <tr>\n",
       "      <th>2024-02-01 00:00:00+07:00</th>\n",
       "      <td>0.023953</td>\n",
       "      <td>-0.017805</td>\n",
       "      <td>0.000000</td>\n",
       "      <td>-0.054604</td>\n",
       "      <td>0.020596</td>\n",
       "      <td>-0.004409</td>\n",
       "    </tr>\n",
       "    <tr>\n",
       "      <th>2024-03-01 00:00:00+07:00</th>\n",
       "      <td>0.011765</td>\n",
       "      <td>0.167745</td>\n",
       "      <td>0.025064</td>\n",
       "      <td>-0.012837</td>\n",
       "      <td>-0.014493</td>\n",
       "      <td>0.011493</td>\n",
       "    </tr>\n",
       "    <tr>\n",
       "      <th>2024-04-01 00:00:00+07:00</th>\n",
       "      <td>0.011628</td>\n",
       "      <td>-0.059992</td>\n",
       "      <td>0.014742</td>\n",
       "      <td>0.002581</td>\n",
       "      <td>-0.014706</td>\n",
       "      <td>-0.000282</td>\n",
       "    </tr>\n",
       "    <tr>\n",
       "      <th>2024-05-01 00:00:00+07:00</th>\n",
       "      <td>-0.059541</td>\n",
       "      <td>-0.041158</td>\n",
       "      <td>0.042966</td>\n",
       "      <td>0.025447</td>\n",
       "      <td>-0.022473</td>\n",
       "      <td>0.002697</td>\n",
       "    </tr>\n",
       "    <tr>\n",
       "      <th>2024-06-01 00:00:00+07:00</th>\n",
       "      <td>0.108719</td>\n",
       "      <td>0.035767</td>\n",
       "      <td>0.139356</td>\n",
       "      <td>-0.002516</td>\n",
       "      <td>0.007547</td>\n",
       "      <td>0.062122</td>\n",
       "    </tr>\n",
       "  </tbody>\n",
       "</table>\n",
       "</div>"
      ],
      "text/plain": [
       "                            NRCA.JK   ULTJ.JK   CLPI.JK   TSPC.JK   IPCM.JK  \\\n",
       "Date                                                                          \n",
       "2023-02-01 00:00:00+07:00 -0.055399  0.036732  0.021053 -0.010734  0.014599   \n",
       "2023-03-01 00:00:00+07:00 -0.025643 -0.078405 -0.015748  0.010734 -0.021979   \n",
       "2023-04-01 00:00:00+07:00 -0.006515  0.017575 -0.016000 -0.003565  0.007380   \n",
       "2023-05-01 00:00:00+07:00  0.134348  0.093090  0.057457  0.038534  0.050190   \n",
       "2023-06-01 00:00:00+07:00 -0.089612  0.216135  0.039806  0.119690  0.027588   \n",
       "2023-07-01 00:00:00+07:00  0.202909 -0.015464 -0.039806  0.100126 -0.013699   \n",
       "2023-08-01 00:00:00+07:00  0.005764 -0.043376  0.056353  0.060104  0.061376   \n",
       "2023-09-01 00:00:00+07:00  0.022728 -0.089268 -0.020619  0.005540 -0.013889   \n",
       "2023-10-01 00:00:00+07:00 -0.081917  0.011976  0.025708 -0.080503 -0.021202   \n",
       "2023-11-01 00:00:00+07:00  0.012121 -0.067718  0.000000  0.049645 -0.007168   \n",
       "2023-12-01 00:00:00+07:00  0.000000  0.018928  0.000000  0.071975  0.007168   \n",
       "2024-01-01 00:00:00+07:00 -0.006042  0.060625  0.000000  0.120504 -0.014389   \n",
       "2024-02-01 00:00:00+07:00  0.023953 -0.017805  0.000000 -0.054604  0.020596   \n",
       "2024-03-01 00:00:00+07:00  0.011765  0.167745  0.025064 -0.012837 -0.014493   \n",
       "2024-04-01 00:00:00+07:00  0.011628 -0.059992  0.014742  0.002581 -0.014706   \n",
       "2024-05-01 00:00:00+07:00 -0.059541 -0.041158  0.042966  0.025447 -0.022473   \n",
       "2024-06-01 00:00:00+07:00  0.108719  0.035767  0.139356 -0.002516  0.007547   \n",
       "\n",
       "                           total_return  \n",
       "Date                                     \n",
       "2023-02-01 00:00:00+07:00      0.002286  \n",
       "2023-03-01 00:00:00+07:00     -0.016103  \n",
       "2023-04-01 00:00:00+07:00     -0.003817  \n",
       "2023-05-01 00:00:00+07:00      0.063820  \n",
       "2023-06-01 00:00:00+07:00      0.045795  \n",
       "2023-07-01 00:00:00+07:00      0.034001  \n",
       "2023-08-01 00:00:00+07:00      0.046258  \n",
       "2023-09-01 00:00:00+07:00     -0.010450  \n",
       "2023-10-01 00:00:00+07:00     -0.026661  \n",
       "2023-11-01 00:00:00+07:00      0.007439  \n",
       "2023-12-01 00:00:00+07:00      0.019201  \n",
       "2024-01-01 00:00:00+07:00      0.025730  \n",
       "2024-02-01 00:00:00+07:00     -0.004409  \n",
       "2024-03-01 00:00:00+07:00      0.011493  \n",
       "2024-04-01 00:00:00+07:00     -0.000282  \n",
       "2024-05-01 00:00:00+07:00      0.002697  \n",
       "2024-06-01 00:00:00+07:00      0.062122  "
      ]
     },
     "execution_count": 44,
     "metadata": {},
     "output_type": "execute_result"
    }
   ],
   "source": [
    "test['total_return'] = test.dot(ports)\n",
    "test"
   ]
  },
  {
   "cell_type": "code",
   "execution_count": 45,
   "metadata": {},
   "outputs": [
    {
     "name": "stdout",
     "output_type": "stream",
     "text": [
      "Mean return : 1.5242452217733298%\n"
     ]
    }
   ],
   "source": [
    "print(f'Mean return : {test.total_return.mean()*100}%')"
   ]
  },
  {
   "cell_type": "code",
   "execution_count": 50,
   "metadata": {},
   "outputs": [
    {
     "data": {
      "text/html": [
       "<div>\n",
       "<style scoped>\n",
       "    .dataframe tbody tr th:only-of-type {\n",
       "        vertical-align: middle;\n",
       "    }\n",
       "\n",
       "    .dataframe tbody tr th {\n",
       "        vertical-align: top;\n",
       "    }\n",
       "\n",
       "    .dataframe thead th {\n",
       "        text-align: right;\n",
       "    }\n",
       "</style>\n",
       "<table border=\"1\" class=\"dataframe\">\n",
       "  <thead>\n",
       "    <tr style=\"text-align: right;\">\n",
       "      <th></th>\n",
       "      <th>NRCA.JK</th>\n",
       "      <th>ULTJ.JK</th>\n",
       "      <th>CLPI.JK</th>\n",
       "      <th>TSPC.JK</th>\n",
       "      <th>IPCM.JK</th>\n",
       "      <th>total_return</th>\n",
       "    </tr>\n",
       "  </thead>\n",
       "  <tbody>\n",
       "    <tr>\n",
       "      <th>count</th>\n",
       "      <td>17.000000</td>\n",
       "      <td>17.000000</td>\n",
       "      <td>17.000000</td>\n",
       "      <td>17.000000</td>\n",
       "      <td>17.000000</td>\n",
       "      <td>17.000000</td>\n",
       "    </tr>\n",
       "    <tr>\n",
       "      <th>mean</th>\n",
       "      <td>0.012310</td>\n",
       "      <td>0.014435</td>\n",
       "      <td>0.019431</td>\n",
       "      <td>0.025889</td>\n",
       "      <td>0.003085</td>\n",
       "      <td>0.015242</td>\n",
       "    </tr>\n",
       "    <tr>\n",
       "      <th>std</th>\n",
       "      <td>0.075870</td>\n",
       "      <td>0.084233</td>\n",
       "      <td>0.041361</td>\n",
       "      <td>0.056337</td>\n",
       "      <td>0.025234</td>\n",
       "      <td>0.027064</td>\n",
       "    </tr>\n",
       "    <tr>\n",
       "      <th>min</th>\n",
       "      <td>-0.089612</td>\n",
       "      <td>-0.089268</td>\n",
       "      <td>-0.039806</td>\n",
       "      <td>-0.080503</td>\n",
       "      <td>-0.022473</td>\n",
       "      <td>-0.026661</td>\n",
       "    </tr>\n",
       "    <tr>\n",
       "      <th>25%</th>\n",
       "      <td>-0.025643</td>\n",
       "      <td>-0.043376</td>\n",
       "      <td>0.000000</td>\n",
       "      <td>-0.003565</td>\n",
       "      <td>-0.014493</td>\n",
       "      <td>-0.003817</td>\n",
       "    </tr>\n",
       "    <tr>\n",
       "      <th>50%</th>\n",
       "      <td>0.005764</td>\n",
       "      <td>0.011976</td>\n",
       "      <td>0.014742</td>\n",
       "      <td>0.010734</td>\n",
       "      <td>-0.007168</td>\n",
       "      <td>0.007439</td>\n",
       "    </tr>\n",
       "    <tr>\n",
       "      <th>75%</th>\n",
       "      <td>0.022728</td>\n",
       "      <td>0.036732</td>\n",
       "      <td>0.039806</td>\n",
       "      <td>0.060104</td>\n",
       "      <td>0.014599</td>\n",
       "      <td>0.034001</td>\n",
       "    </tr>\n",
       "    <tr>\n",
       "      <th>max</th>\n",
       "      <td>0.202909</td>\n",
       "      <td>0.216135</td>\n",
       "      <td>0.139356</td>\n",
       "      <td>0.120504</td>\n",
       "      <td>0.061376</td>\n",
       "      <td>0.063820</td>\n",
       "    </tr>\n",
       "  </tbody>\n",
       "</table>\n",
       "</div>"
      ],
      "text/plain": [
       "         NRCA.JK    ULTJ.JK    CLPI.JK    TSPC.JK    IPCM.JK  total_return\n",
       "count  17.000000  17.000000  17.000000  17.000000  17.000000     17.000000\n",
       "mean    0.012310   0.014435   0.019431   0.025889   0.003085      0.015242\n",
       "std     0.075870   0.084233   0.041361   0.056337   0.025234      0.027064\n",
       "min    -0.089612  -0.089268  -0.039806  -0.080503  -0.022473     -0.026661\n",
       "25%    -0.025643  -0.043376   0.000000  -0.003565  -0.014493     -0.003817\n",
       "50%     0.005764   0.011976   0.014742   0.010734  -0.007168      0.007439\n",
       "75%     0.022728   0.036732   0.039806   0.060104   0.014599      0.034001\n",
       "max     0.202909   0.216135   0.139356   0.120504   0.061376      0.063820"
      ]
     },
     "execution_count": 50,
     "metadata": {},
     "output_type": "execute_result"
    }
   ],
   "source": [
    "test.describe()"
   ]
  },
  {
   "cell_type": "code",
   "execution_count": 46,
   "metadata": {},
   "outputs": [
    {
     "data": {
      "image/png": "[encoded data removed]",
      "text/plain": [
       "<Figure size 640x480 with 1 Axes>"
      ]
     },
     "metadata": {},
     "output_type": "display_data"
    }
   ],
   "source": [
    "test.total_return.plot.bar()\n",
    "plt.grid(True)\n",
    "plt.title('Current Performance with Least Risk')\n",
    "plt.show()"
   ]
  }
 ],
 "metadata": {
  "kernelspec": {
   "display_name": "Python 3.10.0 64-bit",
   "language": "python",
   "name": "python3"
  },
  "language_info": {
   "codemirror_mode": {
    "name": "ipython",
    "version": 3
   },
   "file_extension": ".py",
   "mimetype": "text/x-python",
   "name": "python",
   "nbconvert_exporter": "python",
   "pygments_lexer": "ipython3",
   "version": "3.10.13"
  },
  "orig_nbformat": 4,
  "vscode": {
   "interpreter": {
    "hash": "9be826744cc5714b462ad0c8de88bfa6f016a48973c6317b9546595d1685cabb"
   }
  }
 },
 "nbformat": 4,
 "nbformat_minor": 2
}
