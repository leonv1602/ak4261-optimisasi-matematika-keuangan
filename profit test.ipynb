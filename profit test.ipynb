{
 "cells": [
  {
   "cell_type": "markdown",
   "metadata": {},
   "source": [
    "# Packages"
   ]
  },
  {
   "cell_type": "code",
   "execution_count": 2,
   "metadata": {},
   "outputs": [
    {
     "name": "stderr",
     "output_type": "stream",
     "text": [
      "c:\\Users\\leona\\anaconda3\\lib\\site-packages\\numpy\\_distributor_init.py:30: UserWarning: loaded more than 1 DLL from .libs:\n",
      "c:\\Users\\leona\\anaconda3\\lib\\site-packages\\numpy\\.libs\\libopenblas.PYQHXLVVQ7VESDPUVUADXEVJOBGHJPAY.gfortran-win_amd64.dll\n",
      "c:\\Users\\leona\\anaconda3\\lib\\site-packages\\numpy\\.libs\\libopenblas.XWYDX2IKJW2NMTWSFYNGFUWKQU3LYTCZ.gfortran-win_amd64.dll\n",
      "  warnings.warn(\"loaded more than 1 DLL from .libs:\"\n",
      "<frozen importlib._bootstrap>:219: RuntimeWarning: scipy._lib.messagestream.MessageStream size changed, may indicate binary incompatibility. Expected 56 from C header, got 64 from PyObject\n"
     ]
    }
   ],
   "source": [
    "import numpy as np \n",
    "import pandas as pd \n",
    "import matplotlib.pyplot as plt \n",
    "import yfinance as yf\n",
    "import yahoofinancials\n",
    "from scipy.optimize import minimize\n",
    "import seaborn as sn\n",
    "from scipy.stats import anderson,kstest,shapiro, probplot"
   ]
  },
  {
   "cell_type": "markdown",
   "metadata": {},
   "source": [
    "# Masalah.  \n",
    "Misalkan portofolio saham dengan komposisi saham TLKM, BBNI, dan ASII. Akan dicari nilai return dengan variansi minimal dan juga dicari komposisi dari masing-masing saham.  "
   ]
  },
  {
   "cell_type": "code",
   "execution_count": 15,
   "metadata": {},
   "outputs": [],
   "source": [
    "stock = ['TLKM.JK', 'BBNI.JK','ASII.JK', 'ANTM.JK', 'BMRI.JK','BBRI.JK', 'ARTO.JK', 'UNVR.JK', 'AMRT.JK', 'HRUM.JK',\n",
    "        'BBCA.JK', 'INCO.JK', 'ADRO.JK', 'PTBA.JK', 'PGAS.JK']\n",
    "#stock = ['TSLA', 'DIS', 'NKE', 'AAPL']\n",
    "df = pd.DataFrame(columns=stock)\n",
    "for i in stock :\n",
    "    temp = yf.Ticker(i).history(period = '2y', interval = '1mo',actions=False)\n",
    "    temp.dropna(inplace = True)\n",
    "    temp['log_return'] = np.log(temp['Close']) - np.log(temp['Close'].shift(1))\n",
    "    temp['log_return'].dropna(inplace = True)\n",
    "    df[i] =temp['log_return'].dropna()"
   ]
  },
  {
   "cell_type": "code",
   "execution_count": 21,
   "metadata": {},
   "outputs": [],
   "source": [
    "mu = df.mean().values\n",
    "C = df.cov().values\n",
    "def objective(weights): \n",
    "    weights = np.array(weights)\n",
    "    return weights.dot(C).dot(weights.T)\n",
    "# The constraints\n",
    "cons = (# The weights must sum up to one.\n",
    "        {\"type\":\"eq\", \"fun\": lambda x: np.sum(x)-1}, \n",
    "        # This constraints says that the inequalities (ineq) must be non-negative.# The expected daily return of our portfolio and we want to be at greater than 0.002352\n",
    "        {\"type\": \"ineq\", \"fun\": lambda x: np.sum(mu*x)-0.06}\n",
    "\n",
    "        )\n",
    "# Every stock can get any weight from 0 to 1\n",
    "bounds = tuple((0,1) for x in range(mu.shape[0]))\n",
    "# Initialize the weights with an even split\n",
    "# In out case each stock will have 10% at the beginning\n",
    "guess = [1./mu.shape[0] for x in range(mu.shape[0])]\n",
    "optimized_results = minimize(objective, guess, method = \"SLSQP\", bounds=bounds, constraints=cons)\n",
    "x_ = optimized_results.x"
   ]
  },
  {
   "cell_type": "code",
   "execution_count": 22,
   "metadata": {},
   "outputs": [
    {
     "data": {
      "text/plain": [
       "1.0"
      ]
     },
     "execution_count": 22,
     "metadata": {},
     "output_type": "execute_result"
    }
   ],
   "source": [
    "np.sum(np.round(x_,5))"
   ]
  },
  {
   "cell_type": "code",
   "execution_count": 23,
   "metadata": {},
   "outputs": [
    {
     "data": {
      "text/plain": [
       "{'BBNI.JK': 0.27961,\n",
       " 'UNVR.JK': 0.04356,\n",
       " 'INCO.JK': 0.13001,\n",
       " 'ADRO.JK': 0.40135,\n",
       " 'PGAS.JK': 0.14547}"
      ]
     },
     "execution_count": 23,
     "metadata": {},
     "output_type": "execute_result"
    }
   ],
   "source": [
    "port_ = dict(zip(stock,np.round(x_,5)))\n",
    "port = dict()\n",
    "for (key,value) in port_.items():\n",
    "    if value >0 : \n",
    "        port[key] = value\n",
    "port"
   ]
  },
  {
   "cell_type": "code",
   "execution_count": 24,
   "metadata": {},
   "outputs": [
    {
     "data": {
      "text/plain": [
       "{'BBNI.JK': 5592200.000000001,\n",
       " 'UNVR.JK': 871200.0,\n",
       " 'INCO.JK': 2600199.9999999995,\n",
       " 'ADRO.JK': 8027000.0,\n",
       " 'PGAS.JK': 2909399.9999999995}"
      ]
     },
     "execution_count": 24,
     "metadata": {},
     "output_type": "execute_result"
    }
   ],
   "source": [
    "start = 2e7 \n",
    "budget_ = dict()\n",
    "for (key,value) in port.items():\n",
    "    if value >0 : \n",
    "        budget_[key] = value*start\n",
    "budget_"
   ]
  },
  {
   "cell_type": "code",
   "execution_count": 25,
   "metadata": {},
   "outputs": [
    {
     "data": {
      "text/html": [
       "<div>\n",
       "<style scoped>\n",
       "    .dataframe tbody tr th:only-of-type {\n",
       "        vertical-align: middle;\n",
       "    }\n",
       "\n",
       "    .dataframe tbody tr th {\n",
       "        vertical-align: top;\n",
       "    }\n",
       "\n",
       "    .dataframe thead th {\n",
       "        text-align: right;\n",
       "    }\n",
       "</style>\n",
       "<table border=\"1\" class=\"dataframe\">\n",
       "  <thead>\n",
       "    <tr style=\"text-align: right;\">\n",
       "      <th></th>\n",
       "      <th>BBNI.JK</th>\n",
       "      <th>UNVR.JK</th>\n",
       "      <th>INCO.JK</th>\n",
       "      <th>ADRO.JK</th>\n",
       "      <th>PGAS.JK</th>\n",
       "    </tr>\n",
       "  </thead>\n",
       "  <tbody>\n",
       "    <tr>\n",
       "      <th>Total Spread</th>\n",
       "      <td>5592200.0</td>\n",
       "      <td>871200.0</td>\n",
       "      <td>2600200.0</td>\n",
       "      <td>8027000.0</td>\n",
       "      <td>2909400.0</td>\n",
       "    </tr>\n",
       "  </tbody>\n",
       "</table>\n",
       "</div>"
      ],
      "text/plain": [
       "                BBNI.JK   UNVR.JK    INCO.JK    ADRO.JK    PGAS.JK\n",
       "Total Spread  5592200.0  871200.0  2600200.0  8027000.0  2909400.0"
      ]
     },
     "execution_count": 25,
     "metadata": {},
     "output_type": "execute_result"
    }
   ],
   "source": [
    "budget = pd.DataFrame.from_dict(data= budget_, orient= 'index').T\n",
    "budget.rename(index={0: 'Total Spread'}, inplace= True)\n",
    "budget"
   ]
  },
  {
   "cell_type": "code",
   "execution_count": 26,
   "metadata": {},
   "outputs": [
    {
     "data": {
      "text/html": [
       "<div>\n",
       "<style scoped>\n",
       "    .dataframe tbody tr th:only-of-type {\n",
       "        vertical-align: middle;\n",
       "    }\n",
       "\n",
       "    .dataframe tbody tr th {\n",
       "        vertical-align: top;\n",
       "    }\n",
       "\n",
       "    .dataframe thead th {\n",
       "        text-align: right;\n",
       "    }\n",
       "</style>\n",
       "<table border=\"1\" class=\"dataframe\">\n",
       "  <thead>\n",
       "    <tr style=\"text-align: right;\">\n",
       "      <th></th>\n",
       "      <th>BBNI.JK</th>\n",
       "      <th>UNVR.JK</th>\n",
       "      <th>INCO.JK</th>\n",
       "      <th>ADRO.JK</th>\n",
       "      <th>PGAS.JK</th>\n",
       "    </tr>\n",
       "    <tr>\n",
       "      <th>Date</th>\n",
       "      <th></th>\n",
       "      <th></th>\n",
       "      <th></th>\n",
       "      <th></th>\n",
       "      <th></th>\n",
       "    </tr>\n",
       "  </thead>\n",
       "  <tbody>\n",
       "    <tr>\n",
       "      <th>Closing 2022-05-17</th>\n",
       "      <td>845000.0</td>\n",
       "      <td>480000.0</td>\n",
       "      <td>727500.0</td>\n",
       "      <td>322000.0</td>\n",
       "      <td>156000.0</td>\n",
       "    </tr>\n",
       "  </tbody>\n",
       "</table>\n",
       "</div>"
      ],
      "text/plain": [
       "                     BBNI.JK   UNVR.JK   INCO.JK   ADRO.JK   PGAS.JK\n",
       "Date                                                                \n",
       "Closing 2022-05-17  845000.0  480000.0  727500.0  322000.0  156000.0"
      ]
     },
     "execution_count": 26,
     "metadata": {},
     "output_type": "execute_result"
    }
   ],
   "source": [
    "expense = pd.DataFrame(columns=port.keys())\n",
    "for item in port.keys(): \n",
    "    temp = yf.Ticker(item).history(period = '1d', interval = '1mo',actions=False)\n",
    "    expense[item] = temp['Close']*100 #1 lot\n",
    "expense.rename(index={expense.index[0]: str('Closing ' + str(expense.index[0]).split(' ')[0])}, inplace= True)\n",
    "expense"
   ]
  },
  {
   "cell_type": "code",
   "execution_count": 27,
   "metadata": {},
   "outputs": [
    {
     "data": {
      "text/html": [
       "<div>\n",
       "<style scoped>\n",
       "    .dataframe tbody tr th:only-of-type {\n",
       "        vertical-align: middle;\n",
       "    }\n",
       "\n",
       "    .dataframe tbody tr th {\n",
       "        vertical-align: top;\n",
       "    }\n",
       "\n",
       "    .dataframe thead th {\n",
       "        text-align: right;\n",
       "    }\n",
       "</style>\n",
       "<table border=\"1\" class=\"dataframe\">\n",
       "  <thead>\n",
       "    <tr style=\"text-align: right;\">\n",
       "      <th></th>\n",
       "      <th>BBNI.JK</th>\n",
       "      <th>UNVR.JK</th>\n",
       "      <th>INCO.JK</th>\n",
       "      <th>ADRO.JK</th>\n",
       "      <th>PGAS.JK</th>\n",
       "    </tr>\n",
       "  </thead>\n",
       "  <tbody>\n",
       "    <tr>\n",
       "      <th>Closing 2022-05-17</th>\n",
       "      <td>845000.0</td>\n",
       "      <td>480000.0</td>\n",
       "      <td>727500.0</td>\n",
       "      <td>322000.0</td>\n",
       "      <td>156000.0</td>\n",
       "    </tr>\n",
       "    <tr>\n",
       "      <th>Total Spread</th>\n",
       "      <td>5592200.0</td>\n",
       "      <td>871200.0</td>\n",
       "      <td>2600200.0</td>\n",
       "      <td>8027000.0</td>\n",
       "      <td>2909400.0</td>\n",
       "    </tr>\n",
       "    <tr>\n",
       "      <th>Total Lot</th>\n",
       "      <td>7.0</td>\n",
       "      <td>2.0</td>\n",
       "      <td>4.0</td>\n",
       "      <td>25.0</td>\n",
       "      <td>19.0</td>\n",
       "    </tr>\n",
       "    <tr>\n",
       "      <th>Total Spending</th>\n",
       "      <td>5915000.0</td>\n",
       "      <td>960000.0</td>\n",
       "      <td>2910000.0</td>\n",
       "      <td>8050000.0</td>\n",
       "      <td>2964000.0</td>\n",
       "    </tr>\n",
       "  </tbody>\n",
       "</table>\n",
       "</div>"
      ],
      "text/plain": [
       "                      BBNI.JK   UNVR.JK    INCO.JK    ADRO.JK    PGAS.JK\n",
       "Closing 2022-05-17   845000.0  480000.0   727500.0   322000.0   156000.0\n",
       "Total Spread        5592200.0  871200.0  2600200.0  8027000.0  2909400.0\n",
       "Total Lot                 7.0       2.0        4.0       25.0       19.0\n",
       "Total Spending      5915000.0  960000.0  2910000.0  8050000.0  2964000.0"
      ]
     },
     "execution_count": 27,
     "metadata": {},
     "output_type": "execute_result"
    }
   ],
   "source": [
    "qty = pd.concat([expense,budget])\n",
    "temp_ = pd.DataFrame(np.round(qty.iloc[1] / qty.iloc[0],0)).T\n",
    "temp_.rename(index={0: 'Total Lot'}, inplace= True)\n",
    "qty = pd.concat([qty, temp_])\n",
    "spend = pd.DataFrame(np.round(qty.iloc[2] * qty.iloc[0],0)).T\n",
    "finale = pd.concat([qty, spend])\n",
    "finale.rename(index={0: 'Total Spending'}, inplace= True)\n",
    "finale"
   ]
  },
  {
   "cell_type": "code",
   "execution_count": 28,
   "metadata": {},
   "outputs": [
    {
     "data": {
      "text/plain": [
       "Closing 2022-05-17     2530500.0\n",
       "Total Spread          20000000.0\n",
       "Total Lot                   57.0\n",
       "Total Spending        20799000.0\n",
       "dtype: float64"
      ]
     },
     "execution_count": 28,
     "metadata": {},
     "output_type": "execute_result"
    }
   ],
   "source": [
    "finale.sum(axis = 1)"
   ]
  },
  {
   "cell_type": "code",
   "execution_count": 29,
   "metadata": {},
   "outputs": [
    {
     "name": "stdout",
     "output_type": "stream",
     "text": [
      "return : 5.999999999643227 %\n",
      "risk : 0.3184243245154742 %\n",
      "Total Money : 20799000.0\n",
      "Total Idle Money : -799000.0\n"
     ]
    }
   ],
   "source": [
    "print(f'return :', x_.dot(mu)*100, '%')\n",
    "print(f'risk :', x_.dot(C).dot(x_)*100, '%')\n",
    "print(f'Total Money :',finale.sum(axis=1)[-1])\n",
    "print(f'Total Idle Money :', start - finale.sum(axis=1)[-1])"
   ]
  },
  {
   "cell_type": "code",
   "execution_count": 30,
   "metadata": {},
   "outputs": [],
   "source": [
    "finale.to_csv(str('IHSG '+finale.index[0].split(' ')[1]+'.csv'))"
   ]
  },
  {
   "cell_type": "markdown",
   "metadata": {},
   "source": [
    "# Testing Profit"
   ]
  },
  {
   "cell_type": "code",
   "execution_count": 163,
   "metadata": {},
   "outputs": [
    {
     "name": "stdout",
     "output_type": "stream",
     "text": [
      "- ARTO.JK: Data doesn't exist for startDate = 1259600400, endDate = 1354294800\n"
     ]
    }
   ],
   "source": [
    "year = 2010\n",
    "ds = str(year-1)+'-12-01'\n",
    "de = str(year+2)+'-12-01'\n",
    "\n",
    "stock = ['TLKM.JK', 'BBNI.JK','ASII.JK', 'ANTM.JK', 'BMRI.JK','BBRI.JK', 'ARTO.JK', 'UNVR.JK', 'AMRT.JK', 'HRUM.JK',\n",
    "        'BBCA.JK', 'INCO.JK', 'ADRO.JK', 'PTBA.JK', 'PGAS.JK']\n",
    "#stock = ['TSLA', 'DIS', 'NKE', 'AAPL']\n",
    "df = pd.DataFrame(columns=stock)\n",
    "for i in stock :\n",
    "    temp = yf.Ticker(i).history(period = '2y', start = ds ,end =de ,interval = '1mo',actions=False)\n",
    "    temp.dropna(inplace = True)\n",
    "    temp['log_return'] = np.log(temp['Close']) - np.log(temp['Close'].shift(1))\n",
    "    temp['log_return'].dropna(inplace = True)\n",
    "    df[i] =temp['log_return'].dropna()\n",
    "df.dropna(axis = 1, inplace = True)"
   ]
  },
  {
   "cell_type": "code",
   "execution_count": 171,
   "metadata": {},
   "outputs": [],
   "source": [
    "mu = df.mean().values\n",
    "C = df.cov().values\n",
    "\n",
    "def objective(weights): \n",
    "    weights = np.array(weights)\n",
    "    return weights.dot(C).dot(weights.T)\n",
    "# The constraints\n",
    "cons = (# The weights must sum up to one.\n",
    "        {\"type\":\"eq\", \"fun\": lambda x: np.sum(x)-1}, \n",
    "        # This constraints says that the inequalities (ineq) must be non-negative.# The expected daily return of our portfolio and we want to be at greater than 0.002352\n",
    "        #{\"type\": \"ineq\", \"fun\": lambda x: np.sum(mu*x)-0.06}\n",
    "\n",
    "        )\n",
    "# Every stock can get any weight from 0 to 1\n",
    "bounds = tuple((0,1) for x in range(mu.shape[0]))\n",
    "# Initialize the weights with an even split\n",
    "# In out case each stock will have 10% at the beginning\n",
    "guess = [1./mu.shape[0] for x in range(mu.shape[0])]\n",
    "optimized_results = minimize(objective, guess, method = \"SLSQP\", bounds=bounds, constraints=cons)\n",
    "x_ = optimized_results.x"
   ]
  },
  {
   "cell_type": "code",
   "execution_count": 172,
   "metadata": {},
   "outputs": [
    {
     "name": "stdout",
     "output_type": "stream",
     "text": [
      "1.0\n",
      "return : 0.39857219698860075 %\n",
      "risk : 0.016070674275375892 %\n",
      "Total Money : 20015931.0\n",
      "Total Idle Money : -15931.0\n"
     ]
    }
   ],
   "source": [
    "print(np.sum(np.round(x_,5)))\n",
    "print(f'return :', x_.dot(mu)*100, '%')\n",
    "print(f'risk :', x_.dot(C).dot(x_)*100, '%')\n",
    "print(f'Total Money :',finale.sum(axis=1)[-1])\n",
    "print(f'Total Idle Money :', start - finale.sum(axis=1)[-1])"
   ]
  },
  {
   "cell_type": "code",
   "execution_count": 173,
   "metadata": {},
   "outputs": [
    {
     "data": {
      "text/html": [
       "<div>\n",
       "<style scoped>\n",
       "    .dataframe tbody tr th:only-of-type {\n",
       "        vertical-align: middle;\n",
       "    }\n",
       "\n",
       "    .dataframe tbody tr th {\n",
       "        vertical-align: top;\n",
       "    }\n",
       "\n",
       "    .dataframe thead th {\n",
       "        text-align: right;\n",
       "    }\n",
       "</style>\n",
       "<table border=\"1\" class=\"dataframe\">\n",
       "  <thead>\n",
       "    <tr style=\"text-align: right;\">\n",
       "      <th></th>\n",
       "      <th>TLKM.JK</th>\n",
       "      <th>BBNI.JK</th>\n",
       "    </tr>\n",
       "  </thead>\n",
       "  <tbody>\n",
       "    <tr>\n",
       "      <th>Closing 2013-01-01</th>\n",
       "      <td>155220.88623</td>\n",
       "      <td>1.390727e+05</td>\n",
       "    </tr>\n",
       "    <tr>\n",
       "      <th>Total Spread</th>\n",
       "      <td>958800.00000</td>\n",
       "      <td>1.904120e+07</td>\n",
       "    </tr>\n",
       "    <tr>\n",
       "      <th>Total Lot</th>\n",
       "      <td>6.00000</td>\n",
       "      <td>1.370000e+02</td>\n",
       "    </tr>\n",
       "    <tr>\n",
       "      <th>Total Spending</th>\n",
       "      <td>931325.00000</td>\n",
       "      <td>1.905296e+07</td>\n",
       "    </tr>\n",
       "  </tbody>\n",
       "</table>\n",
       "</div>"
      ],
      "text/plain": [
       "                         TLKM.JK       BBNI.JK\n",
       "Closing 2013-01-01  155220.88623  1.390727e+05\n",
       "Total Spread        958800.00000  1.904120e+07\n",
       "Total Lot                6.00000  1.370000e+02\n",
       "Total Spending      931325.00000  1.905296e+07"
      ]
     },
     "execution_count": 173,
     "metadata": {},
     "output_type": "execute_result"
    }
   ],
   "source": [
    "port_ = dict(zip(df.columns.values,np.round(x_,5)))\n",
    "port = dict()\n",
    "for (key,value) in port_.items():\n",
    "    if value >0 : \n",
    "        port[key] = value\n",
    "start = 2e7 \n",
    "budget_ = dict()\n",
    "for (key,value) in port.items():\n",
    "    if value >0 : \n",
    "        budget_[key] = value*start\n",
    "budget = pd.DataFrame.from_dict(data= budget_, orient= 'index').T\n",
    "budget.rename(index={0: 'Total Spread'}, inplace= True)\n",
    "expense = pd.DataFrame(columns=port.keys())\n",
    "\n",
    "bs = str(year+2)+'-12-31'\n",
    "be = str(year+3)+'-01-01'\n",
    "for item in port.keys(): \n",
    "    temp = yf.Ticker(item).history(period = '1d', start = bs, end = be, interval = '1mo',actions=False)\n",
    "    expense[item] = temp['Close']*100 #1 lot\n",
    "expense.rename(index={expense.index[0]: str('Closing ' + str(expense.index[0]).split(' ')[0])}, inplace= True)\n",
    "qty = pd.concat([expense,budget])\n",
    "temp_ = pd.DataFrame(np.round(qty.iloc[1] / qty.iloc[0],0)).T\n",
    "temp_.rename(index={0: 'Total Lot'}, inplace= True)\n",
    "qty = pd.concat([qty, temp_])\n",
    "spend = pd.DataFrame(np.round(qty.iloc[2] * qty.iloc[0],0)).T\n",
    "finale = pd.concat([qty, spend])\n",
    "finale.rename(index={0: 'Total Spending'}, inplace= True)\n",
    "finale"
   ]
  },
  {
   "cell_type": "code",
   "execution_count": 174,
   "metadata": {},
   "outputs": [
    {
     "data": {
      "text/html": [
       "<div>\n",
       "<style scoped>\n",
       "    .dataframe tbody tr th:only-of-type {\n",
       "        vertical-align: middle;\n",
       "    }\n",
       "\n",
       "    .dataframe tbody tr th {\n",
       "        vertical-align: top;\n",
       "    }\n",
       "\n",
       "    .dataframe thead th {\n",
       "        text-align: right;\n",
       "    }\n",
       "</style>\n",
       "<table border=\"1\" class=\"dataframe\">\n",
       "  <thead>\n",
       "    <tr style=\"text-align: right;\">\n",
       "      <th></th>\n",
       "      <th>buy_TLKM.JK</th>\n",
       "      <th>sell_TLKM.JK</th>\n",
       "      <th>return_TLKM.JK</th>\n",
       "      <th>buy_BBNI.JK</th>\n",
       "      <th>sell_BBNI.JK</th>\n",
       "      <th>return_BBNI.JK</th>\n",
       "    </tr>\n",
       "    <tr>\n",
       "      <th>Date</th>\n",
       "      <th></th>\n",
       "      <th></th>\n",
       "      <th></th>\n",
       "      <th></th>\n",
       "      <th></th>\n",
       "      <th></th>\n",
       "    </tr>\n",
       "  </thead>\n",
       "  <tbody>\n",
       "    <tr>\n",
       "      <th>2013-02-01</th>\n",
       "      <td>9.265246e+05</td>\n",
       "      <td>1.032139e+06</td>\n",
       "      <td>105614.202171</td>\n",
       "      <td>1.905297e+07</td>\n",
       "      <td>1.905297e+07</td>\n",
       "      <td>0.000000e+00</td>\n",
       "    </tr>\n",
       "    <tr>\n",
       "      <th>2013-03-01</th>\n",
       "      <td>1.041740e+06</td>\n",
       "      <td>1.056142e+06</td>\n",
       "      <td>14401.939586</td>\n",
       "      <td>1.905297e+07</td>\n",
       "      <td>1.905297e+07</td>\n",
       "      <td>0.000000e+00</td>\n",
       "    </tr>\n",
       "    <tr>\n",
       "      <th>2013-04-01</th>\n",
       "      <td>1.056142e+06</td>\n",
       "      <td>1.123351e+06</td>\n",
       "      <td>67209.044471</td>\n",
       "      <td>1.905296e+07</td>\n",
       "      <td>5.501925e+07</td>\n",
       "      <td>3.596629e+07</td>\n",
       "    </tr>\n",
       "    <tr>\n",
       "      <th>2013-05-01</th>\n",
       "      <td>1.123351e+06</td>\n",
       "      <td>1.060943e+06</td>\n",
       "      <td>-62408.401310</td>\n",
       "      <td>5.621018e+07</td>\n",
       "      <td>5.074531e+07</td>\n",
       "      <td>-5.464879e+06</td>\n",
       "    </tr>\n",
       "    <tr>\n",
       "      <th>2013-06-01</th>\n",
       "      <td>1.071542e+06</td>\n",
       "      <td>1.086023e+06</td>\n",
       "      <td>14480.302734</td>\n",
       "      <td>5.100552e+07</td>\n",
       "      <td>4.475995e+07</td>\n",
       "      <td>-6.245574e+06</td>\n",
       "    </tr>\n",
       "    <tr>\n",
       "      <th>2013-07-01</th>\n",
       "      <td>1.061889e+06</td>\n",
       "      <td>1.148771e+06</td>\n",
       "      <td>86881.816037</td>\n",
       "      <td>4.502019e+07</td>\n",
       "      <td>4.449972e+07</td>\n",
       "      <td>-5.204646e+05</td>\n",
       "    </tr>\n",
       "    <tr>\n",
       "      <th>2013-08-01</th>\n",
       "      <td>1.153598e+06</td>\n",
       "      <td>1.061889e+06</td>\n",
       "      <td>-91708.592418</td>\n",
       "      <td>4.475996e+07</td>\n",
       "      <td>4.007577e+07</td>\n",
       "      <td>-4.684181e+06</td>\n",
       "    </tr>\n",
       "    <tr>\n",
       "      <th>2013-09-01</th>\n",
       "      <td>1.061889e+06</td>\n",
       "      <td>1.013621e+06</td>\n",
       "      <td>-48267.679269</td>\n",
       "      <td>3.955531e+07</td>\n",
       "      <td>4.241786e+07</td>\n",
       "      <td>2.862555e+06</td>\n",
       "    </tr>\n",
       "    <tr>\n",
       "      <th>2013-10-01</th>\n",
       "      <td>1.013621e+06</td>\n",
       "      <td>1.134290e+06</td>\n",
       "      <td>120669.192050</td>\n",
       "      <td>4.267810e+07</td>\n",
       "      <td>4.996461e+07</td>\n",
       "      <td>7.286505e+06</td>\n",
       "    </tr>\n",
       "    <tr>\n",
       "      <th>2013-11-01</th>\n",
       "      <td>1.110157e+06</td>\n",
       "      <td>1.049822e+06</td>\n",
       "      <td>-60334.598936</td>\n",
       "      <td>4.892367e+07</td>\n",
       "      <td>4.267810e+07</td>\n",
       "      <td>-6.245575e+06</td>\n",
       "    </tr>\n",
       "    <tr>\n",
       "      <th>2013-12-01</th>\n",
       "      <td>1.061889e+06</td>\n",
       "      <td>1.037755e+06</td>\n",
       "      <td>-24133.835620</td>\n",
       "      <td>4.293832e+07</td>\n",
       "      <td>4.111670e+07</td>\n",
       "      <td>-1.821626e+06</td>\n",
       "    </tr>\n",
       "  </tbody>\n",
       "</table>\n",
       "</div>"
      ],
      "text/plain": [
       "             buy_TLKM.JK  sell_TLKM.JK  return_TLKM.JK   buy_BBNI.JK  \\\n",
       "Date                                                                   \n",
       "2013-02-01  9.265246e+05  1.032139e+06   105614.202171  1.905297e+07   \n",
       "2013-03-01  1.041740e+06  1.056142e+06    14401.939586  1.905297e+07   \n",
       "2013-04-01  1.056142e+06  1.123351e+06    67209.044471  1.905296e+07   \n",
       "2013-05-01  1.123351e+06  1.060943e+06   -62408.401310  5.621018e+07   \n",
       "2013-06-01  1.071542e+06  1.086023e+06    14480.302734  5.100552e+07   \n",
       "2013-07-01  1.061889e+06  1.148771e+06    86881.816037  4.502019e+07   \n",
       "2013-08-01  1.153598e+06  1.061889e+06   -91708.592418  4.475996e+07   \n",
       "2013-09-01  1.061889e+06  1.013621e+06   -48267.679269  3.955531e+07   \n",
       "2013-10-01  1.013621e+06  1.134290e+06   120669.192050  4.267810e+07   \n",
       "2013-11-01  1.110157e+06  1.049822e+06   -60334.598936  4.892367e+07   \n",
       "2013-12-01  1.061889e+06  1.037755e+06   -24133.835620  4.293832e+07   \n",
       "\n",
       "            sell_BBNI.JK  return_BBNI.JK  \n",
       "Date                                      \n",
       "2013-02-01  1.905297e+07    0.000000e+00  \n",
       "2013-03-01  1.905297e+07    0.000000e+00  \n",
       "2013-04-01  5.501925e+07    3.596629e+07  \n",
       "2013-05-01  5.074531e+07   -5.464879e+06  \n",
       "2013-06-01  4.475995e+07   -6.245574e+06  \n",
       "2013-07-01  4.449972e+07   -5.204646e+05  \n",
       "2013-08-01  4.007577e+07   -4.684181e+06  \n",
       "2013-09-01  4.241786e+07    2.862555e+06  \n",
       "2013-10-01  4.996461e+07    7.286505e+06  \n",
       "2013-11-01  4.267810e+07   -6.245575e+06  \n",
       "2013-12-01  4.111670e+07   -1.821626e+06  "
      ]
     },
     "execution_count": 174,
     "metadata": {},
     "output_type": "execute_result"
    }
   ],
   "source": [
    "buy = finale.columns.values\n",
    "bs = str(year+2)+'-12-31'\n",
    "be = str(year+4)+'-01-01'\n",
    "profit_test = pd.DataFrame()\n",
    "for item in buy:\n",
    "    temp = yf.Ticker(item).history(period = '1y', start = bs, end = be, interval = '1mo',actions=False)\n",
    "    temp.dropna(inplace = True)\n",
    "    temp['buy_'+item] = finale[item].loc['Total Lot'] * temp['Open'] * 100\n",
    "    temp['sell_'+item] = finale[item].loc['Total Lot'] * temp['Close'] * 100\n",
    "    profit_test['buy_'+item] = temp['buy_'+item].dropna()\n",
    "    profit_test['sell_'+item] = temp['sell_'+item].dropna()\n",
    "    profit_test['return_'+item] =  profit_test['sell_'+item].iloc[1:] - profit_test['buy_'+item].iloc[:-1]\n",
    "profit_test.dropna(inplace = True)\n",
    "profit_test\n"
   ]
  },
  {
   "cell_type": "code",
   "execution_count": 188,
   "metadata": {},
   "outputs": [
    {
     "data": {
      "text/html": [
       "<div>\n",
       "<style scoped>\n",
       "    .dataframe tbody tr th:only-of-type {\n",
       "        vertical-align: middle;\n",
       "    }\n",
       "\n",
       "    .dataframe tbody tr th {\n",
       "        vertical-align: top;\n",
       "    }\n",
       "\n",
       "    .dataframe thead th {\n",
       "        text-align: right;\n",
       "    }\n",
       "</style>\n",
       "<table border=\"1\" class=\"dataframe\">\n",
       "  <thead>\n",
       "    <tr style=\"text-align: right;\">\n",
       "      <th></th>\n",
       "      <th>Total Spending</th>\n",
       "      <th>Total Profit</th>\n",
       "      <th>Total Return</th>\n",
       "    </tr>\n",
       "    <tr>\n",
       "      <th>Date</th>\n",
       "      <th></th>\n",
       "      <th></th>\n",
       "      <th></th>\n",
       "    </tr>\n",
       "  </thead>\n",
       "  <tbody>\n",
       "    <tr>\n",
       "      <th>2013-02-01</th>\n",
       "      <td>1.997949e+07</td>\n",
       "      <td>1.056142e+05</td>\n",
       "      <td>0.005286</td>\n",
       "    </tr>\n",
       "    <tr>\n",
       "      <th>2013-03-01</th>\n",
       "      <td>2.009471e+07</td>\n",
       "      <td>1.440194e+04</td>\n",
       "      <td>0.000717</td>\n",
       "    </tr>\n",
       "    <tr>\n",
       "      <th>2013-04-01</th>\n",
       "      <td>2.010911e+07</td>\n",
       "      <td>3.603350e+07</td>\n",
       "      <td>1.791900</td>\n",
       "    </tr>\n",
       "    <tr>\n",
       "      <th>2013-05-01</th>\n",
       "      <td>5.733354e+07</td>\n",
       "      <td>-5.527287e+06</td>\n",
       "      <td>-0.096406</td>\n",
       "    </tr>\n",
       "    <tr>\n",
       "      <th>2013-06-01</th>\n",
       "      <td>5.207707e+07</td>\n",
       "      <td>-6.231094e+06</td>\n",
       "      <td>-0.119651</td>\n",
       "    </tr>\n",
       "    <tr>\n",
       "      <th>2013-07-01</th>\n",
       "      <td>4.608208e+07</td>\n",
       "      <td>-4.335828e+05</td>\n",
       "      <td>-0.009409</td>\n",
       "    </tr>\n",
       "    <tr>\n",
       "      <th>2013-08-01</th>\n",
       "      <td>4.591355e+07</td>\n",
       "      <td>-4.775890e+06</td>\n",
       "      <td>-0.104019</td>\n",
       "    </tr>\n",
       "    <tr>\n",
       "      <th>2013-09-01</th>\n",
       "      <td>4.061720e+07</td>\n",
       "      <td>2.814287e+06</td>\n",
       "      <td>0.069288</td>\n",
       "    </tr>\n",
       "    <tr>\n",
       "      <th>2013-10-01</th>\n",
       "      <td>4.369172e+07</td>\n",
       "      <td>7.407174e+06</td>\n",
       "      <td>0.169533</td>\n",
       "    </tr>\n",
       "    <tr>\n",
       "      <th>2013-11-01</th>\n",
       "      <td>5.003383e+07</td>\n",
       "      <td>-6.305910e+06</td>\n",
       "      <td>-0.126033</td>\n",
       "    </tr>\n",
       "    <tr>\n",
       "      <th>2013-12-01</th>\n",
       "      <td>4.400021e+07</td>\n",
       "      <td>-1.845760e+06</td>\n",
       "      <td>-0.041949</td>\n",
       "    </tr>\n",
       "  </tbody>\n",
       "</table>\n",
       "</div>"
      ],
      "text/plain": [
       "            Total Spending  Total Profit  Total Return\n",
       "Date                                                  \n",
       "2013-02-01    1.997949e+07  1.056142e+05      0.005286\n",
       "2013-03-01    2.009471e+07  1.440194e+04      0.000717\n",
       "2013-04-01    2.010911e+07  3.603350e+07      1.791900\n",
       "2013-05-01    5.733354e+07 -5.527287e+06     -0.096406\n",
       "2013-06-01    5.207707e+07 -6.231094e+06     -0.119651\n",
       "2013-07-01    4.608208e+07 -4.335828e+05     -0.009409\n",
       "2013-08-01    4.591355e+07 -4.775890e+06     -0.104019\n",
       "2013-09-01    4.061720e+07  2.814287e+06      0.069288\n",
       "2013-10-01    4.369172e+07  7.407174e+06      0.169533\n",
       "2013-11-01    5.003383e+07 -6.305910e+06     -0.126033\n",
       "2013-12-01    4.400021e+07 -1.845760e+06     -0.041949"
      ]
     },
     "execution_count": 188,
     "metadata": {},
     "output_type": "execute_result"
    }
   ],
   "source": [
    "cols = profit_test.columns\n",
    "finale_pt = pd.DataFrame()\n",
    "tspend = 0\n",
    "tprofit = 0 \n",
    "for k in range (0,profit_test.shape[1], 3):\n",
    "    tspend += profit_test[cols[k]]\n",
    "    tprofit += profit_test[cols[k+2]]\n",
    "finale_pt['Total Spending'] = tspend\n",
    "finale_pt['Total Profit'] = tprofit\n",
    "finale_pt['Total Return'] = finale_pt['Total Profit']/finale_pt['Total Spending']\n",
    "finale_pt"
   ]
  },
  {
   "cell_type": "code",
   "execution_count": 189,
   "metadata": {},
   "outputs": [
    {
     "name": "stdout",
     "output_type": "stream",
     "text": [
      "Keuntungan dalam satu tahun pada tahun 2013 sebesar: 13.993236726991984 %\n"
     ]
    }
   ],
   "source": [
    "print(f'Keuntungan dalam satu tahun pada tahun {year+3} sebesar:', finale_pt['Total Return'].mean()*100,'%')"
   ]
  },
  {
   "cell_type": "markdown",
   "metadata": {},
   "source": [
    "# Loop"
   ]
  },
  {
   "cell_type": "code",
   "execution_count": 190,
   "metadata": {},
   "outputs": [],
   "source": [
    "year = 2010\n",
    "for n in range(10):\n",
    "    year += n\n",
    "    ds = str(year-1)+'-12-01'\n",
    "    de = str(year+2)+'-12-01'\n",
    "\n",
    "    stock = ['TLKM.JK', 'BBNI.JK','ASII.JK', 'ANTM.JK', 'BMRI.JK','BBRI.JK', 'ARTO.JK', 'UNVR.JK', 'AMRT.JK', 'HRUM.JK',\n",
    "            'BBCA.JK', 'INCO.JK', 'ADRO.JK', 'PTBA.JK', 'PGAS.JK']\n",
    "    #stock = ['TSLA', 'DIS', 'NKE', 'AAPL']\n",
    "    df = pd.DataFrame(columns=stock)\n",
    "    for i in stock :\n",
    "        temp = yf.Ticker(i).history(period = '2y', start = ds ,end =de ,interval = '1mo',actions=False)\n",
    "        temp.dropna(inplace = True)\n",
    "        temp['log_return'] = np.log(temp['Close']) - np.log(temp['Close'].shift(1))\n",
    "        temp['log_return'].dropna(inplace = True)\n",
    "        df[i] =temp['log_return'].dropna()\n",
    "    df.dropna(axis = 1, inplace = True)\n",
    "\n",
    "    mu = df.mean().values\n",
    "    C = df.cov().values\n",
    "\n",
    "    def objective(weights): \n",
    "        weights = np.array(weights)\n",
    "        return weights.dot(C).dot(weights.T)\n",
    "    # The constraints\n",
    "    cons = (# The weights must sum up to one.\n",
    "            {\"type\":\"eq\", \"fun\": lambda x: np.sum(x)-1}, \n",
    "            # This constraints says that the inequalities (ineq) must be non-negative.# The expected daily return of our portfolio and we want to be at greater than 0.002352\n",
    "            #{\"type\": \"ineq\", \"fun\": lambda x: np.sum(mu*x)-0.06}\n",
    "\n",
    "            )\n",
    "    # Every stock can get any weight from 0 to 1\n",
    "    bounds = tuple((0,1) for x in range(mu.shape[0]))\n",
    "    # Initialize the weights with an even split\n",
    "    # In out case each stock will have 10% at the beginning\n",
    "    guess = [1./mu.shape[0] for x in range(mu.shape[0])]\n",
    "    optimized_results = minimize(objective, guess, method = \"SLSQP\", bounds=bounds, constraints=cons)\n",
    "    x_ = optimized_results.x\n",
    "    print(np.sum(np.round(x_,5)))\n",
    "    print(f'return :', x_.dot(mu)*100, '%')\n",
    "    print(f'risk :', x_.dot(C).dot(x_)*100, '%')\n",
    "    print(f'Total Money :',finale.sum(axis=1)[-1])\n",
    "    print(f'Total Idle Money :', start - finale.sum(axis=1)[-1])\n",
    "    port_ = dict(zip(df.columns.values,np.round(x_,5)))\n",
    "    port = dict()\n",
    "    for (key,value) in port_.items():\n",
    "        if value >0 : \n",
    "            port[key] = value\n",
    "    start = 2e7 \n",
    "    budget_ = dict()\n",
    "    for (key,value) in port.items():\n",
    "        if value >0 : \n",
    "            budget_[key] = value*start\n",
    "    budget = pd.DataFrame.from_dict(data= budget_, orient= 'index').T\n",
    "    budget.rename(index={0: 'Total Spread'}, inplace= True)\n",
    "    expense = pd.DataFrame(columns=port.keys())\n",
    "\n",
    "    bs = str(year+2)+'-12-31'\n",
    "    be = str(year+3)+'-01-01'\n",
    "    for item in port.keys(): \n",
    "        temp = yf.Ticker(item).history(period = '1d', start = bs, end = be, interval = '1mo',actions=False)\n",
    "        expense[item] = temp['Close']*100 #1 lot\n",
    "    expense.rename(index={expense.index[0]: str('Closing ' + str(expense.index[0]).split(' ')[0])}, inplace= True)\n",
    "    qty = pd.concat([expense,budget])\n",
    "    temp_ = pd.DataFrame(np.round(qty.iloc[1] / qty.iloc[0],0)).T\n",
    "    temp_.rename(index={0: 'Total Lot'}, inplace= True)\n",
    "    qty = pd.concat([qty, temp_])\n",
    "    spend = pd.DataFrame(np.round(qty.iloc[2] * qty.iloc[0],0)).T\n",
    "    finale = pd.concat([qty, spend])\n",
    "    finale.rename(index={0: 'Total Spending'}, inplace= True)\n",
    "    finale\n",
    "    buy = finale.columns.values\n",
    "    bs = str(year+2)+'-12-31'\n",
    "    be = str(year+4)+'-01-01'\n",
    "    profit_test = pd.DataFrame()\n",
    "    for item in buy:\n",
    "        temp = yf.Ticker(item).history(period = '1y', start = bs, end = be, interval = '1mo',actions=False)\n",
    "        temp.dropna(inplace = True)\n",
    "        temp['buy_'+item] = finale[item].loc['Total Lot'] * temp['Open'] * 100\n",
    "        temp['sell_'+item] = finale[item].loc['Total Lot'] * temp['Close'] * 100\n",
    "        profit_test['buy_'+item] = temp['buy_'+item].dropna()\n",
    "        profit_test['sell_'+item] = temp['sell_'+item].dropna()\n",
    "        profit_test['return_'+item] =  profit_test['sell_'+item].iloc[1:] - profit_test['buy_'+item].iloc[:-1]\n",
    "    profit_test.dropna(inplace = True)\n",
    "    cols = profit_test.columns\n",
    "    finale_pt = pd.DataFrame()\n",
    "    tspend = 0\n",
    "    tprofit = 0 \n",
    "    for k in range (0,profit_test.shape[1], 3):\n",
    "        tspend += profit_test[cols[k]]\n",
    "        tprofit += profit_test[cols[k+2]]\n",
    "    finale_pt['Total Spending'] = tspend\n",
    "    finale_pt['Total Profit'] = tprofit\n",
    "    finale_pt['Total Return'] = finale_pt['Total Profit']/finale_pt['Total Spending']\n",
    "    finale_pt.to_csv('Profit Test' +str(year)+'.csv')\n",
    "    print(f'Keuntungan dalam satu tahun pada tahun {year+3} sebesar:', profit_test['total_return'].mean()/start*100)"
   ]
  }
 ],
 "metadata": {
  "interpreter": {
   "hash": "a063a9d6d4095dba70f7d4a438ef288e94ffec589b0525f5b20de998ec61033a"
  },
  "kernelspec": {
   "display_name": "Python 3.8.12 ('base')",
   "language": "python",
   "name": "python3"
  },
  "language_info": {
   "codemirror_mode": {
    "name": "ipython",
    "version": 3
   },
   "file_extension": ".py",
   "mimetype": "text/x-python",
   "name": "python",
   "nbconvert_exporter": "python",
   "pygments_lexer": "ipython3",
   "version": "3.8.12"
  },
  "orig_nbformat": 4
 },
 "nbformat": 4,
 "nbformat_minor": 2
}
